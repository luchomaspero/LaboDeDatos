{
 "cells": [
  {
   "cell_type": "code",
   "execution_count": 5,
   "id": "7a38284f-6c21-4c27-b641-acc84ec12a38",
   "metadata": {},
   "outputs": [
    {
     "data": {
      "text/plain": [
       "14.0"
      ]
     },
     "execution_count": 5,
     "metadata": {},
     "output_type": "execute_result"
    }
   ],
   "source": [
    "2 + 2\n",
    "a = 2\n",
    "b = 5\n",
    "a **3 #8\n",
    "16 % 5 # probar con otros numeros para entender que significa\n",
    "2 * a **2 + 0.5 * b + ( a + b ) / 2 # 14"
   ]
  },
  {
   "cell_type": "code",
   "execution_count": 10,
   "id": "b9ef92d8-5250-4c88-85b0-38af83833f97",
   "metadata": {},
   "outputs": [
    {
     "data": {
      "text/plain": [
       "True"
      ]
     },
     "execution_count": 10,
     "metadata": {},
     "output_type": "execute_result"
    }
   ],
   "source": [
    "a = True\n",
    "b = False\n",
    "a == b #False\n",
    "a | b #True\n",
    "a == ( not b ) #True\n"
   ]
  },
  {
   "cell_type": "code",
   "execution_count": 16,
   "id": "3324f583-f103-4a87-8fe8-2ead8fcc8773",
   "metadata": {},
   "outputs": [
    {
     "data": {
      "text/plain": [
       "(3, 4, 2)"
      ]
     },
     "execution_count": 16,
     "metadata": {},
     "output_type": "execute_result"
    }
   ],
   "source": [
    "a , b , c = 3 , 4 , 2 #a = 3, b=4,c=2\n",
    "a > b #false\n",
    "a <= b #true\n",
    "a != b #true\n",
    "a == b #false\n",
    "not ( a > b ) #true\n",
    "(( c > a ) or (10 * c > b ) ) and not ( b / a > c ) #True"
   ]
  },
  {
   "cell_type": "code",
   "execution_count": 19,
   "id": "d0f1c41e-ca7c-481d-8c37-4f49b2cef006",
   "metadata": {},
   "outputs": [
    {
     "data": {
      "text/plain": [
       "([1, 2, 3.0, ' hola ', 10], 1, 2, 10)"
      ]
     },
     "execution_count": 19,
     "metadata": {},
     "output_type": "execute_result"
    }
   ],
   "source": [
    "s = [1 , 2 , 3.0 , \" hola \", 7 + 3]\n",
    "s , s [0] , s [1] , s [-1]\n"
   ]
  },
  {
   "cell_type": "code",
   "execution_count": 20,
   "id": "4da044c2-c268-43b8-81ba-a075aafd7547",
   "metadata": {},
   "outputs": [
    {
     "data": {
      "text/plain": [
       "(array([1, 2, 3]),\n",
       " array([1.2       , 7.        , 3.14159265]),\n",
       " array([2.2       , 9.        , 6.14159265]))"
      ]
     },
     "execution_count": 20,
     "metadata": {},
     "output_type": "execute_result"
    }
   ],
   "source": [
    "import numpy as np\n",
    "v = np . array ([1 ,2 ,3])\n",
    "w = np . array ([1.2 , 7 , np . pi ])\n",
    "v , w , v + w"
   ]
  },
  {
   "cell_type": "code",
   "execution_count": 27,
   "id": "f79976d6-eff6-4899-9e55-9a6e834e6605",
   "metadata": {},
   "outputs": [
    {
     "name": "stdout",
     "output_type": "stream",
     "text": [
      "v           == [1.   2.   2.72 7.  ]\n",
      "w           == [1.2  3.14 4.   5.  ]\n",
      "v + w       == [ 2.2   5.14  6.72 12.  ]\n",
      "v ** 2      == [ 1.    4.    7.39 49.  ]\n",
      "v % 2       == [1.   0.   0.72 1.  ]\n",
      "np.sum(v)   == 12.718281828459045\n",
      "np. sqrt (w) == [1.1  1.77 2.   2.24]\n",
      "v > 3       == [False False False  True]\n",
      "w < 3.5     == [ True  True False False]\n"
     ]
    }
   ],
   "source": [
    "np . set_printoptions ( precision =2 , suppress = True )\n",
    "v = np . array ([1 ,2 , np .e ,7])\n",
    "w = np . array ([1.2 , np . pi , 4 , 5])\n",
    "for expr in [\"v\", \"w\", \"v + w\", \"v ** 2\", \"v % 2\", \"np.sum(v)\", \"np. sqrt (w)\", \"v > 3\", \"w < 3.5 \"]:\n",
    "    print ( f\"{ expr :11s} == { eval ( expr )}\")\n"
   ]
  },
  {
   "cell_type": "code",
   "execution_count": 34,
   "id": "e0318462-2c7c-41ed-9504-45d81fc8609b",
   "metadata": {},
   "outputs": [
    {
     "data": {
      "text/plain": [
       "array([False, False, False, False])"
      ]
     },
     "execution_count": 34,
     "metadata": {},
     "output_type": "execute_result"
    }
   ],
   "source": [
    "( v > 3) | ( w < 3.5)\n",
    "( v > 3) & ( w < 3.5)"
   ]
  },
  {
   "cell_type": "code",
   "execution_count": 38,
   "id": "02e1efc0-8336-4b6a-8c52-96e7df6cd2f0",
   "metadata": {},
   "outputs": [
    {
     "data": {
      "text/plain": [
       "array([False, False,  True, False])"
      ]
     },
     "execution_count": 38,
     "metadata": {},
     "output_type": "execute_result"
    }
   ],
   "source": [
    "~( v > 3) & ~( w < 3.5)"
   ]
  },
  {
   "cell_type": "code",
   "execution_count": 40,
   "id": "c10ebd43-2d90-4939-88ce-830b00fb5d19",
   "metadata": {},
   "outputs": [
    {
     "data": {
      "text/plain": [
       "array([3.  , 4.  , 4.72, 9.  ])"
      ]
     },
     "execution_count": 40,
     "metadata": {},
     "output_type": "execute_result"
    }
   ],
   "source": [
    "v = np . array ([1 ,2 , np .e ,7]) \n",
    "w = np . array ([1.2 , np . pi , 4 , 5])\n",
    "z = np . array ([0 ,1])\n",
    "v * w # coord x coord\n",
    "v +2 # 3, 4, e+2, 9\n",
    "v + z # Funcionara ? No"
   ]
  },
  {
   "cell_type": "code",
   "execution_count": 44,
   "id": "98be66b7-219b-4f9c-85c5-448a4aed8330",
   "metadata": {},
   "outputs": [
    {
     "data": {
      "text/plain": [
       "(array([1.  , 2.  , 2.72]), array([1.]))"
      ]
     },
     "execution_count": 44,
     "metadata": {},
     "output_type": "execute_result"
    }
   ],
   "source": [
    "v = np . array ([1 , 2 , np .e , 7 , 5])\n",
    "v [0] , v [1] , v [-1] # funcionara ‘v[-2] ‘? || 1, 2, 5. Si, va a dar 7\n",
    "v [[0 , 3]]\n",
    "v [0:3] , v [0:1]\n"
   ]
  },
  {
   "cell_type": "code",
   "execution_count": 47,
   "id": "9ee203ad-c75d-4cad-8d5b-56926afc9b63",
   "metadata": {},
   "outputs": [
    {
     "data": {
      "text/plain": [
       "array([1.  , 2.72, 7.  ])"
      ]
     },
     "execution_count": 47,
     "metadata": {},
     "output_type": "execute_result"
    }
   ],
   "source": [
    "v = np . array ([1 , 2 , np .e , 7 , 5])\n",
    "w = np . array ([1 , 0 , 2 , 5 , 0])\n",
    "v [ v > 2] # e , 7, 5\n",
    "v [ w != 0] # 1, e, 7\n"
   ]
  },
  {
   "cell_type": "code",
   "execution_count": null,
   "id": "cccd254d-983a-4388-a137-8cc2a8bfac57",
   "metadata": {},
   "outputs": [],
   "source": [
    "A = np . array ([[3 , 2 , 2] , [-1 , 0 , 1] , [-2 , 2 , 4]])\n",
    "B = np . array ([[1 , 0 , 0] , [0 , 1 , 0] , [0 , 0 , 1]])\n",
    "C = np . array ([[0 , 1 , -1] , [5 , -2 , 1]])\n",
    "A + B\n",
    "A * B\n",
    "C **2 # bonus : pruebe con np."
   ]
  }
 ],
 "metadata": {
  "kernelspec": {
   "display_name": "Python 3 (ipykernel)",
   "language": "python",
   "name": "python3"
  },
  "language_info": {
   "codemirror_mode": {
    "name": "ipython",
    "version": 3
   },
   "file_extension": ".py",
   "mimetype": "text/x-python",
   "name": "python",
   "nbconvert_exporter": "python",
   "pygments_lexer": "ipython3",
   "version": "3.12.2"
  }
 },
 "nbformat": 4,
 "nbformat_minor": 5
}
