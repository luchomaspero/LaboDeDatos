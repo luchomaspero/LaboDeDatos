{
 "cells": [
  {
   "cell_type": "code",
   "execution_count": 4,
   "id": "76d12a72-fb64-450c-a91d-f31498b43407",
   "metadata": {},
   "outputs": [
    {
     "data": {
      "text/plain": [
       "0    7\n",
       "1    4\n",
       "2   -5\n",
       "3    3\n",
       "dtype: int64"
      ]
     },
     "metadata": {},
     "output_type": "display_data"
    },
    {
     "data": {
      "text/plain": [
       "<NumpyExtensionArray>\n",
       "[7, 4, -5, 3]\n",
       "Length: 4, dtype: int64"
      ]
     },
     "metadata": {},
     "output_type": "display_data"
    },
    {
     "data": {
      "text/plain": [
       "RangeIndex(start=0, stop=4, step=1)"
      ]
     },
     "metadata": {},
     "output_type": "display_data"
    }
   ],
   "source": [
    "import pandas as pd\n",
    "import numpy as np\n",
    "obj = pd . Series ([7 ,4 , -5 ,3])\n",
    "display ( obj )\n",
    "display ( obj . array )\n",
    "display ( obj . index ) # Por default , los indices van de 0 a N -1."
   ]
  },
  {
   "cell_type": "code",
   "execution_count": 5,
   "id": "487b425a-5cdf-4bba-9e2c-eb98e1128b55",
   "metadata": {},
   "outputs": [
    {
     "data": {
      "text/plain": [
       "d    3.141593\n",
       "b    0.000000\n",
       "c   -2.000000\n",
       "a    1.410000\n",
       "dtype: float64"
      ]
     },
     "metadata": {},
     "output_type": "display_data"
    },
    {
     "data": {
      "text/plain": [
       "<NumpyExtensionArray>\n",
       "[3.141592653589793, 0.0, -2.0, 1.41]\n",
       "Length: 4, dtype: float64"
      ]
     },
     "metadata": {},
     "output_type": "display_data"
    },
    {
     "data": {
      "text/plain": [
       "Index(['d', 'b', 'c', 'a'], dtype='object')"
      ]
     },
     "metadata": {},
     "output_type": "display_data"
    }
   ],
   "source": [
    "obj2 = pd . Series ([ np . pi ,0 , -2 ,1.41] , index = [\"d\", \"b\", \"c\", \"a\"])\n",
    "display ( obj2 )\n",
    "display ( obj2 . array )\n",
    "display ( obj2 . index )"
   ]
  },
  {
   "cell_type": "code",
   "execution_count": 9,
   "id": "8beb4ce6-d2a2-46e8-af2e-222d652b1522",
   "metadata": {},
   "outputs": [
    {
     "name": "stderr",
     "output_type": "stream",
     "text": [
      "C:\\Users\\luciomaspero\\AppData\\Local\\Temp\\ipykernel_30324\\4003676245.py:2: FutureWarning: Series.__getitem__ treating keys as positions is deprecated. In a future version, integer keys will always be treated as labels (consistent with DataFrame behavior). To access a value by position, use `ser.iloc[pos]`\n",
      "  obj2 [3]\n"
     ]
    },
    {
     "data": {
      "text/plain": [
       "d    3.141593\n",
       "a    1.410000\n",
       "dtype: float64"
      ]
     },
     "execution_count": 9,
     "metadata": {},
     "output_type": "execute_result"
    }
   ],
   "source": [
    "obj2 [\"a\"]\n",
    "obj2 [3]\n",
    "obj2 [1:3]\n",
    "obj3 = obj2 [[\"a\",\"b\"]]\n",
    "obj3\n",
    "obj3.index\n",
    "obj2[ obj2 >1]"
   ]
  },
  {
   "cell_type": "code",
   "execution_count": 10,
   "id": "308164ff-bc36-4c4c-b229-a8594d0fa8bb",
   "metadata": {},
   "outputs": [
    {
     "data": {
      "text/plain": [
       "d    9.424778\n",
       "b    0.000000\n",
       "c   -6.000000\n",
       "a    4.230000\n",
       "dtype: float64"
      ]
     },
     "execution_count": 10,
     "metadata": {},
     "output_type": "execute_result"
    }
   ],
   "source": [
    "np . exp ( obj2 )\n",
    "obj2 * 3\n"
   ]
  },
  {
   "cell_type": "code",
   "execution_count": 15,
   "id": "a01d04f5-e40a-49da-89db-58f8741deda4",
   "metadata": {},
   "outputs": [
    {
     "data": {
      "text/plain": [
       "c    3\n",
       "a    2\n",
       "b    2\n",
       "x    1\n",
       "Name: count, dtype: int64"
      ]
     },
     "execution_count": 15,
     "metadata": {},
     "output_type": "execute_result"
    }
   ],
   "source": [
    "series1 = pd . Series ([\"a\", \"b\", \"c\", \"b\", \"a\", \"c\", \"c\", \"x\"]) #crea una serie pandas\n",
    "series1 . isin ([\"b\", \"c\"]) #evalua posicion a posicion si el valor esta dentro de [\"b\", \"c\"] \n",
    "series1 . value_counts ()"
   ]
  },
  {
   "cell_type": "code",
   "execution_count": 81,
   "id": "8bfdf794-6351-4cfe-9dfa-c7ce186291b1",
   "metadata": {},
   "outputs": [
    {
     "data": {
      "text/plain": [
       "{'nombre': ['Rodrigo', 'Sergio', 'Cristina', 'Diana'],\n",
       " 'altura': array([178, 172, 175, 168]),\n",
       " 'peso': array([81.2, 76.1, 68.5, 64. ])}"
      ]
     },
     "metadata": {},
     "output_type": "display_data"
    },
    {
     "data": {
      "text/html": [
       "<div>\n",
       "<style scoped>\n",
       "    .dataframe tbody tr th:only-of-type {\n",
       "        vertical-align: middle;\n",
       "    }\n",
       "\n",
       "    .dataframe tbody tr th {\n",
       "        vertical-align: top;\n",
       "    }\n",
       "\n",
       "    .dataframe thead th {\n",
       "        text-align: right;\n",
       "    }\n",
       "</style>\n",
       "<table border=\"1\" class=\"dataframe\">\n",
       "  <thead>\n",
       "    <tr style=\"text-align: right;\">\n",
       "      <th></th>\n",
       "      <th>altura</th>\n",
       "      <th>peso</th>\n",
       "    </tr>\n",
       "    <tr>\n",
       "      <th>nombre</th>\n",
       "      <th></th>\n",
       "      <th></th>\n",
       "    </tr>\n",
       "  </thead>\n",
       "  <tbody>\n",
       "    <tr>\n",
       "      <th>Rodrigo</th>\n",
       "      <td>178</td>\n",
       "      <td>81.2</td>\n",
       "    </tr>\n",
       "    <tr>\n",
       "      <th>Sergio</th>\n",
       "      <td>172</td>\n",
       "      <td>76.1</td>\n",
       "    </tr>\n",
       "    <tr>\n",
       "      <th>Cristina</th>\n",
       "      <td>175</td>\n",
       "      <td>68.5</td>\n",
       "    </tr>\n",
       "    <tr>\n",
       "      <th>Diana</th>\n",
       "      <td>168</td>\n",
       "      <td>64.0</td>\n",
       "    </tr>\n",
       "  </tbody>\n",
       "</table>\n",
       "</div>"
      ],
      "text/plain": [
       "          altura  peso\n",
       "nombre                \n",
       "Rodrigo      178  81.2\n",
       "Sergio       172  76.1\n",
       "Cristina     175  68.5\n",
       "Diana        168  64.0"
      ]
     },
     "metadata": {},
     "output_type": "display_data"
    }
   ],
   "source": [
    "data = {\"nombre\": [\"Rodrigo\", \"Sergio\", \"Cristina\", \"Diana\"] , \"altura\":\n",
    "np . array ([178 , 172 , 175 , 168]) , \"peso\": np . array ([81.2 , 76.1 , 68.5 ,\n",
    "64.0]) }\n",
    "display ( data )\n",
    "pacientes = pd . DataFrame ( data ) . set_index (\"nombre\")\n",
    "display ( pacientes )\n"
   ]
  },
  {
   "cell_type": "code",
   "execution_count": 70,
   "id": "2c428526-4ba2-432c-9319-8829826477fb",
   "metadata": {},
   "outputs": [
    {
     "data": {
      "text/plain": [
       "pandas.core.frame.DataFrame"
      ]
     },
     "metadata": {},
     "output_type": "display_data"
    },
    {
     "data": {
      "text/plain": [
       "dtype('int32')"
      ]
     },
     "metadata": {},
     "output_type": "display_data"
    },
    {
     "data": {
      "text/plain": [
       "dtype('float64')"
      ]
     },
     "metadata": {},
     "output_type": "display_data"
    }
   ],
   "source": [
    "\"\"\"¿Cual es la clase del objeto pacientes? ¿Cual es la clase de cada uno de los vectores columna?\n",
    "(para saber la clase de un objeto, utilizar el comando type, para saber el tipo de datos de un\n",
    "array de numpy, utilizar np.dtype)\"\"\"\n",
    "\n",
    "display(\n",
    "    type(pacientes),\n",
    "    #np.dtype(pacientes['nombre']),\n",
    "    np.dtype(pacientes['altura']),\n",
    "    np.dtype(pacientes['peso'])\n",
    ")\n"
   ]
  },
  {
   "cell_type": "code",
   "execution_count": 73,
   "id": "d9e32858-e5a0-4cfb-af0f-16971d2a3285",
   "metadata": {},
   "outputs": [],
   "source": [
    "\"\"\"Guardar en una variable nueva el vector columna altura. Pueden utilizar pacientes[\"altura\"]\n",
    "o pacientes.altura (la primera opci´on es preferible, la segunda puede dar error si el nombre\n",
    "coincide con alguna funci´on ya existente).\"\"\"\n",
    "\n",
    "\n",
    "alturas = pacientes['altura']\n",
    "alturas2 = pacientes.altura"
   ]
  },
  {
   "cell_type": "code",
   "execution_count": 83,
   "id": "60e835bb-6b8c-4088-b5bd-1e9936a82909",
   "metadata": {},
   "outputs": [
    {
     "data": {
      "text/plain": [
       "178"
      ]
     },
     "execution_count": 83,
     "metadata": {},
     "output_type": "execute_result"
    }
   ],
   "source": [
    "#pacientes[\"Rodrigo\"].altura\n",
    "pacientes[\"altura\"].Rodrigo\n"
   ]
  },
  {
   "cell_type": "code",
   "execution_count": 84,
   "id": "0480effc-46ae-43c3-965d-47b8ea4c3b55",
   "metadata": {},
   "outputs": [],
   "source": [
    "#pip install gapminder\n",
    "from gapminder import gapminder\n",
    "\"\"\"\n",
    "Esto crea un nuevo objeto gapminder. Pueden ver el contenido con el comando con algunos de\n",
    "estos comandos: display(gapminder), gapminder.info(), gapminder.head(), gapminder.tail().\n",
    "\"\"\""
   ]
  },
  {
   "cell_type": "code",
   "execution_count": 94,
   "id": "e48da995-7735-4e78-b42c-fe417b4f2af7",
   "metadata": {},
   "outputs": [
    {
     "name": "stdout",
     "output_type": "stream",
     "text": [
      "<class 'pandas.core.frame.DataFrame'>\n",
      "RangeIndex: 1704 entries, 0 to 1703\n",
      "Data columns (total 6 columns):\n",
      " #   Column     Non-Null Count  Dtype  \n",
      "---  ------     --------------  -----  \n",
      " 0   country    1704 non-null   object \n",
      " 1   continent  1704 non-null   object \n",
      " 2   year       1704 non-null   int64  \n",
      " 3   lifeExp    1704 non-null   float64\n",
      " 4   pop        1704 non-null   int64  \n",
      " 5   gdpPercap  1704 non-null   float64\n",
      "dtypes: float64(2), int64(2), object(2)\n",
      "memory usage: 80.0+ KB\n"
     ]
    },
    {
     "data": {
      "text/plain": [
       "None"
      ]
     },
     "metadata": {},
     "output_type": "display_data"
    }
   ],
   "source": [
    "\"\"\"¿De qu´e clase es el objeto gapminder? ¿Qu´e variables tiene el DataFrame gapminder y de qu´e\n",
    "clase son? ¿Qu´e ´ındices usa?\"\"\"\n",
    "\n",
    "display(gapminder.info())"
   ]
  },
  {
   "cell_type": "code",
   "execution_count": 99,
   "id": "c42b6e88-c580-4dd9-bb17-b8ecf177bdec",
   "metadata": {},
   "outputs": [
    {
     "data": {
      "text/plain": [
       "(6,)"
      ]
     },
     "execution_count": 99,
     "metadata": {},
     "output_type": "execute_result"
    }
   ],
   "source": [
    "#Explorar el tama˜no del DataFrame gapminder usando la funci´on shape.\n",
    "\n"
   ]
  },
  {
   "cell_type": "code",
   "execution_count": null,
   "id": "006eaa38-cd94-4f91-89de-1a2a5b6a1d46",
   "metadata": {},
   "outputs": [],
   "source": []
  }
 ],
 "metadata": {
  "kernelspec": {
   "display_name": "Python 3 (ipykernel)",
   "language": "python",
   "name": "python3"
  },
  "language_info": {
   "codemirror_mode": {
    "name": "ipython",
    "version": 3
   },
   "file_extension": ".py",
   "mimetype": "text/x-python",
   "name": "python",
   "nbconvert_exporter": "python",
   "pygments_lexer": "ipython3",
   "version": "3.11.5"
  }
 },
 "nbformat": 4,
 "nbformat_minor": 5
}
