{
 "cells": [
  {
   "cell_type": "code",
   "execution_count": 2,
   "id": "003f0f0e-7abb-459f-b6cf-8ceedffc6820",
   "metadata": {},
   "outputs": [],
   "source": [
    "\"\"\"1a.\"\"\"\n",
    "def coefs_rl(x, y):\n",
    "    beta_1 = sum((x-x.mean())*(y-y.mean()))/sum((x-x.mean())**2)\n",
    "    beta_0 = y.mean()-beta_1*x.mean()\n",
    "    return beta_1 , beta_0\n"
   ]
  },
  {
   "cell_type": "code",
   "execution_count": 9,
   "id": "c38ccaab-b6fd-4e32-9cb4-40d740ce359e",
   "metadata": {},
   "outputs": [
    {
     "name": "stdout",
     "output_type": "stream",
     "text": [
      "(0.2317083916083916, -389.6063445221445)\n",
      "[[0.23170839]] -389.6063445221444\n"
     ]
    }
   ],
   "source": [
    "\"\"\"\n",
    "(b) Con el dataset gapminder, utilizar la función implementada en el item anterior para\n",
    "realizar una regresión lineal entre los años y la expectiva de vida en Argentina. Comparar\n",
    "los coeficientes con los obtenidos por scikit-learn.\n",
    "\n",
    "datos = gapminder [???]\n",
    "print(coefs_rl (datos [???] , datos [???]))\n",
    "modelo = linear_model . LinearRegression ()\n",
    "modelo.fit(datos [[???]] , datos [[???]])\n",
    "beta_1 = modelo .???\n",
    "beta_0 = modelo .???\n",
    "print(beta_1 , beta_0)\n",
    "\"\"\"\n",
    "\n",
    "from gapminder import gapminder\n",
    "\n",
    "from sklearn import linear_model    # Herramientas de modelos lineales\n",
    "from sklearn.preprocessing import PolynomialFeatures    # Herramientas de polinomios\n",
    "from sklearn.metrics import mean_squared_error, r2_score    # Medidas de desempeño\n",
    "\n",
    "datos = gapminder[gapminder.country == 'Argentina']\n",
    "# print(datos)\n",
    "print(coefs_rl(datos.year, datos.lifeExp))\n",
    "modelo = linear_model.LinearRegression()\n",
    "modelo.fit(datos[['year']], datos[['lifeExp']])\n",
    "beta_1 = modelo.coef_\n",
    "beta_0 = modelo.intercept_.item()\n",
    "print(beta_1 , beta_0)"
   ]
  },
  {
   "cell_type": "code",
   "execution_count": null,
   "id": "ffb47421-ebf2-4e12-b9bd-51bf49486556",
   "metadata": {},
   "outputs": [],
   "source": []
  }
 ],
 "metadata": {
  "kernelspec": {
   "display_name": "Python 3 (ipykernel)",
   "language": "python",
   "name": "python3"
  },
  "language_info": {
   "codemirror_mode": {
    "name": "ipython",
    "version": 3
   },
   "file_extension": ".py",
   "mimetype": "text/x-python",
   "name": "python",
   "nbconvert_exporter": "python",
   "pygments_lexer": "ipython3",
   "version": "3.12.2"
  }
 },
 "nbformat": 4,
 "nbformat_minor": 5
}
