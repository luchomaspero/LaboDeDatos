{
 "cells": [
  {
   "cell_type": "code",
   "execution_count": 1,
   "id": "25da9e2f-6018-40d6-be72-c480adf08199",
   "metadata": {},
   "outputs": [],
   "source": [
    "import pandas as pd\n",
    "import numpy as np"
   ]
  },
  {
   "cell_type": "markdown",
   "id": "78fd4c98-6318-4ae4-80f9-48d9f3d11280",
   "metadata": {},
   "source": [
    "### Clustering"
   ]
  },
  {
   "cell_type": "markdown",
   "id": "ee74ae8f-ee3a-41fa-a1da-3df8670a9133",
   "metadata": {},
   "source": [
    "#### 1. Dada la siguiente tabla de datos\n",
    "x = [-1, 0, 1, 8/5, 2, 3, 4]\n",
    "\n",
    "y = [2, 1, 2, 2, 1, 2, 1]\n",
    "\n",
    "Utilizar “a mano” el m´etodo de k-medias para agrupar los datos en 2 clusters.\n",
    "\n",
    "(a) Comenzando con b1 = (1, 2) y b2 = (3, 2)\n",
    "\n",
    "(b) Comenzando con b1 = (0, 1) y b2 = (3, 2)\n",
    "\n",
    "¿Se obtiene la misma clasificaci´on? ¿Alguna de las clasificaciones obtenidas le parece m´as\n",
    "apropiada?\n"
   ]
  },
  {
   "cell_type": "markdown",
   "id": "196b9dee-a1ad-4c65-8cf6-dea0d4c0ddd2",
   "metadata": {},
   "source": [
    "## Pasos del algoritmo k-means:\n",
    "\n",
    "### Asignación:\n",
    "Asignar cada punto de datos al clúster cuyo centroide (medida) está más cercano.\n",
    "\n",
    "### Actualización:\n",
    "Calcular la nueva posición de los centroides como la media de todos los puntos asignados a ese clúster.\n",
    "\n",
    "### Repetir los pasos de asignación y actualización hasta que los centroides no cambien (o cambien muy poco).\n",
    "\n",
    "## Datos:\n",
    "\n",
    "| x    | -1    | 0     | 1    | 8/5   | 2    | 3    | 4    |\n",
    "|------|-------|-------|------|-------|------|------|------|\n",
    "| y    | 2     | 1     | 2    | 2     | 1    | 2    | 1    |\n",
    "\n",
    "### Conjunto (a):\n",
    "**Centroides iniciales:**\n",
    "\n",
    "- 𝑏1 = (1, 2)\n",
    "- 𝑏2 = (3, 2)\n",
    "\n",
    "**Iteración 1:**\n",
    "\n",
    "**Asignación:**\n",
    "\n",
    "- Punto (-1, 2) está más cerca de 𝑏1.\n",
    "- Punto (0, 1) está más cerca de 𝑏1.\n",
    "- Punto (1, 2) está más cerca de 𝑏1.\n",
    "- Punto (8/5, 2) está más cerca de 𝑏1.\n",
    "- Punto (2, 1) está más cerca de 𝑏2.\n",
    "- Punto (3, 2) está más cerca de 𝑏2.\n",
    "- Punto (4, 1) está más cerca de 𝑏2.\n",
    "\n",
    "**Actualización:**\n",
    "\n",
    "Nuevo 𝑏1: (5/8, 1.75)\n",
    "Nuevo 𝑏2: (3, 1.33)\n",
    "\n",
    "### Conjunto (b):\n",
    "**Centroides iniciales:**\n",
    "\n",
    "- 𝑏1 = (0, 1)\n",
    "- 𝑏2 = (3, 2)\n",
    "\n",
    "**Iteración 1:**\n",
    "\n",
    "**Asignación:**\n",
    "\n",
    "- Punto (-1, 2) está más cerca de 𝑏1.\n",
    "- Punto (0, 1) está más cerca de 𝑏1.\n",
    "- Punto (1, 2) está más cerca de 𝑏1.\n",
    "- Punto (8/5, 2) está más cerca de 𝑏1.\n",
    "- Punto (2, 1) está más cerca de 𝑏2.\n",
    "- Punto (3, 2) está más cerca de 𝑏2.\n",
    "- Punto (4, 1) está más cerca de 𝑏2.\n",
    "\n",
    "**Actualización:**\n",
    "\n",
    "Nuevo 𝑏1: (5/8, 1.75)\n",
    "Nuevo 𝑏2: (3, 1.33)\n",
    "\n",
    "## Conclusión:\n",
    "\n",
    "En ambas inicializaciones, después de una iteración de k-means, obtenemos los mismos nuevos centroides. Esto sugiere que las clasificaciones convergen a una solución similar independientemente de los puntos iniciales dados. Por lo tanto, ambas inicializaciones dan lugar a la misma clasificación final, y ninguna de las clasificaciones obtenidas parece más apropiada que la otra, ya que convergen a la misma solución.\n"
   ]
  },
  {
   "cell_type": "code",
   "execution_count": null,
   "id": "05c26c9e-5553-4d81-a2f3-bd4a1037b7df",
   "metadata": {},
   "outputs": [],
   "source": []
  },
  {
   "cell_type": "code",
   "execution_count": null,
   "id": "86ceef64-7c74-4b4c-8cae-e20818307c65",
   "metadata": {},
   "outputs": [],
   "source": []
  },
  {
   "cell_type": "code",
   "execution_count": null,
   "id": "a00c590e-1696-4d43-af3c-1e1b4b3ceccf",
   "metadata": {},
   "outputs": [],
   "source": []
  },
  {
   "cell_type": "code",
   "execution_count": null,
   "id": "35065ee0-8cfa-476b-82d5-90196ce6f1d6",
   "metadata": {},
   "outputs": [],
   "source": []
  },
  {
   "cell_type": "code",
   "execution_count": null,
   "id": "48b2f820-d119-4fa8-b023-b2936bcf7b6b",
   "metadata": {},
   "outputs": [],
   "source": []
  },
  {
   "cell_type": "code",
   "execution_count": null,
   "id": "72682cdc-3fcc-4437-8be4-4ce4268af142",
   "metadata": {},
   "outputs": [],
   "source": []
  },
  {
   "cell_type": "code",
   "execution_count": null,
   "id": "09af48ae-519b-4bde-b3a1-de757e66a1ab",
   "metadata": {},
   "outputs": [],
   "source": []
  },
  {
   "cell_type": "code",
   "execution_count": null,
   "id": "08b9d76c-b27e-4b4e-9faa-0faf37dd0898",
   "metadata": {},
   "outputs": [],
   "source": []
  },
  {
   "cell_type": "code",
   "execution_count": null,
   "id": "5b038d33-6d84-4990-9f0f-d211e7a7f3b7",
   "metadata": {},
   "outputs": [],
   "source": []
  },
  {
   "cell_type": "code",
   "execution_count": null,
   "id": "ce5bca06-9544-4f55-bfeb-a30d5d767a80",
   "metadata": {},
   "outputs": [],
   "source": []
  },
  {
   "cell_type": "code",
   "execution_count": null,
   "id": "eaeb8495-ff23-4bc6-8b28-aeb41dd509ed",
   "metadata": {},
   "outputs": [],
   "source": []
  },
  {
   "cell_type": "code",
   "execution_count": null,
   "id": "91e75344-28e3-43a7-afa1-8b3f3e18b9db",
   "metadata": {},
   "outputs": [],
   "source": []
  }
 ],
 "metadata": {
  "kernelspec": {
   "display_name": "Python 3 (ipykernel)",
   "language": "python",
   "name": "python3"
  },
  "language_info": {
   "codemirror_mode": {
    "name": "ipython",
    "version": 3
   },
   "file_extension": ".py",
   "mimetype": "text/x-python",
   "name": "python",
   "nbconvert_exporter": "python",
   "pygments_lexer": "ipython3",
   "version": "3.12.2"
  }
 },
 "nbformat": 4,
 "nbformat_minor": 5
}
