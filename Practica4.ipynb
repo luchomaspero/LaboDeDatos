{
 "cells": [
  {
   "cell_type": "code",
   "execution_count": null,
   "id": "003f0f0e-7abb-459f-b6cf-8ceedffc6820",
   "metadata": {},
   "outputs": [],
   "source": [
    "\"\"\"1a.\"\"\"\n",
    "def coefs_rl(x, y):\n",
    "    beta_1 = ???\n",
    "    beta_0 = ???\n",
    "    return beta_1 , beta_0\n",
    "\n"
   ]
  }
 ],
 "metadata": {
  "kernelspec": {
   "display_name": "Python 3 (ipykernel)",
   "language": "python",
   "name": "python3"
  },
  "language_info": {
   "codemirror_mode": {
    "name": "ipython",
    "version": 3
   },
   "file_extension": ".py",
   "mimetype": "text/x-python",
   "name": "python",
   "nbconvert_exporter": "python",
   "pygments_lexer": "ipython3",
   "version": "3.12.2"
  }
 },
 "nbformat": 4,
 "nbformat_minor": 5
}
