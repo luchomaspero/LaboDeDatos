{
 "cells": [
  {
   "cell_type": "code",
   "execution_count": 274,
   "id": "42d60abd",
   "metadata": {},
   "outputs": [],
   "source": [
    "import numpy as np\n",
    "import pandas as pd\n",
    "import seaborn as sns\n",
    "import seaborn.objects as so\n",
    "\n",
    "import matplotlib.pyplot as plt\n",
    "\n",
    "from sklearn import linear_model    # Herramientas de modelos lineales\n",
    "from sklearn.metrics import mean_squared_error, r2_score    # Medidas de desempeño\n",
    "from sklearn.preprocessing import PolynomialFeatures    # Herramientas de polinomios\n",
    "\n",
    "from sklearn.model_selection import KFold\n",
    "from sklearn.model_selection import train_test_split\n",
    "\n",
    "from formulaic import model_matrix\n",
    "from formulaic import Formula"
   ]
  },
  {
   "cell_type": "markdown",
   "id": "77f2637a",
   "metadata": {},
   "source": [
    "# Prepocesamiento\n",
    "En muchos casos, necesitamos realizar algunas transformaciones previas en los datos antes de ajustar un modelo de regresión.\n",
    "Estas transformaciones pueden ser:\n",
    "1. Transformar variables binarias a 0-1.\n",
    "2. Transformar variables categóricas a variables dummies por One Hot Encoding.\n",
    "3. Normalizar variables numéricas, escalándolas para que los valores caigan en el intervalo [0,1]\n",
    "4. Normalizar variables numéricas llevándolas a media 0 y varianza 1.\n",
    "\n",
    "Si separamos los datos en conjunto de entrenamiento y testeo, debemos calcular los parámetros de la transformación en el conjunto de entrenamiento y utilizar esos mismos parámetros en el conjunto de testeo. \n",
    "\n",
    "Debemos evitar que los datos de **testeo** se filtren en el **entrenamiento**."
   ]
  },
  {
   "cell_type": "markdown",
   "id": "0ab91d00",
   "metadata": {},
   "source": [
    "## Ejemplo 1: escalamiento MinMax\n",
    "\n",
    "Este escalamiento es una transformación lineal. Es decir, se aplica una fórmula de la forma\n",
    "$$\n",
    "x_{\\text{nuevo}} = a \\cdot x + b\n",
    "$$\n",
    "\n",
    "Los valores de $a$ y $b$ se eligen de forma que los valores de la variable transformada se encuentren en el intervalo [0,1].\n",
    "\n",
    "La fórmula que debemos aplicar es\n",
    "$$\n",
    "x_{\\text{nuevo}} = \\frac{x - x_{\\min}}{x_{\\max} - x_{\\min}}\n",
    "$$\n"
   ]
  },
  {
   "cell_type": "markdown",
   "id": "57eaf881",
   "metadata": {},
   "source": [
    "**Pregunta:** ¿Cuáles pueden ser las ventajas de este escalamiento, comparado con solamente dividir con el máximo?\n",
    "\n",
    "<details> <summary>Respuesta (click aquí)</summary>\n",
    "El escalamiento MinMax lleva a que todas las variables tengan una dispersión similar y por lo tanto podamos comparar el peso de cada variable en el modelo mirando los coeficientes.\n",
    "\n",
    "Ejemplo: si una variable tiene todos valores entre 390 y 400, si solo dividimos por el máximo quedaron valores entre 0.975 y 1. Para que esas pequeñas diferencias impacten en el modelo, necesitaremos multiplicar la variable por un coeficiente alto.\n",
    "    \n",
    "Supongamos que   \n",
    "    \n",
    "1. $x_1$ tiene valores en el intervalo $[0,1]$ \n",
    "2. $x_2$ tiene valores en el intervalo $[0.975, 1]$\n",
    "    \n",
    "En un modelo\n",
    "$$ y = 4 x_1 + 4 x_2$$\n",
    "la variable $x_1$ tiene más peso. Las observaciones con puntaje alto van a ser las que tenga un valor de $x_1$ alto, las variaciones en $x_2$ van a tener un aporte muy menor.\n",
    "    \n",
    "Ejemplo: en muchos concursos docentes, la prueba de oposición tiene un puntaje alto (50 o 70 puntos sobre 100), y por lo tanto a priori es la parte más importante del concurso. Sin embargo en muchos concursos los valores son similares, la mayoria entre 60 y 70. Por lo tanto el peso de la prueba de oposición en el concurso termina siendo mucho menor.\n",
    "</details>"
   ]
  },
  {
   "cell_type": "markdown",
   "id": "c1843ec1",
   "metadata": {},
   "source": [
    "**Pregunta:** ¿En qué situación este escalamiento podría resultar inadecuado?\n",
    "\n",
    "<details>\n",
    "    <summary>Respuesta (click aquí)</summary>\n",
    "\n",
    "Este escalamiento se ve muy influenciado por la presencia de outliers.\n",
    "    \n",
    "Si tenemos outliers en una variable, llevaremos el outlier a 1, y los demás valores a valores muy pequeños.\n",
    "</details>"
   ]
  },
  {
   "cell_type": "markdown",
   "id": "4909fdb7",
   "metadata": {},
   "source": [
    "Utilizaremos este escalamiento para ajustar datos de Basketball. Utilizaremos una base de datos de jugadores universitarios de Estados Unidos. Queremos ajustar la cantidad de puntos promedio de cada jugador en función de otras características del jugador."
   ]
  },
  {
   "cell_type": "code",
   "execution_count": 275,
   "id": "83c231f0",
   "metadata": {},
   "outputs": [
    {
     "name": "stderr",
     "output_type": "stream",
     "text": [
      "C:\\Users\\luciomaspero\\AppData\\Local\\Temp\\ipykernel_4416\\3232183107.py:1: DtypeWarning: Columns (27) have mixed types. Specify dtype option on import or set low_memory=False.\n",
      "  basketball = pd.read_csv(\"../Datos/CollegeBasketballPlayers2009-2021.csv\")\n"
     ]
    },
    {
     "data": {
      "text/html": [
       "<div>\n",
       "<style scoped>\n",
       "    .dataframe tbody tr th:only-of-type {\n",
       "        vertical-align: middle;\n",
       "    }\n",
       "\n",
       "    .dataframe tbody tr th {\n",
       "        vertical-align: top;\n",
       "    }\n",
       "\n",
       "    .dataframe thead th {\n",
       "        text-align: right;\n",
       "    }\n",
       "</style>\n",
       "<table border=\"1\" class=\"dataframe\">\n",
       "  <thead>\n",
       "    <tr style=\"text-align: right;\">\n",
       "      <th></th>\n",
       "      <th>player_name</th>\n",
       "      <th>team</th>\n",
       "      <th>conf</th>\n",
       "      <th>GP</th>\n",
       "      <th>Min_per</th>\n",
       "      <th>Ortg</th>\n",
       "      <th>usg</th>\n",
       "      <th>eFG</th>\n",
       "      <th>TS_per</th>\n",
       "      <th>ORB_per</th>\n",
       "      <th>...</th>\n",
       "      <th>dgbpm</th>\n",
       "      <th>oreb</th>\n",
       "      <th>dreb</th>\n",
       "      <th>treb</th>\n",
       "      <th>ast</th>\n",
       "      <th>stl</th>\n",
       "      <th>blk</th>\n",
       "      <th>pts</th>\n",
       "      <th>Unnamed: 64</th>\n",
       "      <th>Unnamed: 65</th>\n",
       "    </tr>\n",
       "  </thead>\n",
       "  <tbody>\n",
       "    <tr>\n",
       "      <th>0</th>\n",
       "      <td>DeAndrae Ross</td>\n",
       "      <td>South Alabama</td>\n",
       "      <td>SB</td>\n",
       "      <td>26</td>\n",
       "      <td>29.5</td>\n",
       "      <td>97.3</td>\n",
       "      <td>16.6</td>\n",
       "      <td>42.5</td>\n",
       "      <td>44.43</td>\n",
       "      <td>1.6</td>\n",
       "      <td>...</td>\n",
       "      <td>-1.941150</td>\n",
       "      <td>0.1923</td>\n",
       "      <td>0.6154</td>\n",
       "      <td>0.8077</td>\n",
       "      <td>1.1923</td>\n",
       "      <td>0.3462</td>\n",
       "      <td>0.0385</td>\n",
       "      <td>3.8846</td>\n",
       "      <td>NaN</td>\n",
       "      <td>6.22026</td>\n",
       "    </tr>\n",
       "    <tr>\n",
       "      <th>1</th>\n",
       "      <td>Pooh Williams</td>\n",
       "      <td>Utah St.</td>\n",
       "      <td>WAC</td>\n",
       "      <td>34</td>\n",
       "      <td>60.9</td>\n",
       "      <td>108.3</td>\n",
       "      <td>14.9</td>\n",
       "      <td>52.4</td>\n",
       "      <td>54.48</td>\n",
       "      <td>3.8</td>\n",
       "      <td>...</td>\n",
       "      <td>-0.247934</td>\n",
       "      <td>0.6765</td>\n",
       "      <td>1.2647</td>\n",
       "      <td>1.9412</td>\n",
       "      <td>1.8235</td>\n",
       "      <td>0.4118</td>\n",
       "      <td>0.2353</td>\n",
       "      <td>5.9412</td>\n",
       "      <td>NaN</td>\n",
       "      <td>3.94375</td>\n",
       "    </tr>\n",
       "    <tr>\n",
       "      <th>2</th>\n",
       "      <td>Jesus Verdejo</td>\n",
       "      <td>South Florida</td>\n",
       "      <td>BE</td>\n",
       "      <td>27</td>\n",
       "      <td>72.0</td>\n",
       "      <td>96.2</td>\n",
       "      <td>21.8</td>\n",
       "      <td>45.7</td>\n",
       "      <td>47.98</td>\n",
       "      <td>2.1</td>\n",
       "      <td>...</td>\n",
       "      <td>-0.883163</td>\n",
       "      <td>0.6296</td>\n",
       "      <td>2.3333</td>\n",
       "      <td>2.9630</td>\n",
       "      <td>1.9630</td>\n",
       "      <td>0.4815</td>\n",
       "      <td>0.0000</td>\n",
       "      <td>12.1852</td>\n",
       "      <td>NaN</td>\n",
       "      <td>10.92680</td>\n",
       "    </tr>\n",
       "    <tr>\n",
       "      <th>3</th>\n",
       "      <td>Mike Hornbuckle</td>\n",
       "      <td>Pepperdine</td>\n",
       "      <td>WCC</td>\n",
       "      <td>30</td>\n",
       "      <td>44.5</td>\n",
       "      <td>97.7</td>\n",
       "      <td>16.0</td>\n",
       "      <td>53.6</td>\n",
       "      <td>53.69</td>\n",
       "      <td>4.1</td>\n",
       "      <td>...</td>\n",
       "      <td>-0.393459</td>\n",
       "      <td>0.7000</td>\n",
       "      <td>1.4333</td>\n",
       "      <td>2.1333</td>\n",
       "      <td>1.1000</td>\n",
       "      <td>0.5667</td>\n",
       "      <td>0.1333</td>\n",
       "      <td>4.9333</td>\n",
       "      <td>NaN</td>\n",
       "      <td>6.77427</td>\n",
       "    </tr>\n",
       "    <tr>\n",
       "      <th>4</th>\n",
       "      <td>Anthony Brown</td>\n",
       "      <td>Pacific</td>\n",
       "      <td>BW</td>\n",
       "      <td>33</td>\n",
       "      <td>56.2</td>\n",
       "      <td>96.5</td>\n",
       "      <td>22.0</td>\n",
       "      <td>52.8</td>\n",
       "      <td>54.31</td>\n",
       "      <td>8.3</td>\n",
       "      <td>...</td>\n",
       "      <td>-0.668318</td>\n",
       "      <td>1.4242</td>\n",
       "      <td>3.3030</td>\n",
       "      <td>4.7273</td>\n",
       "      <td>0.8485</td>\n",
       "      <td>0.4545</td>\n",
       "      <td>0.3333</td>\n",
       "      <td>7.5758</td>\n",
       "      <td>NaN</td>\n",
       "      <td>0.00000</td>\n",
       "    </tr>\n",
       "  </tbody>\n",
       "</table>\n",
       "<p>5 rows × 66 columns</p>\n",
       "</div>"
      ],
      "text/plain": [
       "       player_name           team conf  GP  Min_per   Ortg   usg   eFG  \\\n",
       "0    DeAndrae Ross  South Alabama   SB  26     29.5   97.3  16.6  42.5   \n",
       "1    Pooh Williams       Utah St.  WAC  34     60.9  108.3  14.9  52.4   \n",
       "2    Jesus Verdejo  South Florida   BE  27     72.0   96.2  21.8  45.7   \n",
       "3  Mike Hornbuckle     Pepperdine  WCC  30     44.5   97.7  16.0  53.6   \n",
       "4    Anthony Brown        Pacific   BW  33     56.2   96.5  22.0  52.8   \n",
       "\n",
       "   TS_per  ORB_per  ...     dgbpm    oreb    dreb    treb     ast     stl  \\\n",
       "0   44.43      1.6  ... -1.941150  0.1923  0.6154  0.8077  1.1923  0.3462   \n",
       "1   54.48      3.8  ... -0.247934  0.6765  1.2647  1.9412  1.8235  0.4118   \n",
       "2   47.98      2.1  ... -0.883163  0.6296  2.3333  2.9630  1.9630  0.4815   \n",
       "3   53.69      4.1  ... -0.393459  0.7000  1.4333  2.1333  1.1000  0.5667   \n",
       "4   54.31      8.3  ... -0.668318  1.4242  3.3030  4.7273  0.8485  0.4545   \n",
       "\n",
       "      blk      pts  Unnamed: 64  Unnamed: 65  \n",
       "0  0.0385   3.8846          NaN      6.22026  \n",
       "1  0.2353   5.9412          NaN      3.94375  \n",
       "2  0.0000  12.1852          NaN     10.92680  \n",
       "3  0.1333   4.9333          NaN      6.77427  \n",
       "4  0.3333   7.5758          NaN      0.00000  \n",
       "\n",
       "[5 rows x 66 columns]"
      ]
     },
     "execution_count": 275,
     "metadata": {},
     "output_type": "execute_result"
    }
   ],
   "source": [
    "basketball = pd.read_csv(\"../Datos/CollegeBasketballPlayers2009-2021.csv\")\n",
    "basketball.head()"
   ]
  },
  {
   "cell_type": "code",
   "execution_count": 276,
   "id": "c7b6a61b",
   "metadata": {},
   "outputs": [
    {
     "name": "stdout",
     "output_type": "stream",
     "text": [
      "<class 'pandas.core.frame.DataFrame'>\n",
      "RangeIndex: 61061 entries, 0 to 61060\n",
      "Data columns (total 66 columns):\n",
      " #   Column                           Non-Null Count  Dtype  \n",
      "---  ------                           --------------  -----  \n",
      " 0   player_name                      61061 non-null  object \n",
      " 1   team                             61061 non-null  object \n",
      " 2   conf                             61061 non-null  object \n",
      " 3   GP                               61061 non-null  int64  \n",
      " 4   Min_per                          61061 non-null  float64\n",
      " 5   Ortg                             61061 non-null  float64\n",
      " 6   usg                              61061 non-null  float64\n",
      " 7   eFG                              61061 non-null  float64\n",
      " 8   TS_per                           61061 non-null  float64\n",
      " 9   ORB_per                          61061 non-null  float64\n",
      " 10  DRB_per                          61061 non-null  float64\n",
      " 11  AST_per                          61061 non-null  float64\n",
      " 12  TO_per                           61061 non-null  float64\n",
      " 13  FTM                              61061 non-null  int64  \n",
      " 14  FTA                              61061 non-null  int64  \n",
      " 15  FT_per                           61061 non-null  float64\n",
      " 16  twoPM                            61061 non-null  int64  \n",
      " 17  twoPA                            61061 non-null  int64  \n",
      " 18  twoP_per                         61061 non-null  float64\n",
      " 19  TPM                              61061 non-null  int64  \n",
      " 20  TPA                              61061 non-null  int64  \n",
      " 21  TP_per                           61061 non-null  float64\n",
      " 22  blk_per                          61061 non-null  float64\n",
      " 23  stl_per                          61061 non-null  float64\n",
      " 24  ftr                              61061 non-null  float64\n",
      " 25  yr                               60767 non-null  object \n",
      " 26  ht                               60950 non-null  object \n",
      " 27  num                              56275 non-null  object \n",
      " 28  porpag                           61061 non-null  float64\n",
      " 29  adjoe                            61061 non-null  float64\n",
      " 30  pfr                              61061 non-null  float64\n",
      " 31  year                             61061 non-null  int64  \n",
      " 32  pid                              61061 non-null  int64  \n",
      " 33  type                             61061 non-null  object \n",
      " 34  Rec Rank                         18470 non-null  float64\n",
      " 35  ast/tov                          56334 non-null  float64\n",
      " 36  rimmade                          54732 non-null  float64\n",
      " 37  rimmade+rimmiss                  54732 non-null  float64\n",
      " 38  midmade                          54732 non-null  float64\n",
      " 39  midmade+midmiss                  54732 non-null  float64\n",
      " 40  rimmade/(rimmade+rimmiss)        50951 non-null  float64\n",
      " 41  midmade/(midmade+midmiss)        50676 non-null  float64\n",
      " 42  dunksmade                        54732 non-null  float64\n",
      " 43  dunksmiss+dunksmade              54732 non-null  float64\n",
      " 44  dunksmade/(dunksmade+dunksmiss)  27551 non-null  float64\n",
      " 45  pick                             1435 non-null   float64\n",
      " 46  drtg                             61016 non-null  float64\n",
      " 47  adrtg                            61016 non-null  float64\n",
      " 48  dporpag                          61016 non-null  float64\n",
      " 49  stops                            61016 non-null  float64\n",
      " 50  bpm                              61016 non-null  float64\n",
      " 51  obpm                             61016 non-null  float64\n",
      " 52  dbpm                             61016 non-null  float64\n",
      " 53  gbpm                             61016 non-null  float64\n",
      " 54  mp                               61023 non-null  float64\n",
      " 55  ogbpm                            61016 non-null  float64\n",
      " 56  dgbpm                            61016 non-null  float64\n",
      " 57  oreb                             61023 non-null  float64\n",
      " 58  dreb                             61023 non-null  float64\n",
      " 59  treb                             61023 non-null  float64\n",
      " 60  ast                              61023 non-null  float64\n",
      " 61  stl                              61023 non-null  float64\n",
      " 62  blk                              61023 non-null  float64\n",
      " 63  pts                              61023 non-null  float64\n",
      " 64  Unnamed: 64                      56377 non-null  object \n",
      " 65  Unnamed: 65                      61016 non-null  float64\n",
      "dtypes: float64(49), int64(9), object(8)\n",
      "memory usage: 30.7+ MB\n"
     ]
    }
   ],
   "source": [
    "basketball.info()"
   ]
  },
  {
   "cell_type": "code",
   "execution_count": 277,
   "id": "181cbbf0",
   "metadata": {},
   "outputs": [],
   "source": [
    "# Nos quedamos solo con las variables numéricas\n",
    "basketNumeric = basketball.select_dtypes(include='number')"
   ]
  },
  {
   "cell_type": "markdown",
   "id": "2b584fe6",
   "metadata": {},
   "source": [
    "### Datos faltantes\n",
    "Veamos cuántos datos faltantes hay por columna"
   ]
  },
  {
   "cell_type": "code",
   "execution_count": 278,
   "id": "5089ea03",
   "metadata": {},
   "outputs": [
    {
     "name": "stdout",
     "output_type": "stream",
     "text": [
      "player_name                            0\n",
      "team                                   0\n",
      "conf                                   0\n",
      "GP                                     0\n",
      "Min_per                                0\n",
      "Ortg                                   0\n",
      "usg                                    0\n",
      "eFG                                    0\n",
      "TS_per                                 0\n",
      "ORB_per                                0\n",
      "DRB_per                                0\n",
      "AST_per                                0\n",
      "TO_per                                 0\n",
      "FTM                                    0\n",
      "FTA                                    0\n",
      "FT_per                                 0\n",
      "twoPM                                  0\n",
      "twoPA                                  0\n",
      "twoP_per                               0\n",
      "TPM                                    0\n",
      "TPA                                    0\n",
      "TP_per                                 0\n",
      "blk_per                                0\n",
      "stl_per                                0\n",
      "ftr                                    0\n",
      "yr                                   294\n",
      "ht                                   111\n",
      "num                                 4786\n",
      "porpag                                 0\n",
      "adjoe                                  0\n",
      "pfr                                    0\n",
      "year                                   0\n",
      "pid                                    0\n",
      "type                                   0\n",
      "Rec Rank                           42591\n",
      "ast/tov                             4727\n",
      "rimmade                             6329\n",
      "rimmade+rimmiss                     6329\n",
      "midmade                             6329\n",
      "midmade+midmiss                     6329\n",
      "rimmade/(rimmade+rimmiss)          10110\n",
      "midmade/(midmade+midmiss)          10385\n",
      "dunksmade                           6329\n",
      "dunksmiss+dunksmade                 6329\n",
      "dunksmade/(dunksmade+dunksmiss)    33510\n",
      "pick                               59626\n",
      "drtg                                  45\n",
      "adrtg                                 45\n",
      "dporpag                               45\n",
      "stops                                 45\n",
      "bpm                                   45\n",
      "obpm                                  45\n",
      "dbpm                                  45\n",
      "gbpm                                  45\n",
      "mp                                    38\n",
      "ogbpm                                 45\n",
      "dgbpm                                 45\n",
      "oreb                                  38\n",
      "dreb                                  38\n",
      "treb                                  38\n",
      "ast                                   38\n",
      "stl                                   38\n",
      "blk                                   38\n",
      "pts                                   38\n",
      "Unnamed: 64                         4684\n",
      "Unnamed: 65                           45\n",
      "dtype: int64\n"
     ]
    }
   ],
   "source": [
    "with pd.option_context('display.max_rows', None): \n",
    "    print(basketball.isna().sum())  # Cantidad de datos faltantes por columna"
   ]
  },
  {
   "cell_type": "markdown",
   "id": "5abb407f",
   "metadata": {},
   "source": [
    "Si eliminamos todas las filas con datos faltantes, vamos a eliminar demasiadas filas.\n",
    "\n",
    "¿Qué estrategia usarían en este caso para eliminar datos faltantes?\n",
    "\n",
    ".\n",
    "\n",
    ".\n",
    "\n",
    ".\n",
    "\n",
    ".\n",
    "\n",
    ".\n",
    "\n",
    ".\n",
    "\n",
    ".\n",
    "\n"
   ]
  },
  {
   "cell_type": "code",
   "execution_count": 279,
   "id": "25ae6020",
   "metadata": {},
   "outputs": [],
   "source": [
    "# Eliminamos primero las columnas con más de 100 datos faltantes\n",
    "nan_cols = basketNumeric.isna().sum() > 100  # Vector booleano\n",
    "keep = nan_cols.index[~(nan_cols)] # Lista con los nombres de las columnas para dejar\n",
    "basketNumeric = basketNumeric[keep] # Seleccionamos solo las columnas en keep\n",
    "basketNumeric = basketNumeric.drop(columns='Unnamed: 65')"
   ]
  },
  {
   "cell_type": "code",
   "execution_count": 280,
   "id": "177fc409",
   "metadata": {},
   "outputs": [
    {
     "data": {
      "text/html": [
       "<div>\n",
       "<style scoped>\n",
       "    .dataframe tbody tr th:only-of-type {\n",
       "        vertical-align: middle;\n",
       "    }\n",
       "\n",
       "    .dataframe tbody tr th {\n",
       "        vertical-align: top;\n",
       "    }\n",
       "\n",
       "    .dataframe thead th {\n",
       "        text-align: right;\n",
       "    }\n",
       "</style>\n",
       "<table border=\"1\" class=\"dataframe\">\n",
       "  <thead>\n",
       "    <tr style=\"text-align: right;\">\n",
       "      <th></th>\n",
       "      <th>GP</th>\n",
       "      <th>Min_per</th>\n",
       "      <th>Ortg</th>\n",
       "      <th>usg</th>\n",
       "      <th>eFG</th>\n",
       "      <th>TS_per</th>\n",
       "      <th>ORB_per</th>\n",
       "      <th>DRB_per</th>\n",
       "      <th>AST_per</th>\n",
       "      <th>TO_per</th>\n",
       "      <th>...</th>\n",
       "      <th>mp</th>\n",
       "      <th>ogbpm</th>\n",
       "      <th>dgbpm</th>\n",
       "      <th>oreb</th>\n",
       "      <th>dreb</th>\n",
       "      <th>treb</th>\n",
       "      <th>ast</th>\n",
       "      <th>stl</th>\n",
       "      <th>blk</th>\n",
       "      <th>pts</th>\n",
       "    </tr>\n",
       "  </thead>\n",
       "  <tbody>\n",
       "    <tr>\n",
       "      <th>0</th>\n",
       "      <td>26</td>\n",
       "      <td>29.5</td>\n",
       "      <td>97.3</td>\n",
       "      <td>16.6</td>\n",
       "      <td>42.5</td>\n",
       "      <td>44.43</td>\n",
       "      <td>1.6</td>\n",
       "      <td>4.6</td>\n",
       "      <td>15.8</td>\n",
       "      <td>16.3</td>\n",
       "      <td>...</td>\n",
       "      <td>14.5769</td>\n",
       "      <td>-2.781990</td>\n",
       "      <td>-1.941150</td>\n",
       "      <td>0.1923</td>\n",
       "      <td>0.6154</td>\n",
       "      <td>0.8077</td>\n",
       "      <td>1.1923</td>\n",
       "      <td>0.3462</td>\n",
       "      <td>0.0385</td>\n",
       "      <td>3.8846</td>\n",
       "    </tr>\n",
       "    <tr>\n",
       "      <th>1</th>\n",
       "      <td>34</td>\n",
       "      <td>60.9</td>\n",
       "      <td>108.3</td>\n",
       "      <td>14.9</td>\n",
       "      <td>52.4</td>\n",
       "      <td>54.48</td>\n",
       "      <td>3.8</td>\n",
       "      <td>6.3</td>\n",
       "      <td>13.6</td>\n",
       "      <td>19.8</td>\n",
       "      <td>...</td>\n",
       "      <td>24.5294</td>\n",
       "      <td>-0.052263</td>\n",
       "      <td>-0.247934</td>\n",
       "      <td>0.6765</td>\n",
       "      <td>1.2647</td>\n",
       "      <td>1.9412</td>\n",
       "      <td>1.8235</td>\n",
       "      <td>0.4118</td>\n",
       "      <td>0.2353</td>\n",
       "      <td>5.9412</td>\n",
       "    </tr>\n",
       "    <tr>\n",
       "      <th>2</th>\n",
       "      <td>27</td>\n",
       "      <td>72.0</td>\n",
       "      <td>96.2</td>\n",
       "      <td>21.8</td>\n",
       "      <td>45.7</td>\n",
       "      <td>47.98</td>\n",
       "      <td>2.1</td>\n",
       "      <td>8.0</td>\n",
       "      <td>14.7</td>\n",
       "      <td>15.9</td>\n",
       "      <td>...</td>\n",
       "      <td>33.1852</td>\n",
       "      <td>1.548230</td>\n",
       "      <td>-0.883163</td>\n",
       "      <td>0.6296</td>\n",
       "      <td>2.3333</td>\n",
       "      <td>2.9630</td>\n",
       "      <td>1.9630</td>\n",
       "      <td>0.4815</td>\n",
       "      <td>0.0000</td>\n",
       "      <td>12.1852</td>\n",
       "    </tr>\n",
       "    <tr>\n",
       "      <th>3</th>\n",
       "      <td>30</td>\n",
       "      <td>44.5</td>\n",
       "      <td>97.7</td>\n",
       "      <td>16.0</td>\n",
       "      <td>53.6</td>\n",
       "      <td>53.69</td>\n",
       "      <td>4.1</td>\n",
       "      <td>9.4</td>\n",
       "      <td>13.7</td>\n",
       "      <td>23.8</td>\n",
       "      <td>...</td>\n",
       "      <td>17.9667</td>\n",
       "      <td>-0.342775</td>\n",
       "      <td>-0.393459</td>\n",
       "      <td>0.7000</td>\n",
       "      <td>1.4333</td>\n",
       "      <td>2.1333</td>\n",
       "      <td>1.1000</td>\n",
       "      <td>0.5667</td>\n",
       "      <td>0.1333</td>\n",
       "      <td>4.9333</td>\n",
       "    </tr>\n",
       "    <tr>\n",
       "      <th>4</th>\n",
       "      <td>33</td>\n",
       "      <td>56.2</td>\n",
       "      <td>96.5</td>\n",
       "      <td>22.0</td>\n",
       "      <td>52.8</td>\n",
       "      <td>54.31</td>\n",
       "      <td>8.3</td>\n",
       "      <td>18.6</td>\n",
       "      <td>8.2</td>\n",
       "      <td>22.7</td>\n",
       "      <td>...</td>\n",
       "      <td>22.9091</td>\n",
       "      <td>-1.684860</td>\n",
       "      <td>-0.668318</td>\n",
       "      <td>1.4242</td>\n",
       "      <td>3.3030</td>\n",
       "      <td>4.7273</td>\n",
       "      <td>0.8485</td>\n",
       "      <td>0.4545</td>\n",
       "      <td>0.3333</td>\n",
       "      <td>7.5758</td>\n",
       "    </tr>\n",
       "  </tbody>\n",
       "</table>\n",
       "<p>5 rows × 45 columns</p>\n",
       "</div>"
      ],
      "text/plain": [
       "   GP  Min_per   Ortg   usg   eFG  TS_per  ORB_per  DRB_per  AST_per  TO_per  \\\n",
       "0  26     29.5   97.3  16.6  42.5   44.43      1.6      4.6     15.8    16.3   \n",
       "1  34     60.9  108.3  14.9  52.4   54.48      3.8      6.3     13.6    19.8   \n",
       "2  27     72.0   96.2  21.8  45.7   47.98      2.1      8.0     14.7    15.9   \n",
       "3  30     44.5   97.7  16.0  53.6   53.69      4.1      9.4     13.7    23.8   \n",
       "4  33     56.2   96.5  22.0  52.8   54.31      8.3     18.6      8.2    22.7   \n",
       "\n",
       "   ...       mp     ogbpm     dgbpm    oreb    dreb    treb     ast     stl  \\\n",
       "0  ...  14.5769 -2.781990 -1.941150  0.1923  0.6154  0.8077  1.1923  0.3462   \n",
       "1  ...  24.5294 -0.052263 -0.247934  0.6765  1.2647  1.9412  1.8235  0.4118   \n",
       "2  ...  33.1852  1.548230 -0.883163  0.6296  2.3333  2.9630  1.9630  0.4815   \n",
       "3  ...  17.9667 -0.342775 -0.393459  0.7000  1.4333  2.1333  1.1000  0.5667   \n",
       "4  ...  22.9091 -1.684860 -0.668318  1.4242  3.3030  4.7273  0.8485  0.4545   \n",
       "\n",
       "      blk      pts  \n",
       "0  0.0385   3.8846  \n",
       "1  0.2353   5.9412  \n",
       "2  0.0000  12.1852  \n",
       "3  0.1333   4.9333  \n",
       "4  0.3333   7.5758  \n",
       "\n",
       "[5 rows x 45 columns]"
      ]
     },
     "execution_count": 280,
     "metadata": {},
     "output_type": "execute_result"
    }
   ],
   "source": [
    "basketNumeric.head()"
   ]
  },
  {
   "cell_type": "code",
   "execution_count": 281,
   "id": "5dc7326b",
   "metadata": {},
   "outputs": [
    {
     "data": {
      "text/plain": [
       "GP           0\n",
       "Min_per      0\n",
       "Ortg         0\n",
       "usg          0\n",
       "eFG          0\n",
       "TS_per       0\n",
       "ORB_per      0\n",
       "DRB_per      0\n",
       "AST_per      0\n",
       "TO_per       0\n",
       "FTM          0\n",
       "FTA          0\n",
       "FT_per       0\n",
       "twoPM        0\n",
       "twoPA        0\n",
       "twoP_per     0\n",
       "TPM          0\n",
       "TPA          0\n",
       "TP_per       0\n",
       "blk_per      0\n",
       "stl_per      0\n",
       "ftr          0\n",
       "porpag       0\n",
       "adjoe        0\n",
       "pfr          0\n",
       "year         0\n",
       "pid          0\n",
       "drtg        45\n",
       "adrtg       45\n",
       "dporpag     45\n",
       "stops       45\n",
       "bpm         45\n",
       "obpm        45\n",
       "dbpm        45\n",
       "gbpm        45\n",
       "mp          38\n",
       "ogbpm       45\n",
       "dgbpm       45\n",
       "oreb        38\n",
       "dreb        38\n",
       "treb        38\n",
       "ast         38\n",
       "stl         38\n",
       "blk         38\n",
       "pts         38\n",
       "dtype: int64"
      ]
     },
     "execution_count": 281,
     "metadata": {},
     "output_type": "execute_result"
    }
   ],
   "source": [
    "# Verificamos ahora cuantos datos faltantes hay por columna\n",
    "basketNumeric.isna().sum()"
   ]
  },
  {
   "cell_type": "code",
   "execution_count": 282,
   "id": "5e00650c",
   "metadata": {},
   "outputs": [],
   "source": [
    "# Ahora eliminamos todas las filas con datos faltantes\n",
    "basketNumericClean = basketNumeric.dropna()"
   ]
  },
  {
   "cell_type": "markdown",
   "id": "95187559",
   "metadata": {},
   "source": [
    "Ajutamos primero un modelo lineal sobre todos los datos para predecir la variable pts en función del resto."
   ]
  },
  {
   "cell_type": "code",
   "execution_count": 283,
   "id": "8de0c47e",
   "metadata": {},
   "outputs": [],
   "source": [
    "y = basketNumericClean[\"pts\"]"
   ]
  },
  {
   "cell_type": "code",
   "execution_count": 284,
   "id": "f181b652",
   "metadata": {},
   "outputs": [],
   "source": [
    "X = basketNumericClean.drop([\"pts\"], axis = 1)"
   ]
  },
  {
   "cell_type": "code",
   "execution_count": 285,
   "id": "27d73633",
   "metadata": {},
   "outputs": [
    {
     "name": "stdout",
     "output_type": "stream",
     "text": [
      "Raíz del Error Cuadrático Medio: 0.53270\n"
     ]
    }
   ],
   "source": [
    "# Inicializamos el modelo lineal\n",
    "modeloLineal = linear_model.LinearRegression()  # alpha is the hyperparameter equivalent to lambda\n",
    "\n",
    "# Entrenamiento\n",
    "modeloLineal.fit(X, y)\n",
    "\n",
    "# Predicciones\n",
    "y_pred = modeloLineal.predict(X)\n",
    "\n",
    "# Evaluación\n",
    "rmse = np.sqrt(mean_squared_error(y, y_pred))\n",
    "print(f\"Raíz del Error Cuadrático Medio: {rmse:.5f}\")"
   ]
  },
  {
   "cell_type": "code",
   "execution_count": 286,
   "id": "4bb9d3b2",
   "metadata": {},
   "outputs": [
    {
     "data": {
      "text/plain": [
       "0.9884089200597269"
      ]
     },
     "execution_count": 286,
     "metadata": {},
     "output_type": "execute_result"
    }
   ],
   "source": [
    "# R cuadrado\n",
    "r2_score(y, y_pred)"
   ]
  },
  {
   "cell_type": "code",
   "execution_count": 287,
   "id": "c7a8fe99",
   "metadata": {},
   "outputs": [
    {
     "data": {
      "text/plain": [
       "array([ 9.83157558e-04, -1.41565028e-02, -3.08254254e-03,  4.63250673e-02,\n",
       "        1.05127892e-03,  3.83568001e-03, -1.20092960e-02, -1.10083997e-02,\n",
       "       -5.47924162e-03,  1.43703628e-03,  1.10564247e-02,  9.58349368e-03,\n",
       "        7.17590286e-02,  3.90630705e-02,  6.77909969e-03, -6.66846648e-02,\n",
       "        4.90922603e-02,  8.54839323e-03, -3.84072841e-02, -2.33942403e-03,\n",
       "       -6.96933404e-02, -7.09019128e-04,  5.66115740e-01, -4.39636845e-03,\n",
       "        1.95770402e-02,  3.36123554e-02, -9.25116492e-08, -3.70210717e-02,\n",
       "        1.54121256e-02, -3.72355439e-01, -4.53035113e-02, -2.79584610e+02,\n",
       "        2.79614292e+02,  2.79572920e+02, -1.68442375e+02,  2.45145429e-01,\n",
       "        1.68469517e+02,  1.68430291e+02,  1.51186183e+01,  1.59645208e+01,\n",
       "       -1.53405699e+01, -1.50144405e-01,  1.49693134e+00,  5.62877021e-01])"
      ]
     },
     "execution_count": 287,
     "metadata": {},
     "output_type": "execute_result"
    }
   ],
   "source": [
    "# Coeficientes\n",
    "modeloLineal.coef_"
   ]
  },
  {
   "cell_type": "code",
   "execution_count": 288,
   "id": "6d45b780",
   "metadata": {},
   "outputs": [
    {
     "data": {
      "image/png": "[encoded data removed]",
      "text/plain": [
       "<seaborn._core.plot.Plot at 0x152ca4b9110>"
      ]
     },
     "execution_count": 288,
     "metadata": {
      "image/png": {
       "height": 377.825,
       "width": 509.15
      }
     },
     "output_type": "execute_result"
    }
   ],
   "source": [
    "so.Plot(x = np.arange(len(modeloLineal.coef_)), y = modeloLineal.coef_).add(so.Dot())"
   ]
  },
  {
   "cell_type": "markdown",
   "id": "e0f401a2",
   "metadata": {},
   "source": [
    "Observando los coeficientes, hay coeficientes grandes que se cancelan, indicando posible colinealidad, lo que sugiere utilizar regresión Ridge. \n",
    "\n",
    "Veamos primero si las variables están en la misma escala."
   ]
  },
  {
   "cell_type": "code",
   "execution_count": 289,
   "id": "51e5f2fc",
   "metadata": {},
   "outputs": [
    {
     "data": {
      "text/plain": [
       "GP             41.00000\n",
       "Min_per        98.00000\n",
       "Ortg          834.00000\n",
       "usg            50.00000\n",
       "eFG           150.00000\n",
       "TS_per        150.00000\n",
       "ORB_per      1576.60000\n",
       "DRB_per      1385.00000\n",
       "AST_per       100.00000\n",
       "TO_per        100.00000\n",
       "FTM           312.00000\n",
       "FTA           374.00000\n",
       "FT_per          1.00000\n",
       "twoPM         333.00000\n",
       "twoPA         678.00000\n",
       "twoP_per        1.00000\n",
       "TPM           147.00000\n",
       "TPA           394.00000\n",
       "TP_per          1.00000\n",
       "blk_per      1072.00000\n",
       "stl_per       118.20000\n",
       "ftr          1000.00000\n",
       "porpag          8.65819\n",
       "adjoe         678.94200\n",
       "pfr           720.00000\n",
       "year         2021.00000\n",
       "pid         74254.00000\n",
       "drtg          131.46100\n",
       "adrtg         144.68500\n",
       "dporpag         5.80053\n",
       "stops         360.57200\n",
       "bpm           685.31300\n",
       "obpm          161.99500\n",
       "dbpm          523.31900\n",
       "gbpm          269.50800\n",
       "mp             50.00000\n",
       "ogbpm         225.48500\n",
       "dgbpm          78.98550\n",
       "oreb            5.93330\n",
       "dreb           11.54550\n",
       "treb           15.00000\n",
       "ast            10.00000\n",
       "stl             4.00000\n",
       "blk             5.25810\n",
       "dtype: float64"
      ]
     },
     "execution_count": 289,
     "metadata": {},
     "output_type": "execute_result"
    }
   ],
   "source": [
    "X.max()"
   ]
  },
  {
   "cell_type": "markdown",
   "id": "94c93636",
   "metadata": {},
   "source": [
    "Vemos que hay mucha diferencia en las escalas de las variables. Para poder comparar mejor los coeficientes, escalamos todas la variables al intervalo [0,1].\n",
    "\n",
    "¿Cómo aplicamos el escalamiento\n",
    "\n",
    "$$\n",
    "x_{\\text{nuevo}} = \\frac{x - x_{\\min}}{x_{\\max} - x_{\\min}}\n",
    "$$\n",
    "\n",
    "en las columnas de un DataFrame? ($x_{\\min}$ y $x_{\\max}$ son el mínimo y máximo de cada columna.)"
   ]
  },
  {
   "cell_type": "code",
   "execution_count": 290,
   "id": "589a3281",
   "metadata": {},
   "outputs": [
    {
     "data": {
      "text/plain": [
       "GP          0.0\n",
       "Min_per     0.0\n",
       "Ortg        0.0\n",
       "usg         0.0\n",
       "eFG         0.0\n",
       "TS_per      0.0\n",
       "ORB_per     0.0\n",
       "DRB_per     0.0\n",
       "AST_per     0.0\n",
       "TO_per      0.0\n",
       "FTM         0.0\n",
       "FTA         0.0\n",
       "FT_per      0.0\n",
       "twoPM       0.0\n",
       "twoPA       0.0\n",
       "twoP_per    0.0\n",
       "TPM         0.0\n",
       "TPA         0.0\n",
       "TP_per      0.0\n",
       "blk_per     0.0\n",
       "stl_per     0.0\n",
       "ftr         0.0\n",
       "porpag      0.0\n",
       "adjoe       0.0\n",
       "pfr         0.0\n",
       "year        0.0\n",
       "pid         0.0\n",
       "drtg        0.0\n",
       "adrtg       0.0\n",
       "dporpag     0.0\n",
       "stops       0.0\n",
       "bpm         0.0\n",
       "obpm        0.0\n",
       "dbpm        0.0\n",
       "gbpm        0.0\n",
       "mp          0.0\n",
       "ogbpm       0.0\n",
       "dgbpm       0.0\n",
       "oreb        0.0\n",
       "dreb        0.0\n",
       "treb        0.0\n",
       "ast         0.0\n",
       "stl         0.0\n",
       "blk         0.0\n",
       "dtype: float64"
      ]
     },
     "execution_count": 290,
     "metadata": {},
     "output_type": "execute_result"
    }
   ],
   "source": [
    "# Restamos primero el mínimos a todas las columnas, y verificamos.\n",
    "X_sclaed = (X - X.min())\n",
    "X_scaled.min()   # ¿Cuál esperamos que sea el resultado?"
   ]
  },
  {
   "cell_type": "code",
   "execution_count": 291,
   "id": "f037c7ee",
   "metadata": {},
   "outputs": [
    {
     "name": "stdout",
     "output_type": "stream",
     "text": [
      "GP          0.0\n",
      "Min_per     0.0\n",
      "Ortg        0.0\n",
      "usg         0.0\n",
      "eFG         0.0\n",
      "TS_per      0.0\n",
      "ORB_per     0.0\n",
      "DRB_per     0.0\n",
      "AST_per     0.0\n",
      "TO_per      0.0\n",
      "FTM         0.0\n",
      "FTA         0.0\n",
      "FT_per      0.0\n",
      "twoPM       0.0\n",
      "twoPA       0.0\n",
      "twoP_per    0.0\n",
      "TPM         0.0\n",
      "TPA         0.0\n",
      "TP_per      0.0\n",
      "blk_per     0.0\n",
      "stl_per     0.0\n",
      "ftr         0.0\n",
      "porpag      0.0\n",
      "adjoe       0.0\n",
      "pfr         0.0\n",
      "year        0.0\n",
      "pid         0.0\n",
      "drtg        0.0\n",
      "adrtg       0.0\n",
      "dporpag     0.0\n",
      "stops       0.0\n",
      "bpm         0.0\n",
      "obpm        0.0\n",
      "dbpm        0.0\n",
      "gbpm        0.0\n",
      "mp          0.0\n",
      "ogbpm       0.0\n",
      "dgbpm       0.0\n",
      "oreb        0.0\n",
      "dreb        0.0\n",
      "treb        0.0\n",
      "ast         0.0\n",
      "stl         0.0\n",
      "blk         0.0\n",
      "dtype: float64\n",
      "GP          1.0\n",
      "Min_per     1.0\n",
      "Ortg        1.0\n",
      "usg         1.0\n",
      "eFG         1.0\n",
      "TS_per      1.0\n",
      "ORB_per     1.0\n",
      "DRB_per     1.0\n",
      "AST_per     1.0\n",
      "TO_per      1.0\n",
      "FTM         1.0\n",
      "FTA         1.0\n",
      "FT_per      1.0\n",
      "twoPM       1.0\n",
      "twoPA       1.0\n",
      "twoP_per    1.0\n",
      "TPM         1.0\n",
      "TPA         1.0\n",
      "TP_per      1.0\n",
      "blk_per     1.0\n",
      "stl_per     1.0\n",
      "ftr         1.0\n",
      "porpag      1.0\n",
      "adjoe       1.0\n",
      "pfr         1.0\n",
      "year        1.0\n",
      "pid         1.0\n",
      "drtg        1.0\n",
      "adrtg       1.0\n",
      "dporpag     1.0\n",
      "stops       1.0\n",
      "bpm         1.0\n",
      "obpm        1.0\n",
      "dbpm        1.0\n",
      "gbpm        1.0\n",
      "mp          1.0\n",
      "ogbpm       1.0\n",
      "dgbpm       1.0\n",
      "oreb        1.0\n",
      "dreb        1.0\n",
      "treb        1.0\n",
      "ast         1.0\n",
      "stl         1.0\n",
      "blk         1.0\n",
      "dtype: float64\n"
     ]
    }
   ],
   "source": [
    "# Ahora dividimos las columnas por x_max - x_min\n",
    "X_scaled = (X - X.min()) / (X.max() - X.min())\n",
    "print(X_scaled.min())\n",
    "print(X_scaled.max())"
   ]
  },
  {
   "cell_type": "markdown",
   "id": "16903519",
   "metadata": {},
   "source": [
    "**Escalamiento MinMax**\n",
    "\n",
    "Escalamos las variables utilizando escalamiento MinMax.\n",
    "\n",
    "La regresión lineal ordinaria es invariante por escalamiento lineal.\n",
    "\n",
    "Esto quiere decir que si bien los coeficientes van a cambiar, las predicciones se van a mantener iguales.\n",
    "\n",
    "El escalamiento no va a solucionar los problemas de colinealidad, pero nos permite comparar mejor los coeficientes.\n",
    "\n",
    "Dado que solo queremos comparar coeficientes, no es necesario escalar la variable respuesta $y$."
   ]
  },
  {
   "cell_type": "code",
   "execution_count": 292,
   "id": "4ca75164",
   "metadata": {},
   "outputs": [],
   "source": [
    "# Ponemos todo en una instrucción\n",
    "X_scaled = (X - X.min()) / (X.max() - X.min())"
   ]
  },
  {
   "cell_type": "code",
   "execution_count": 293,
   "id": "219a3aae",
   "metadata": {},
   "outputs": [
    {
     "name": "stdout",
     "output_type": "stream",
     "text": [
      "Raíz del Error Cuadrático Medio: 0.53270\n",
      "R cuadrado: 0.98841\n"
     ]
    }
   ],
   "source": [
    "# Inicializamos el modelo lineal\n",
    "modeloLineal = linear_model.LinearRegression() \n",
    "\n",
    "# Entrenamiento\n",
    "modeloLineal.fit(X_scaled, y)\n",
    "\n",
    "# Predicciones\n",
    "y_pred = modeloLineal.predict(X_scaled)\n",
    "\n",
    "# Evaluación\n",
    "rmse = np.sqrt(mean_squared_error(y, y_pred))\n",
    "print(f\"Raíz del Error Cuadrático Medio: {rmse:.5f}\")\n",
    "r2 = r2_score(y, y_pred)\n",
    "print(f\"R cuadrado: {r2:.5f}\")"
   ]
  },
  {
   "cell_type": "code",
   "execution_count": 294,
   "id": "b06b246a",
   "metadata": {},
   "outputs": [
    {
     "data": {
      "image/png": "[encoded data removed]",
      "text/plain": [
       "<seaborn._core.plot.Plot at 0x152d3bd7a90>"
      ]
     },
     "execution_count": 294,
     "metadata": {
      "image/png": {
       "height": 378.25,
       "width": 509.15
      }
     },
     "output_type": "execute_result"
    }
   ],
   "source": [
    "# Seguimos observando coeficientes enormes que se cancelan mutuamente.\n",
    "so.Plot(x = np.arange(len(modeloLineal.coef_)), y = modeloLineal.coef_).add(so.Bar())"
   ]
  },
  {
   "cell_type": "markdown",
   "id": "9b8025de",
   "metadata": {},
   "source": [
    "Los problemas de colinealidad son más evidentes ahora.\n",
    "\n",
    "En base a lo observado, vamos a utilizar un modelo de regresión de Ridge.\n",
    "Separamos en entrenamiento y testeo."
   ]
  },
  {
   "cell_type": "code",
   "execution_count": 295,
   "id": "33850814",
   "metadata": {},
   "outputs": [],
   "source": [
    "X_train, X_test, y_train, y_test = train_test_split(X, y, test_size=0.2, random_state=42)"
   ]
  },
  {
   "cell_type": "code",
   "execution_count": 296,
   "id": "1213ad8f",
   "metadata": {},
   "outputs": [
    {
     "name": "stdout",
     "output_type": "stream",
     "text": [
      "Raíz del Error Cuadrático Medio: 0.53394\n",
      "R cuadrado: 0.98837\n"
     ]
    }
   ],
   "source": [
    "# Inicializamos el modelo lineal\n",
    "modeloRidge = linear_model.Ridge(alpha = 1)  # Ejercicio: calcular alpha por validacion cruzada\n",
    "\n",
    "# Entrenamiento\n",
    "modeloRidge.fit(X_train, y_train)\n",
    "\n",
    "# Predicciones\n",
    "y_pred = modeloRidge.predict(X_train)\n",
    "\n",
    "# Evaluación\n",
    "rmse = np.sqrt(mean_squared_error(y_train, y_pred))\n",
    "print(f\"Raíz del Error Cuadrático Medio: {rmse:.5f}\")\n",
    "r2 = r2_score(y_train, y_pred)\n",
    "print(f\"R cuadrado: {r2:.5f}\")"
   ]
  },
  {
   "cell_type": "code",
   "execution_count": 1,
   "id": "9296d710",
   "metadata": {},
   "outputs": [
    {
     "ename": "NameError",
     "evalue": "name 'plt' is not defined",
     "output_type": "error",
     "traceback": [
      "\u001b[1;31m---------------------------------------------------------------------------\u001b[0m",
      "\u001b[1;31mNameError\u001b[0m                                 Traceback (most recent call last)",
      "Cell \u001b[1;32mIn[1], line 2\u001b[0m\n\u001b[0;32m      1\u001b[0m \u001b[38;5;66;03m# Observamos los coeficientes\u001b[39;00m\n\u001b[1;32m----> 2\u001b[0m \u001b[43mplt\u001b[49m\u001b[38;5;241m.\u001b[39mPlot(x \u001b[38;5;241m=\u001b[39m np\u001b[38;5;241m.\u001b[39marange(\u001b[38;5;28mlen\u001b[39m(modeloRidge\u001b[38;5;241m.\u001b[39mcoef_)), y \u001b[38;5;241m=\u001b[39m modeloRidge\u001b[38;5;241m.\u001b[39mcoef_)\u001b[38;5;241m.\u001b[39madd(so\u001b[38;5;241m.\u001b[39mBar())\n",
      "\u001b[1;31mNameError\u001b[0m: name 'plt' is not defined"
     ]
    }
   ],
   "source": [
    "# Observamos los coeficientes\n",
    "so.Plot(x = np.arange(len(modeloRidge.coef_)), y = modeloRidge.coef_).add(so.Bar())"
   ]
  },
  {
   "cell_type": "markdown",
   "id": "c9865953",
   "metadata": {},
   "source": [
    "Redujimos el problema de coeficientes grandes que se anulan, pero todavía resulta difícil comparar los pesos de las distintas variables. \n",
    "\n",
    "Además en el modelo lineal Ridge penalizamos coeficientes grandes. Si las variables están a distinta escala, esto hace que penalicemos más a algunas variables que a otras.\n",
    "\n",
    "En Regresión Ridge casi siempre es necesario escalar las variables.\n",
    "\n",
    "Reescalamos todas las variables a [0,1]."
   ]
  },
  {
   "cell_type": "markdown",
   "id": "85e98f95",
   "metadata": {},
   "source": [
    "Utilizamos ahora MinMaxScaler de sklearn para las transformaciones.\n",
    "Esto permite calcular los parámetros de la transformación en el conjunto de entrenamiento y aplicarlo en el conjunto de testeo."
   ]
  },
  {
   "cell_type": "code",
   "execution_count": 298,
   "id": "85502f3b",
   "metadata": {},
   "outputs": [],
   "source": [
    "from sklearn.preprocessing import MinMaxScaler\n",
    "scaler = MinMaxScaler().set_output(transform=\"pandas\") # La última opción hace que nos devuelva un DataFrame"
   ]
  },
  {
   "cell_type": "code",
   "execution_count": 299,
   "id": "5df4e9a8",
   "metadata": {},
   "outputs": [
    {
     "data": {
      "text/plain": [
       "GP          1.0\n",
       "Min_per     1.0\n",
       "Ortg        1.0\n",
       "usg         1.0\n",
       "eFG         1.0\n",
       "TS_per      1.0\n",
       "ORB_per     1.0\n",
       "DRB_per     1.0\n",
       "AST_per     1.0\n",
       "TO_per      1.0\n",
       "FTM         1.0\n",
       "FTA         1.0\n",
       "FT_per      1.0\n",
       "twoPM       1.0\n",
       "twoPA       1.0\n",
       "twoP_per    1.0\n",
       "TPM         1.0\n",
       "TPA         1.0\n",
       "TP_per      1.0\n",
       "blk_per     1.0\n",
       "stl_per     1.0\n",
       "ftr         1.0\n",
       "porpag      1.0\n",
       "adjoe       1.0\n",
       "pfr         1.0\n",
       "year        1.0\n",
       "pid         1.0\n",
       "drtg        1.0\n",
       "adrtg       1.0\n",
       "dporpag     1.0\n",
       "stops       1.0\n",
       "bpm         1.0\n",
       "obpm        1.0\n",
       "dbpm        1.0\n",
       "gbpm        1.0\n",
       "mp          1.0\n",
       "ogbpm       1.0\n",
       "dgbpm       1.0\n",
       "oreb        1.0\n",
       "dreb        1.0\n",
       "treb        1.0\n",
       "ast         1.0\n",
       "stl         1.0\n",
       "blk         1.0\n",
       "dtype: float64"
      ]
     },
     "execution_count": 299,
     "metadata": {},
     "output_type": "execute_result"
    }
   ],
   "source": [
    "# fit_transform calcula los coeficientes de la transformación y la aplica.\n",
    "X_train_scaled = scaler.fit_transform(X_train)\n",
    "X_train_scaled.max()"
   ]
  },
  {
   "cell_type": "code",
   "execution_count": 300,
   "id": "8e078813",
   "metadata": {},
   "outputs": [
    {
     "name": "stdout",
     "output_type": "stream",
     "text": [
      "Raíz del Error Cuadrático Medio: 0.54396\n",
      "R cuadrado: 0.98793\n"
     ]
    }
   ],
   "source": [
    "# Inicializamos el modelo lineal\n",
    "modeloLineal = linear_model.Ridge(alpha = 1) \n",
    "\n",
    "# Entrenamiento\n",
    "modeloLineal.fit(X_train_scaled, y_train)\n",
    "\n",
    "# Predicciones\n",
    "y_pred = modeloLineal.predict(X_train_scaled)\n",
    "\n",
    "# Evaluación\n",
    "rmse = np.sqrt(mean_squared_error(y_train, y_pred))\n",
    "print(f\"Raíz del Error Cuadrático Medio: {rmse:.5f}\")\n",
    "r2 = r2_score(y_train, y_pred)\n",
    "print(f\"R cuadrado: {r2:.5f}\")"
   ]
  },
  {
   "cell_type": "markdown",
   "id": "db54fdd5",
   "metadata": {},
   "source": [
    "Ahora queremos ver los resultados en testeo, para eso transformamos los datos de testeo."
   ]
  },
  {
   "cell_type": "code",
   "execution_count": 301,
   "id": "a65440b5",
   "metadata": {},
   "outputs": [],
   "source": [
    "# Estará bien hacerlo así?\n",
    "X_test_scaled = scaler.fit_transform(X_test)"
   ]
  },
  {
   "cell_type": "code",
   "execution_count": 302,
   "id": "f3ec50d6",
   "metadata": {},
   "outputs": [
    {
     "name": "stdout",
     "output_type": "stream",
     "text": [
      "Raíz del Error Cuadrático Medio: 1.71347\n",
      "R cuadrado: 0.87934\n"
     ]
    }
   ],
   "source": [
    "# Predicciones\n",
    "y_pred = modeloLineal.predict(X_test_scaled)\n",
    "\n",
    "# Evaluación\n",
    "rmse = np.sqrt(mean_squared_error(y_test, y_pred))\n",
    "print(f\"Raíz del Error Cuadrático Medio: {rmse:.5f}\")\n",
    "r2 = r2_score(y_test, y_pred)\n",
    "print(f\"R cuadrado: {r2:.5f}\")"
   ]
  },
  {
   "cell_type": "markdown",
   "id": "528c7abb",
   "metadata": {},
   "source": [
    ".\n",
    "\n",
    ".\n",
    "\n",
    ".\n",
    "\n",
    ".\n",
    "\n",
    ".\n",
    "\n",
    ".\n",
    "\n",
    ".\n",
    "\n",
    ".\n",
    "\n"
   ]
  },
  {
   "cell_type": "markdown",
   "id": "9673181c",
   "metadata": {},
   "source": [
    "No funciona bien porque aplicamos una transformación distinta, los valores de x_min y x_max se recalcularon.\n",
    "\n",
    "La forma correcta es usar solo transform, sin \"fitear\" nuevamente los parametros del ajuste."
   ]
  },
  {
   "cell_type": "code",
   "execution_count": 303,
   "id": "c26c7504",
   "metadata": {},
   "outputs": [],
   "source": [
    "# Tenemos que fittear en entrenamiento y aplicar esa transformación a los datos de testeo\n",
    "scaler.fit(X_train)   # Primero fiteamos (este paso no es necesario si ya hicimos fit_transform en X_train)\n",
    "X_test_scaled = scaler.transform(X_test)  # Luego transformamos"
   ]
  },
  {
   "cell_type": "code",
   "execution_count": 304,
   "id": "b4ca8a66",
   "metadata": {},
   "outputs": [
    {
     "name": "stdout",
     "output_type": "stream",
     "text": [
      "Raíz del Error Cuadrático Medio: 0.53816\n",
      "R cuadrado: 0.98810\n"
     ]
    }
   ],
   "source": [
    "# Predicciones\n",
    "y_pred = modeloLineal.predict(X_test_scaled)\n",
    "\n",
    "# Evaluación\n",
    "rmse = np.sqrt(mean_squared_error(y_test, y_pred))\n",
    "print(f\"Raíz del Error Cuadrático Medio: {rmse:.5f}\")\n",
    "r2 = r2_score(y_test, y_pred)\n",
    "print(f\"R cuadrado: {r2:.5f}\")"
   ]
  },
  {
   "cell_type": "markdown",
   "id": "7b4fa76e",
   "metadata": {},
   "source": [
    "Ahora sí obtenemos buenas predicciones!"
   ]
  },
  {
   "cell_type": "code",
   "execution_count": 305,
   "id": "26025f5b",
   "metadata": {},
   "outputs": [
    {
     "data": {
      "image/png": "[encoded data removed]",
      "text/plain": [
       "<seaborn._core.plot.Plot at 0x152ca51eb10>"
      ]
     },
     "execution_count": 305,
     "metadata": {
      "image/png": {
       "height": 378.25,
       "width": 509.15
      }
     },
     "output_type": "execute_result"
    }
   ],
   "source": [
    "# Graficamos los coeficientes\n",
    "so.Plot(x = np.arange(len(modeloLineal.coef_)), y = modeloLineal.coef_).add(so.Bar())"
   ]
  },
  {
   "cell_type": "markdown",
   "id": "a8efd3e4",
   "metadata": {},
   "source": [
    "Vemos que ahora los coeficientes tienen rangos similares."
   ]
  },
  {
   "cell_type": "markdown",
   "id": "359eb05f",
   "metadata": {},
   "source": [
    "## Ejemplo 2: One Hot Encoding"
   ]
  },
  {
   "cell_type": "markdown",
   "id": "f6a56899",
   "metadata": {},
   "source": [
    "Veamos otro ejemplo ahora donde queremos aplicar en la etapa de preprocesamiento One Hot Encoding a alguna variable categórica."
   ]
  },
  {
   "cell_type": "code",
   "execution_count": 306,
   "id": "09159e07",
   "metadata": {},
   "outputs": [
    {
     "data": {
      "text/html": [
       "<div>\n",
       "<style scoped>\n",
       "    .dataframe tbody tr th:only-of-type {\n",
       "        vertical-align: middle;\n",
       "    }\n",
       "\n",
       "    .dataframe tbody tr th {\n",
       "        vertical-align: top;\n",
       "    }\n",
       "\n",
       "    .dataframe thead th {\n",
       "        text-align: right;\n",
       "    }\n",
       "</style>\n",
       "<table border=\"1\" class=\"dataframe\">\n",
       "  <thead>\n",
       "    <tr style=\"text-align: right;\">\n",
       "      <th></th>\n",
       "      <th>species</th>\n",
       "      <th>island</th>\n",
       "      <th>bill_length_mm</th>\n",
       "      <th>bill_depth_mm</th>\n",
       "      <th>flipper_length_mm</th>\n",
       "      <th>body_mass_g</th>\n",
       "      <th>sex</th>\n",
       "    </tr>\n",
       "  </thead>\n",
       "  <tbody>\n",
       "    <tr>\n",
       "      <th>0</th>\n",
       "      <td>Adelie</td>\n",
       "      <td>Torgersen</td>\n",
       "      <td>39.1</td>\n",
       "      <td>18.7</td>\n",
       "      <td>181.0</td>\n",
       "      <td>3750.0</td>\n",
       "      <td>Male</td>\n",
       "    </tr>\n",
       "    <tr>\n",
       "      <th>1</th>\n",
       "      <td>Adelie</td>\n",
       "      <td>Torgersen</td>\n",
       "      <td>39.5</td>\n",
       "      <td>17.4</td>\n",
       "      <td>186.0</td>\n",
       "      <td>3800.0</td>\n",
       "      <td>Female</td>\n",
       "    </tr>\n",
       "    <tr>\n",
       "      <th>2</th>\n",
       "      <td>Adelie</td>\n",
       "      <td>Torgersen</td>\n",
       "      <td>40.3</td>\n",
       "      <td>18.0</td>\n",
       "      <td>195.0</td>\n",
       "      <td>3250.0</td>\n",
       "      <td>Female</td>\n",
       "    </tr>\n",
       "    <tr>\n",
       "      <th>4</th>\n",
       "      <td>Adelie</td>\n",
       "      <td>Torgersen</td>\n",
       "      <td>36.7</td>\n",
       "      <td>19.3</td>\n",
       "      <td>193.0</td>\n",
       "      <td>3450.0</td>\n",
       "      <td>Female</td>\n",
       "    </tr>\n",
       "    <tr>\n",
       "      <th>5</th>\n",
       "      <td>Adelie</td>\n",
       "      <td>Torgersen</td>\n",
       "      <td>39.3</td>\n",
       "      <td>20.6</td>\n",
       "      <td>190.0</td>\n",
       "      <td>3650.0</td>\n",
       "      <td>Male</td>\n",
       "    </tr>\n",
       "  </tbody>\n",
       "</table>\n",
       "</div>"
      ],
      "text/plain": [
       "  species     island  bill_length_mm  bill_depth_mm  flipper_length_mm  \\\n",
       "0  Adelie  Torgersen            39.1           18.7              181.0   \n",
       "1  Adelie  Torgersen            39.5           17.4              186.0   \n",
       "2  Adelie  Torgersen            40.3           18.0              195.0   \n",
       "4  Adelie  Torgersen            36.7           19.3              193.0   \n",
       "5  Adelie  Torgersen            39.3           20.6              190.0   \n",
       "\n",
       "   body_mass_g     sex  \n",
       "0       3750.0    Male  \n",
       "1       3800.0  Female  \n",
       "2       3250.0  Female  \n",
       "4       3450.0  Female  \n",
       "5       3650.0    Male  "
      ]
     },
     "execution_count": 306,
     "metadata": {},
     "output_type": "execute_result"
    }
   ],
   "source": [
    "penguins = sns.load_dataset(\"penguins\").dropna()\n",
    "penguins.head()"
   ]
  },
  {
   "cell_type": "markdown",
   "id": "3b75f071",
   "metadata": {},
   "source": [
    "Ya vimos que para poder predecir la profundidad del pico en función de la profundidad, debemos agregar la interacción con la especie."
   ]
  },
  {
   "cell_type": "markdown",
   "id": "625039e9",
   "metadata": {},
   "source": [
    "Supongamos que queremos construir un modelo utilizando todos los datos de la base excepto los últimos 5 datos.\n",
    "\n",
    "Y luego aplicar el modelo a esos 5 datos."
   ]
  },
  {
   "cell_type": "code",
   "execution_count": 307,
   "id": "8a9df60a",
   "metadata": {},
   "outputs": [
    {
     "data": {
      "text/html": [
       "<div>\n",
       "<style scoped>\n",
       "    .dataframe tbody tr th:only-of-type {\n",
       "        vertical-align: middle;\n",
       "    }\n",
       "\n",
       "    .dataframe tbody tr th {\n",
       "        vertical-align: top;\n",
       "    }\n",
       "\n",
       "    .dataframe thead th {\n",
       "        text-align: right;\n",
       "    }\n",
       "</style>\n",
       "<table border=\"1\" class=\"dataframe\">\n",
       "  <thead>\n",
       "    <tr style=\"text-align: right;\">\n",
       "      <th></th>\n",
       "      <th>species</th>\n",
       "      <th>island</th>\n",
       "      <th>bill_length_mm</th>\n",
       "      <th>bill_depth_mm</th>\n",
       "      <th>flipper_length_mm</th>\n",
       "      <th>body_mass_g</th>\n",
       "      <th>sex</th>\n",
       "    </tr>\n",
       "  </thead>\n",
       "  <tbody>\n",
       "    <tr>\n",
       "      <th>332</th>\n",
       "      <td>Gentoo</td>\n",
       "      <td>Biscoe</td>\n",
       "      <td>43.5</td>\n",
       "      <td>15.2</td>\n",
       "      <td>213.0</td>\n",
       "      <td>4650.0</td>\n",
       "      <td>Female</td>\n",
       "    </tr>\n",
       "    <tr>\n",
       "      <th>333</th>\n",
       "      <td>Gentoo</td>\n",
       "      <td>Biscoe</td>\n",
       "      <td>51.5</td>\n",
       "      <td>16.3</td>\n",
       "      <td>230.0</td>\n",
       "      <td>5500.0</td>\n",
       "      <td>Male</td>\n",
       "    </tr>\n",
       "    <tr>\n",
       "      <th>334</th>\n",
       "      <td>Gentoo</td>\n",
       "      <td>Biscoe</td>\n",
       "      <td>46.2</td>\n",
       "      <td>14.1</td>\n",
       "      <td>217.0</td>\n",
       "      <td>4375.0</td>\n",
       "      <td>Female</td>\n",
       "    </tr>\n",
       "    <tr>\n",
       "      <th>335</th>\n",
       "      <td>Gentoo</td>\n",
       "      <td>Biscoe</td>\n",
       "      <td>55.1</td>\n",
       "      <td>16.0</td>\n",
       "      <td>230.0</td>\n",
       "      <td>5850.0</td>\n",
       "      <td>Male</td>\n",
       "    </tr>\n",
       "    <tr>\n",
       "      <th>337</th>\n",
       "      <td>Gentoo</td>\n",
       "      <td>Biscoe</td>\n",
       "      <td>48.8</td>\n",
       "      <td>16.2</td>\n",
       "      <td>222.0</td>\n",
       "      <td>6000.0</td>\n",
       "      <td>Male</td>\n",
       "    </tr>\n",
       "  </tbody>\n",
       "</table>\n",
       "</div>"
      ],
      "text/plain": [
       "    species  island  bill_length_mm  bill_depth_mm  flipper_length_mm  \\\n",
       "332  Gentoo  Biscoe            43.5           15.2              213.0   \n",
       "333  Gentoo  Biscoe            51.5           16.3              230.0   \n",
       "334  Gentoo  Biscoe            46.2           14.1              217.0   \n",
       "335  Gentoo  Biscoe            55.1           16.0              230.0   \n",
       "337  Gentoo  Biscoe            48.8           16.2              222.0   \n",
       "\n",
       "     body_mass_g     sex  \n",
       "332       4650.0  Female  \n",
       "333       5500.0    Male  \n",
       "334       4375.0  Female  \n",
       "335       5850.0    Male  \n",
       "337       6000.0    Male  "
      ]
     },
     "execution_count": 307,
     "metadata": {},
     "output_type": "execute_result"
    }
   ],
   "source": [
    "penguins_train = penguins.iloc[:-5,:]\n",
    "penguins_train.tail()"
   ]
  },
  {
   "cell_type": "code",
   "execution_count": 308,
   "id": "01dfb565",
   "metadata": {},
   "outputs": [
    {
     "data": {
      "text/html": [
       "<div>\n",
       "<style scoped>\n",
       "    .dataframe tbody tr th:only-of-type {\n",
       "        vertical-align: middle;\n",
       "    }\n",
       "\n",
       "    .dataframe tbody tr th {\n",
       "        vertical-align: top;\n",
       "    }\n",
       "\n",
       "    .dataframe thead th {\n",
       "        text-align: right;\n",
       "    }\n",
       "</style>\n",
       "<table border=\"1\" class=\"dataframe\">\n",
       "  <thead>\n",
       "    <tr style=\"text-align: right;\">\n",
       "      <th></th>\n",
       "      <th>species</th>\n",
       "      <th>island</th>\n",
       "      <th>bill_length_mm</th>\n",
       "      <th>bill_depth_mm</th>\n",
       "      <th>flipper_length_mm</th>\n",
       "      <th>body_mass_g</th>\n",
       "      <th>sex</th>\n",
       "    </tr>\n",
       "  </thead>\n",
       "  <tbody>\n",
       "    <tr>\n",
       "      <th>338</th>\n",
       "      <td>Gentoo</td>\n",
       "      <td>Biscoe</td>\n",
       "      <td>47.2</td>\n",
       "      <td>13.7</td>\n",
       "      <td>214.0</td>\n",
       "      <td>4925.0</td>\n",
       "      <td>Female</td>\n",
       "    </tr>\n",
       "    <tr>\n",
       "      <th>340</th>\n",
       "      <td>Gentoo</td>\n",
       "      <td>Biscoe</td>\n",
       "      <td>46.8</td>\n",
       "      <td>14.3</td>\n",
       "      <td>215.0</td>\n",
       "      <td>4850.0</td>\n",
       "      <td>Female</td>\n",
       "    </tr>\n",
       "    <tr>\n",
       "      <th>341</th>\n",
       "      <td>Gentoo</td>\n",
       "      <td>Biscoe</td>\n",
       "      <td>50.4</td>\n",
       "      <td>15.7</td>\n",
       "      <td>222.0</td>\n",
       "      <td>5750.0</td>\n",
       "      <td>Male</td>\n",
       "    </tr>\n",
       "    <tr>\n",
       "      <th>342</th>\n",
       "      <td>Gentoo</td>\n",
       "      <td>Biscoe</td>\n",
       "      <td>45.2</td>\n",
       "      <td>14.8</td>\n",
       "      <td>212.0</td>\n",
       "      <td>5200.0</td>\n",
       "      <td>Female</td>\n",
       "    </tr>\n",
       "    <tr>\n",
       "      <th>343</th>\n",
       "      <td>Gentoo</td>\n",
       "      <td>Biscoe</td>\n",
       "      <td>49.9</td>\n",
       "      <td>16.1</td>\n",
       "      <td>213.0</td>\n",
       "      <td>5400.0</td>\n",
       "      <td>Male</td>\n",
       "    </tr>\n",
       "  </tbody>\n",
       "</table>\n",
       "</div>"
      ],
      "text/plain": [
       "    species  island  bill_length_mm  bill_depth_mm  flipper_length_mm  \\\n",
       "338  Gentoo  Biscoe            47.2           13.7              214.0   \n",
       "340  Gentoo  Biscoe            46.8           14.3              215.0   \n",
       "341  Gentoo  Biscoe            50.4           15.7              222.0   \n",
       "342  Gentoo  Biscoe            45.2           14.8              212.0   \n",
       "343  Gentoo  Biscoe            49.9           16.1              213.0   \n",
       "\n",
       "     body_mass_g     sex  \n",
       "338       4925.0  Female  \n",
       "340       4850.0  Female  \n",
       "341       5750.0    Male  \n",
       "342       5200.0  Female  \n",
       "343       5400.0    Male  "
      ]
     },
     "execution_count": 308,
     "metadata": {},
     "output_type": "execute_result"
    }
   ],
   "source": [
    "penguins_test = penguins.iloc[-5:,:]\n",
    "penguins_test.head()"
   ]
  },
  {
   "cell_type": "code",
   "execution_count": 309,
   "id": "5a0562ec",
   "metadata": {},
   "outputs": [
    {
     "data": {
      "text/html": [
       "<div>\n",
       "<style scoped>\n",
       "    .dataframe tbody tr th:only-of-type {\n",
       "        vertical-align: middle;\n",
       "    }\n",
       "\n",
       "    .dataframe tbody tr th {\n",
       "        vertical-align: top;\n",
       "    }\n",
       "\n",
       "    .dataframe thead th {\n",
       "        text-align: right;\n",
       "    }\n",
       "</style>\n",
       "<table border=\"1\" class=\"dataframe\">\n",
       "  <thead>\n",
       "    <tr style=\"text-align: right;\">\n",
       "      <th></th>\n",
       "      <th>Intercept</th>\n",
       "      <th>bill_length_mm</th>\n",
       "      <th>species[T.Chinstrap]</th>\n",
       "      <th>species[T.Gentoo]</th>\n",
       "      <th>bill_length_mm:species[T.Chinstrap]</th>\n",
       "      <th>bill_length_mm:species[T.Gentoo]</th>\n",
       "    </tr>\n",
       "  </thead>\n",
       "  <tbody>\n",
       "    <tr>\n",
       "      <th>0</th>\n",
       "      <td>1.0</td>\n",
       "      <td>39.1</td>\n",
       "      <td>0</td>\n",
       "      <td>0</td>\n",
       "      <td>0.0</td>\n",
       "      <td>0.0</td>\n",
       "    </tr>\n",
       "    <tr>\n",
       "      <th>1</th>\n",
       "      <td>1.0</td>\n",
       "      <td>39.5</td>\n",
       "      <td>0</td>\n",
       "      <td>0</td>\n",
       "      <td>0.0</td>\n",
       "      <td>0.0</td>\n",
       "    </tr>\n",
       "    <tr>\n",
       "      <th>2</th>\n",
       "      <td>1.0</td>\n",
       "      <td>40.3</td>\n",
       "      <td>0</td>\n",
       "      <td>0</td>\n",
       "      <td>0.0</td>\n",
       "      <td>0.0</td>\n",
       "    </tr>\n",
       "    <tr>\n",
       "      <th>4</th>\n",
       "      <td>1.0</td>\n",
       "      <td>36.7</td>\n",
       "      <td>0</td>\n",
       "      <td>0</td>\n",
       "      <td>0.0</td>\n",
       "      <td>0.0</td>\n",
       "    </tr>\n",
       "    <tr>\n",
       "      <th>5</th>\n",
       "      <td>1.0</td>\n",
       "      <td>39.3</td>\n",
       "      <td>0</td>\n",
       "      <td>0</td>\n",
       "      <td>0.0</td>\n",
       "      <td>0.0</td>\n",
       "    </tr>\n",
       "  </tbody>\n",
       "</table>\n",
       "</div>"
      ],
      "text/plain": [
       "   Intercept  bill_length_mm  species[T.Chinstrap]  species[T.Gentoo]  \\\n",
       "0        1.0            39.1                     0                  0   \n",
       "1        1.0            39.5                     0                  0   \n",
       "2        1.0            40.3                     0                  0   \n",
       "4        1.0            36.7                     0                  0   \n",
       "5        1.0            39.3                     0                  0   \n",
       "\n",
       "   bill_length_mm:species[T.Chinstrap]  bill_length_mm:species[T.Gentoo]  \n",
       "0                                  0.0                               0.0  \n",
       "1                                  0.0                               0.0  \n",
       "2                                  0.0                               0.0  \n",
       "4                                  0.0                               0.0  \n",
       "5                                  0.0                               0.0  "
      ]
     },
     "execution_count": 309,
     "metadata": {},
     "output_type": "execute_result"
    }
   ],
   "source": [
    "formula = 'bill_depth_mm ~ bill_length_mm * species'\n",
    "y_train, X_train =  Formula(formula).get_model_matrix(penguins_train)\n",
    "X_train.head()"
   ]
  },
  {
   "cell_type": "code",
   "execution_count": 310,
   "id": "f295c484",
   "metadata": {},
   "outputs": [
    {
     "name": "stdout",
     "output_type": "stream",
     "text": [
      "Raíz del Error Cuadrático Medio: 0.95054\n",
      "R cuadrado: 0.76442\n"
     ]
    }
   ],
   "source": [
    "# Ajustamos el modelo\n",
    "\n",
    "# Inicializamos el modelo lineal\n",
    "modeloLineal = linear_model.LinearRegression()\n",
    "\n",
    "# Entrenamiento\n",
    "modeloLineal.fit(X_train, y_train)\n",
    "\n",
    "# Predicciones en entrenamiento\n",
    "y_pred = modeloLineal.predict(X_train)\n",
    "\n",
    "# Evaluación\n",
    "rmse = np.sqrt(mean_squared_error(y_train, y_pred))\n",
    "print(f\"Raíz del Error Cuadrático Medio: {rmse:.5f}\")\n",
    "r2 = r2_score(y_train, y_pred)\n",
    "print(f\"R cuadrado: {r2:.5f}\")"
   ]
  },
  {
   "cell_type": "code",
   "execution_count": 311,
   "id": "c8c9092f",
   "metadata": {},
   "outputs": [],
   "source": [
    "# Calculamos la perfomance en las predicciones\n",
    "\n",
    "# Funcionará esto??\n",
    "formula = 'bill_depth_mm ~ bill_length_mm * species'\n",
    "y_test, X_test =  Formula(formula).get_model_matrix(penguins_test)"
   ]
  },
  {
   "cell_type": "code",
   "execution_count": 312,
   "id": "707cabce",
   "metadata": {},
   "outputs": [
    {
     "ename": "ValueError",
     "evalue": "The feature names should match those that were passed during fit.\nFeature names seen at fit time, yet now missing:\n- bill_length_mm:species[T.Chinstrap]\n- bill_length_mm:species[T.Gentoo]\n- species[T.Chinstrap]\n- species[T.Gentoo]\n",
     "output_type": "error",
     "traceback": [
      "\u001b[1;31m---------------------------------------------------------------------------\u001b[0m",
      "\u001b[1;31mValueError\u001b[0m                                Traceback (most recent call last)",
      "Cell \u001b[1;32mIn[312], line 2\u001b[0m\n\u001b[0;32m      1\u001b[0m \u001b[38;5;66;03m# Predicciones en testeo\u001b[39;00m\n\u001b[1;32m----> 2\u001b[0m y_pred \u001b[38;5;241m=\u001b[39m \u001b[43mmodeloLineal\u001b[49m\u001b[38;5;241;43m.\u001b[39;49m\u001b[43mpredict\u001b[49m\u001b[43m(\u001b[49m\u001b[43mX_test\u001b[49m\u001b[43m)\u001b[49m\n\u001b[0;32m      4\u001b[0m \u001b[38;5;66;03m# Evaluación\u001b[39;00m\n\u001b[0;32m      5\u001b[0m rmse \u001b[38;5;241m=\u001b[39m np\u001b[38;5;241m.\u001b[39msqrt(mean_squared_error(y_train, y_pred))\n",
      "File \u001b[1;32m~\\AppData\\Local\\Programs\\Python\\Python311\\Lib\\site-packages\\sklearn\\linear_model\\_base.py:286\u001b[0m, in \u001b[0;36mLinearModel.predict\u001b[1;34m(self, X)\u001b[0m\n\u001b[0;32m    272\u001b[0m \u001b[38;5;28;01mdef\u001b[39;00m \u001b[38;5;21mpredict\u001b[39m(\u001b[38;5;28mself\u001b[39m, X):\n\u001b[0;32m    273\u001b[0m \u001b[38;5;250m    \u001b[39m\u001b[38;5;124;03m\"\"\"\u001b[39;00m\n\u001b[0;32m    274\u001b[0m \u001b[38;5;124;03m    Predict using the linear model.\u001b[39;00m\n\u001b[0;32m    275\u001b[0m \n\u001b[1;32m   (...)\u001b[0m\n\u001b[0;32m    284\u001b[0m \u001b[38;5;124;03m        Returns predicted values.\u001b[39;00m\n\u001b[0;32m    285\u001b[0m \u001b[38;5;124;03m    \"\"\"\u001b[39;00m\n\u001b[1;32m--> 286\u001b[0m     \u001b[38;5;28;01mreturn\u001b[39;00m \u001b[38;5;28;43mself\u001b[39;49m\u001b[38;5;241;43m.\u001b[39;49m\u001b[43m_decision_function\u001b[49m\u001b[43m(\u001b[49m\u001b[43mX\u001b[49m\u001b[43m)\u001b[49m\n",
      "File \u001b[1;32m~\\AppData\\Local\\Programs\\Python\\Python311\\Lib\\site-packages\\sklearn\\linear_model\\_base.py:269\u001b[0m, in \u001b[0;36mLinearModel._decision_function\u001b[1;34m(self, X)\u001b[0m\n\u001b[0;32m    266\u001b[0m \u001b[38;5;28;01mdef\u001b[39;00m \u001b[38;5;21m_decision_function\u001b[39m(\u001b[38;5;28mself\u001b[39m, X):\n\u001b[0;32m    267\u001b[0m     check_is_fitted(\u001b[38;5;28mself\u001b[39m)\n\u001b[1;32m--> 269\u001b[0m     X \u001b[38;5;241m=\u001b[39m \u001b[38;5;28;43mself\u001b[39;49m\u001b[38;5;241;43m.\u001b[39;49m\u001b[43m_validate_data\u001b[49m\u001b[43m(\u001b[49m\u001b[43mX\u001b[49m\u001b[43m,\u001b[49m\u001b[43m \u001b[49m\u001b[43maccept_sparse\u001b[49m\u001b[38;5;241;43m=\u001b[39;49m\u001b[43m[\u001b[49m\u001b[38;5;124;43m\"\u001b[39;49m\u001b[38;5;124;43mcsr\u001b[39;49m\u001b[38;5;124;43m\"\u001b[39;49m\u001b[43m,\u001b[49m\u001b[43m \u001b[49m\u001b[38;5;124;43m\"\u001b[39;49m\u001b[38;5;124;43mcsc\u001b[39;49m\u001b[38;5;124;43m\"\u001b[39;49m\u001b[43m,\u001b[49m\u001b[43m \u001b[49m\u001b[38;5;124;43m\"\u001b[39;49m\u001b[38;5;124;43mcoo\u001b[39;49m\u001b[38;5;124;43m\"\u001b[39;49m\u001b[43m]\u001b[49m\u001b[43m,\u001b[49m\u001b[43m \u001b[49m\u001b[43mreset\u001b[49m\u001b[38;5;241;43m=\u001b[39;49m\u001b[38;5;28;43;01mFalse\u001b[39;49;00m\u001b[43m)\u001b[49m\n\u001b[0;32m    270\u001b[0m     \u001b[38;5;28;01mreturn\u001b[39;00m safe_sparse_dot(X, \u001b[38;5;28mself\u001b[39m\u001b[38;5;241m.\u001b[39mcoef_\u001b[38;5;241m.\u001b[39mT, dense_output\u001b[38;5;241m=\u001b[39m\u001b[38;5;28;01mTrue\u001b[39;00m) \u001b[38;5;241m+\u001b[39m \u001b[38;5;28mself\u001b[39m\u001b[38;5;241m.\u001b[39mintercept_\n",
      "File \u001b[1;32m~\\AppData\\Local\\Programs\\Python\\Python311\\Lib\\site-packages\\sklearn\\base.py:608\u001b[0m, in \u001b[0;36mBaseEstimator._validate_data\u001b[1;34m(self, X, y, reset, validate_separately, cast_to_ndarray, **check_params)\u001b[0m\n\u001b[0;32m    537\u001b[0m \u001b[38;5;28;01mdef\u001b[39;00m \u001b[38;5;21m_validate_data\u001b[39m(\n\u001b[0;32m    538\u001b[0m     \u001b[38;5;28mself\u001b[39m,\n\u001b[0;32m    539\u001b[0m     X\u001b[38;5;241m=\u001b[39m\u001b[38;5;124m\"\u001b[39m\u001b[38;5;124mno_validation\u001b[39m\u001b[38;5;124m\"\u001b[39m,\n\u001b[1;32m   (...)\u001b[0m\n\u001b[0;32m    544\u001b[0m     \u001b[38;5;241m*\u001b[39m\u001b[38;5;241m*\u001b[39mcheck_params,\n\u001b[0;32m    545\u001b[0m ):\n\u001b[0;32m    546\u001b[0m \u001b[38;5;250m    \u001b[39m\u001b[38;5;124;03m\"\"\"Validate input data and set or check the `n_features_in_` attribute.\u001b[39;00m\n\u001b[0;32m    547\u001b[0m \n\u001b[0;32m    548\u001b[0m \u001b[38;5;124;03m    Parameters\u001b[39;00m\n\u001b[1;32m   (...)\u001b[0m\n\u001b[0;32m    606\u001b[0m \u001b[38;5;124;03m        validated.\u001b[39;00m\n\u001b[0;32m    607\u001b[0m \u001b[38;5;124;03m    \"\"\"\u001b[39;00m\n\u001b[1;32m--> 608\u001b[0m     \u001b[38;5;28;43mself\u001b[39;49m\u001b[38;5;241;43m.\u001b[39;49m\u001b[43m_check_feature_names\u001b[49m\u001b[43m(\u001b[49m\u001b[43mX\u001b[49m\u001b[43m,\u001b[49m\u001b[43m \u001b[49m\u001b[43mreset\u001b[49m\u001b[38;5;241;43m=\u001b[39;49m\u001b[43mreset\u001b[49m\u001b[43m)\u001b[49m\n\u001b[0;32m    610\u001b[0m     \u001b[38;5;28;01mif\u001b[39;00m y \u001b[38;5;129;01mis\u001b[39;00m \u001b[38;5;28;01mNone\u001b[39;00m \u001b[38;5;129;01mand\u001b[39;00m \u001b[38;5;28mself\u001b[39m\u001b[38;5;241m.\u001b[39m_get_tags()[\u001b[38;5;124m\"\u001b[39m\u001b[38;5;124mrequires_y\u001b[39m\u001b[38;5;124m\"\u001b[39m]:\n\u001b[0;32m    611\u001b[0m         \u001b[38;5;28;01mraise\u001b[39;00m \u001b[38;5;167;01mValueError\u001b[39;00m(\n\u001b[0;32m    612\u001b[0m             \u001b[38;5;124mf\u001b[39m\u001b[38;5;124m\"\u001b[39m\u001b[38;5;124mThis \u001b[39m\u001b[38;5;132;01m{\u001b[39;00m\u001b[38;5;28mself\u001b[39m\u001b[38;5;241m.\u001b[39m\u001b[38;5;18m__class__\u001b[39m\u001b[38;5;241m.\u001b[39m\u001b[38;5;18m__name__\u001b[39m\u001b[38;5;132;01m}\u001b[39;00m\u001b[38;5;124m estimator \u001b[39m\u001b[38;5;124m\"\u001b[39m\n\u001b[0;32m    613\u001b[0m             \u001b[38;5;124m\"\u001b[39m\u001b[38;5;124mrequires y to be passed, but the target y is None.\u001b[39m\u001b[38;5;124m\"\u001b[39m\n\u001b[0;32m    614\u001b[0m         )\n",
      "File \u001b[1;32m~\\AppData\\Local\\Programs\\Python\\Python311\\Lib\\site-packages\\sklearn\\base.py:535\u001b[0m, in \u001b[0;36mBaseEstimator._check_feature_names\u001b[1;34m(self, X, reset)\u001b[0m\n\u001b[0;32m    530\u001b[0m \u001b[38;5;28;01mif\u001b[39;00m \u001b[38;5;129;01mnot\u001b[39;00m missing_names \u001b[38;5;129;01mand\u001b[39;00m \u001b[38;5;129;01mnot\u001b[39;00m unexpected_names:\n\u001b[0;32m    531\u001b[0m     message \u001b[38;5;241m+\u001b[39m\u001b[38;5;241m=\u001b[39m (\n\u001b[0;32m    532\u001b[0m         \u001b[38;5;124m\"\u001b[39m\u001b[38;5;124mFeature names must be in the same order as they were in fit.\u001b[39m\u001b[38;5;130;01m\\n\u001b[39;00m\u001b[38;5;124m\"\u001b[39m\n\u001b[0;32m    533\u001b[0m     )\n\u001b[1;32m--> 535\u001b[0m \u001b[38;5;28;01mraise\u001b[39;00m \u001b[38;5;167;01mValueError\u001b[39;00m(message)\n",
      "\u001b[1;31mValueError\u001b[0m: The feature names should match those that were passed during fit.\nFeature names seen at fit time, yet now missing:\n- bill_length_mm:species[T.Chinstrap]\n- bill_length_mm:species[T.Gentoo]\n- species[T.Chinstrap]\n- species[T.Gentoo]\n"
     ]
    }
   ],
   "source": [
    "# Predicciones en testeo\n",
    "y_pred = modeloLineal.predict(X_test)\n",
    "\n",
    "# Evaluación\n",
    "rmse = np.sqrt(mean_squared_error(y_train, y_pred))\n",
    "print(f\"Raíz del Error Cuadrático Medio: {rmse:.5f}\")\n",
    "r2 = r2_score(y_train, y_pred)\n",
    "print(f\"R cuadrado: {r2:.5f}\")"
   ]
  },
  {
   "cell_type": "code",
   "execution_count": 313,
   "id": "22308d16",
   "metadata": {},
   "outputs": [
    {
     "data": {
      "text/html": [
       "<div>\n",
       "<style scoped>\n",
       "    .dataframe tbody tr th:only-of-type {\n",
       "        vertical-align: middle;\n",
       "    }\n",
       "\n",
       "    .dataframe tbody tr th {\n",
       "        vertical-align: top;\n",
       "    }\n",
       "\n",
       "    .dataframe thead th {\n",
       "        text-align: right;\n",
       "    }\n",
       "</style>\n",
       "<table border=\"1\" class=\"dataframe\">\n",
       "  <thead>\n",
       "    <tr style=\"text-align: right;\">\n",
       "      <th></th>\n",
       "      <th>Intercept</th>\n",
       "      <th>bill_length_mm</th>\n",
       "      <th>species[T.Chinstrap]</th>\n",
       "      <th>species[T.Gentoo]</th>\n",
       "      <th>bill_length_mm:species[T.Chinstrap]</th>\n",
       "      <th>bill_length_mm:species[T.Gentoo]</th>\n",
       "    </tr>\n",
       "  </thead>\n",
       "  <tbody>\n",
       "    <tr>\n",
       "      <th>0</th>\n",
       "      <td>1.0</td>\n",
       "      <td>39.1</td>\n",
       "      <td>0</td>\n",
       "      <td>0</td>\n",
       "      <td>0.0</td>\n",
       "      <td>0.0</td>\n",
       "    </tr>\n",
       "    <tr>\n",
       "      <th>1</th>\n",
       "      <td>1.0</td>\n",
       "      <td>39.5</td>\n",
       "      <td>0</td>\n",
       "      <td>0</td>\n",
       "      <td>0.0</td>\n",
       "      <td>0.0</td>\n",
       "    </tr>\n",
       "    <tr>\n",
       "      <th>2</th>\n",
       "      <td>1.0</td>\n",
       "      <td>40.3</td>\n",
       "      <td>0</td>\n",
       "      <td>0</td>\n",
       "      <td>0.0</td>\n",
       "      <td>0.0</td>\n",
       "    </tr>\n",
       "    <tr>\n",
       "      <th>4</th>\n",
       "      <td>1.0</td>\n",
       "      <td>36.7</td>\n",
       "      <td>0</td>\n",
       "      <td>0</td>\n",
       "      <td>0.0</td>\n",
       "      <td>0.0</td>\n",
       "    </tr>\n",
       "    <tr>\n",
       "      <th>5</th>\n",
       "      <td>1.0</td>\n",
       "      <td>39.3</td>\n",
       "      <td>0</td>\n",
       "      <td>0</td>\n",
       "      <td>0.0</td>\n",
       "      <td>0.0</td>\n",
       "    </tr>\n",
       "  </tbody>\n",
       "</table>\n",
       "</div>"
      ],
      "text/plain": [
       "   Intercept  bill_length_mm  species[T.Chinstrap]  species[T.Gentoo]  \\\n",
       "0        1.0            39.1                     0                  0   \n",
       "1        1.0            39.5                     0                  0   \n",
       "2        1.0            40.3                     0                  0   \n",
       "4        1.0            36.7                     0                  0   \n",
       "5        1.0            39.3                     0                  0   \n",
       "\n",
       "   bill_length_mm:species[T.Chinstrap]  bill_length_mm:species[T.Gentoo]  \n",
       "0                                  0.0                               0.0  \n",
       "1                                  0.0                               0.0  \n",
       "2                                  0.0                               0.0  \n",
       "4                                  0.0                               0.0  \n",
       "5                                  0.0                               0.0  "
      ]
     },
     "execution_count": 313,
     "metadata": {},
     "output_type": "execute_result"
    }
   ],
   "source": [
    "# Veamos si tenemos las mismas variables...\n",
    "X_train.head()"
   ]
  },
  {
   "cell_type": "code",
   "execution_count": 314,
   "id": "69f4b691",
   "metadata": {},
   "outputs": [
    {
     "data": {
      "text/html": [
       "<div>\n",
       "<style scoped>\n",
       "    .dataframe tbody tr th:only-of-type {\n",
       "        vertical-align: middle;\n",
       "    }\n",
       "\n",
       "    .dataframe tbody tr th {\n",
       "        vertical-align: top;\n",
       "    }\n",
       "\n",
       "    .dataframe thead th {\n",
       "        text-align: right;\n",
       "    }\n",
       "</style>\n",
       "<table border=\"1\" class=\"dataframe\">\n",
       "  <thead>\n",
       "    <tr style=\"text-align: right;\">\n",
       "      <th></th>\n",
       "      <th>Intercept</th>\n",
       "      <th>bill_length_mm</th>\n",
       "    </tr>\n",
       "  </thead>\n",
       "  <tbody>\n",
       "    <tr>\n",
       "      <th>338</th>\n",
       "      <td>1.0</td>\n",
       "      <td>47.2</td>\n",
       "    </tr>\n",
       "    <tr>\n",
       "      <th>340</th>\n",
       "      <td>1.0</td>\n",
       "      <td>46.8</td>\n",
       "    </tr>\n",
       "    <tr>\n",
       "      <th>341</th>\n",
       "      <td>1.0</td>\n",
       "      <td>50.4</td>\n",
       "    </tr>\n",
       "    <tr>\n",
       "      <th>342</th>\n",
       "      <td>1.0</td>\n",
       "      <td>45.2</td>\n",
       "    </tr>\n",
       "    <tr>\n",
       "      <th>343</th>\n",
       "      <td>1.0</td>\n",
       "      <td>49.9</td>\n",
       "    </tr>\n",
       "  </tbody>\n",
       "</table>\n",
       "</div>"
      ],
      "text/plain": [
       "     Intercept  bill_length_mm\n",
       "338        1.0            47.2\n",
       "340        1.0            46.8\n",
       "341        1.0            50.4\n",
       "342        1.0            45.2\n",
       "343        1.0            49.9"
      ]
     },
     "execution_count": 314,
     "metadata": {},
     "output_type": "execute_result"
    }
   ],
   "source": [
    "# Como X_test tiene pinguinos solo de la isla Biscoe, agregar la interacción con la isla no agrega nuevas variables.\n",
    "X_test.head() "
   ]
  },
  {
   "cell_type": "code",
   "execution_count": 315,
   "id": "f77aa0b2",
   "metadata": {},
   "outputs": [],
   "source": [
    "# Tenemos que aplicar las transformaciones que se hicieron en entrenamiento al conjunto de testeo.\n",
    "\n",
    "# Para eso en Formulaci podemos usar model_spec (las especificaciones del modelo).\n",
    "ms_X = X_train.model_spec\n",
    "ms_y = y_train.model_spec"
   ]
  },
  {
   "cell_type": "code",
   "execution_count": 320,
   "id": "acd70b6f",
   "metadata": {},
   "outputs": [],
   "source": [
    "# Ahora en vez de generar la matrices a partir de la fórmula, la generamos a partir de las especificaciones\n",
    "X_test = ms_X.get_model_matrix(penguins_test)\n",
    "y_test = ms_y.get_model_matrix(penguins_test)"
   ]
  },
  {
   "cell_type": "code",
   "execution_count": 321,
   "id": "fccc97c2",
   "metadata": {},
   "outputs": [
    {
     "data": {
      "text/plain": [
       "array([[14.9272153 ],\n",
       "       [14.84485842],\n",
       "       [15.58607036],\n",
       "       [14.51543088],\n",
       "       [15.48312426]])"
      ]
     },
     "execution_count": 321,
     "metadata": {},
     "output_type": "execute_result"
    }
   ],
   "source": [
    "# Ahora sí podemos predecir\n",
    "\n",
    "# Predicciones en testeo\n",
    "y_pred = modeloLineal.predict(X_test)\n",
    "\n",
    "y_pred"
   ]
  },
  {
   "cell_type": "code",
   "execution_count": 322,
   "id": "76633eef",
   "metadata": {},
   "outputs": [
    {
     "data": {
      "text/html": [
       "<div>\n",
       "<style scoped>\n",
       "    .dataframe tbody tr th:only-of-type {\n",
       "        vertical-align: middle;\n",
       "    }\n",
       "\n",
       "    .dataframe tbody tr th {\n",
       "        vertical-align: top;\n",
       "    }\n",
       "\n",
       "    .dataframe thead th {\n",
       "        text-align: right;\n",
       "    }\n",
       "</style>\n",
       "<table border=\"1\" class=\"dataframe\">\n",
       "  <thead>\n",
       "    <tr style=\"text-align: right;\">\n",
       "      <th></th>\n",
       "      <th>bill_depth_mm</th>\n",
       "    </tr>\n",
       "  </thead>\n",
       "  <tbody>\n",
       "    <tr>\n",
       "      <th>338</th>\n",
       "      <td>13.7</td>\n",
       "    </tr>\n",
       "    <tr>\n",
       "      <th>340</th>\n",
       "      <td>14.3</td>\n",
       "    </tr>\n",
       "    <tr>\n",
       "      <th>341</th>\n",
       "      <td>15.7</td>\n",
       "    </tr>\n",
       "    <tr>\n",
       "      <th>342</th>\n",
       "      <td>14.8</td>\n",
       "    </tr>\n",
       "    <tr>\n",
       "      <th>343</th>\n",
       "      <td>16.1</td>\n",
       "    </tr>\n",
       "  </tbody>\n",
       "</table>\n",
       "</div>"
      ],
      "text/plain": [
       "     bill_depth_mm\n",
       "338           13.7\n",
       "340           14.3\n",
       "341           15.7\n",
       "342           14.8\n",
       "343           16.1"
      ]
     },
     "execution_count": 322,
     "metadata": {},
     "output_type": "execute_result"
    }
   ],
   "source": [
    "y_test"
   ]
  },
  {
   "cell_type": "code",
   "execution_count": null,
   "id": "18ab9974",
   "metadata": {},
   "outputs": [],
   "source": []
  }
 ],
 "metadata": {
  "kernelspec": {
   "display_name": "Python 3 (ipykernel)",
   "language": "python",
   "name": "python3"
  },
  "language_info": {
   "codemirror_mode": {
    "name": "ipython",
    "version": 3
   },
   "file_extension": ".py",
   "mimetype": "text/x-python",
   "name": "python",
   "nbconvert_exporter": "python",
   "pygments_lexer": "ipython3",
   "version": "3.12.2"
  }
 },
 "nbformat": 4,
 "nbformat_minor": 5
}
