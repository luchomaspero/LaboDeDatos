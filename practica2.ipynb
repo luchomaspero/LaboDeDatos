{
 "cells": [
  {
   "cell_type": "code",
   "execution_count": 2,
   "id": "76d12a72-fb64-450c-a91d-f31498b43407",
   "metadata": {},
   "outputs": [
    {
     "data": {
      "text/plain": [
       "0    7\n",
       "1    4\n",
       "2   -5\n",
       "3    3\n",
       "dtype: int64"
      ]
     },
     "metadata": {},
     "output_type": "display_data"
    },
    {
     "data": {
      "text/plain": [
       "<NumpyExtensionArray>\n",
       "[7, 4, -5, 3]\n",
       "Length: 4, dtype: int64"
      ]
     },
     "metadata": {},
     "output_type": "display_data"
    },
    {
     "data": {
      "text/plain": [
       "RangeIndex(start=0, stop=4, step=1)"
      ]
     },
     "metadata": {},
     "output_type": "display_data"
    }
   ],
   "source": [
    "import pandas as pd\n",
    "import numpy as np\n",
    "obj = pd . Series ([7 ,4 , -5 ,3])\n",
    "display ( obj )\n",
    "display ( obj . array )\n",
    "display ( obj . index ) # Por default , los indices van de 0 a N -1."
   ]
  },
  {
   "cell_type": "code",
   "execution_count": 3,
   "id": "487b425a-5cdf-4bba-9e2c-eb98e1128b55",
   "metadata": {},
   "outputs": [
    {
     "data": {
      "text/plain": [
       "d    3.141593\n",
       "b    0.000000\n",
       "c   -2.000000\n",
       "a    1.410000\n",
       "dtype: float64"
      ]
     },
     "metadata": {},
     "output_type": "display_data"
    },
    {
     "data": {
      "text/plain": [
       "<NumpyExtensionArray>\n",
       "[3.141592653589793, 0.0, -2.0, 1.41]\n",
       "Length: 4, dtype: float64"
      ]
     },
     "metadata": {},
     "output_type": "display_data"
    },
    {
     "data": {
      "text/plain": [
       "Index(['d', 'b', 'c', 'a'], dtype='object')"
      ]
     },
     "metadata": {},
     "output_type": "display_data"
    }
   ],
   "source": [
    "obj2 = pd . Series ([ np . pi ,0 , -2 ,1.41] , index = [\"d\", \"b\", \"c\", \"a\"])\n",
    "display ( obj2 )\n",
    "display ( obj2 . array )\n",
    "display ( obj2 . index )"
   ]
  },
  {
   "cell_type": "code",
   "execution_count": 4,
   "id": "8beb4ce6-d2a2-46e8-af2e-222d652b1522",
   "metadata": {},
   "outputs": [
    {
     "name": "stderr",
     "output_type": "stream",
     "text": [
      "C:\\Users\\luciomaspero\\AppData\\Local\\Temp\\ipykernel_7756\\4003676245.py:2: FutureWarning: Series.__getitem__ treating keys as positions is deprecated. In a future version, integer keys will always be treated as labels (consistent with DataFrame behavior). To access a value by position, use `ser.iloc[pos]`\n",
      "  obj2 [3]\n"
     ]
    },
    {
     "data": {
      "text/plain": [
       "d    3.141593\n",
       "a    1.410000\n",
       "dtype: float64"
      ]
     },
     "execution_count": 4,
     "metadata": {},
     "output_type": "execute_result"
    }
   ],
   "source": [
    "obj2 [\"a\"]\n",
    "obj2 [3]\n",
    "obj2 [1:3]\n",
    "obj3 = obj2 [[\"a\",\"b\"]]\n",
    "obj3\n",
    "obj3.index\n",
    "obj2[ obj2 >1]"
   ]
  },
  {
   "cell_type": "code",
   "execution_count": 5,
   "id": "308164ff-bc36-4c4c-b229-a8594d0fa8bb",
   "metadata": {},
   "outputs": [
    {
     "data": {
      "text/plain": [
       "d    9.424778\n",
       "b    0.000000\n",
       "c   -6.000000\n",
       "a    4.230000\n",
       "dtype: float64"
      ]
     },
     "execution_count": 5,
     "metadata": {},
     "output_type": "execute_result"
    }
   ],
   "source": [
    "np . exp ( obj2 )\n",
    "obj2 * 3\n"
   ]
  },
  {
   "cell_type": "code",
   "execution_count": 6,
   "id": "a01d04f5-e40a-49da-89db-58f8741deda4",
   "metadata": {},
   "outputs": [
    {
     "data": {
      "text/plain": [
       "c    3\n",
       "a    2\n",
       "b    2\n",
       "x    1\n",
       "Name: count, dtype: int64"
      ]
     },
     "execution_count": 6,
     "metadata": {},
     "output_type": "execute_result"
    }
   ],
   "source": [
    "series1 = pd . Series ([\"a\", \"b\", \"c\", \"b\", \"a\", \"c\", \"c\", \"x\"]) #crea una serie pandas\n",
    "series1 . isin ([\"b\", \"c\"]) #evalua posicion a posicion si el valor esta dentro de [\"b\", \"c\"] \n",
    "series1 . value_counts ()"
   ]
  },
  {
   "cell_type": "code",
   "execution_count": 7,
   "id": "8bfdf794-6351-4cfe-9dfa-c7ce186291b1",
   "metadata": {},
   "outputs": [
    {
     "data": {
      "text/plain": [
       "{'nombre': ['Rodrigo', 'Sergio', 'Cristina', 'Diana'],\n",
       " 'altura': array([178, 172, 175, 168]),\n",
       " 'peso': array([81.2, 76.1, 68.5, 64. ])}"
      ]
     },
     "metadata": {},
     "output_type": "display_data"
    },
    {
     "data": {
      "text/html": [
       "<div>\n",
       "<style scoped>\n",
       "    .dataframe tbody tr th:only-of-type {\n",
       "        vertical-align: middle;\n",
       "    }\n",
       "\n",
       "    .dataframe tbody tr th {\n",
       "        vertical-align: top;\n",
       "    }\n",
       "\n",
       "    .dataframe thead th {\n",
       "        text-align: right;\n",
       "    }\n",
       "</style>\n",
       "<table border=\"1\" class=\"dataframe\">\n",
       "  <thead>\n",
       "    <tr style=\"text-align: right;\">\n",
       "      <th></th>\n",
       "      <th>altura</th>\n",
       "      <th>peso</th>\n",
       "    </tr>\n",
       "    <tr>\n",
       "      <th>nombre</th>\n",
       "      <th></th>\n",
       "      <th></th>\n",
       "    </tr>\n",
       "  </thead>\n",
       "  <tbody>\n",
       "    <tr>\n",
       "      <th>Rodrigo</th>\n",
       "      <td>178</td>\n",
       "      <td>81.2</td>\n",
       "    </tr>\n",
       "    <tr>\n",
       "      <th>Sergio</th>\n",
       "      <td>172</td>\n",
       "      <td>76.1</td>\n",
       "    </tr>\n",
       "    <tr>\n",
       "      <th>Cristina</th>\n",
       "      <td>175</td>\n",
       "      <td>68.5</td>\n",
       "    </tr>\n",
       "    <tr>\n",
       "      <th>Diana</th>\n",
       "      <td>168</td>\n",
       "      <td>64.0</td>\n",
       "    </tr>\n",
       "  </tbody>\n",
       "</table>\n",
       "</div>"
      ],
      "text/plain": [
       "          altura  peso\n",
       "nombre                \n",
       "Rodrigo      178  81.2\n",
       "Sergio       172  76.1\n",
       "Cristina     175  68.5\n",
       "Diana        168  64.0"
      ]
     },
     "metadata": {},
     "output_type": "display_data"
    }
   ],
   "source": [
    "data = {\"nombre\": [\"Rodrigo\", \"Sergio\", \"Cristina\", \"Diana\"] , \"altura\":\n",
    "np . array ([178 , 172 , 175 , 168]) , \"peso\": np . array ([81.2 , 76.1 , 68.5 ,\n",
    "64.0]) }\n",
    "display ( data )\n",
    "pacientes = pd . DataFrame ( data ) . set_index (\"nombre\")\n",
    "display ( pacientes )\n"
   ]
  },
  {
   "cell_type": "code",
   "execution_count": 8,
   "id": "2c428526-4ba2-432c-9319-8829826477fb",
   "metadata": {},
   "outputs": [
    {
     "data": {
      "text/plain": [
       "pandas.core.frame.DataFrame"
      ]
     },
     "metadata": {},
     "output_type": "display_data"
    },
    {
     "data": {
      "text/plain": [
       "dtype('int32')"
      ]
     },
     "metadata": {},
     "output_type": "display_data"
    },
    {
     "data": {
      "text/plain": [
       "dtype('float64')"
      ]
     },
     "metadata": {},
     "output_type": "display_data"
    }
   ],
   "source": [
    "\"\"\"¿Cual es la clase del objeto pacientes? ¿Cual es la clase de cada uno de los vectores columna?\n",
    "(para saber la clase de un objeto, utilizar el comando type, para saber el tipo de datos de un\n",
    "array de numpy, utilizar np.dtype)\"\"\"\n",
    "\n",
    "display(\n",
    "    type(pacientes),\n",
    "    #np.dtype(pacientes['nombre']),\n",
    "    np.dtype(pacientes['altura']),\n",
    "    np.dtype(pacientes['peso'])\n",
    ")\n"
   ]
  },
  {
   "cell_type": "code",
   "execution_count": 9,
   "id": "d9e32858-e5a0-4cfb-af0f-16971d2a3285",
   "metadata": {},
   "outputs": [],
   "source": [
    "\"\"\"Guardar en una variable nueva el vector columna altura. Pueden utilizar pacientes[\"altura\"]\n",
    "o pacientes.altura (la primera opci´on es preferible, la segunda puede dar error si el nombre\n",
    "coincide con alguna funci´on ya existente).\"\"\"\n",
    "\n",
    "\n",
    "alturas = pacientes['altura']\n",
    "alturas2 = pacientes.altura"
   ]
  },
  {
   "cell_type": "code",
   "execution_count": 10,
   "id": "60e835bb-6b8c-4088-b5bd-1e9936a82909",
   "metadata": {},
   "outputs": [
    {
     "data": {
      "text/plain": [
       "178"
      ]
     },
     "execution_count": 10,
     "metadata": {},
     "output_type": "execute_result"
    }
   ],
   "source": [
    "#pacientes[\"Rodrigo\"].altura\n",
    "pacientes[\"altura\"].Rodrigo\n"
   ]
  },
  {
   "cell_type": "code",
   "execution_count": 11,
   "id": "0480effc-46ae-43c3-965d-47b8ea4c3b55",
   "metadata": {},
   "outputs": [
    {
     "data": {
      "text/plain": [
       "'\\nEsto crea un nuevo objeto gapminder. Pueden ver el contenido con el comando con algunos de\\nestos comandos: display(gapminder), gapminder.info(), gapminder.head(), gapminder.tail().\\n'"
      ]
     },
     "execution_count": 11,
     "metadata": {},
     "output_type": "execute_result"
    }
   ],
   "source": [
    "#pip install gapminder\n",
    "from gapminder import gapminder\n",
    "\"\"\"\n",
    "Esto crea un nuevo objeto gapminder. Pueden ver el contenido con el comando con algunos de\n",
    "estos comandos: display(gapminder), gapminder.info(), gapminder.head(), gapminder.tail().\n",
    "\"\"\""
   ]
  },
  {
   "cell_type": "code",
   "execution_count": 12,
   "id": "e48da995-7735-4e78-b42c-fe417b4f2af7",
   "metadata": {},
   "outputs": [
    {
     "name": "stdout",
     "output_type": "stream",
     "text": [
      "<class 'pandas.core.frame.DataFrame'>\n",
      "RangeIndex: 1704 entries, 0 to 1703\n",
      "Data columns (total 6 columns):\n",
      " #   Column     Non-Null Count  Dtype  \n",
      "---  ------     --------------  -----  \n",
      " 0   country    1704 non-null   object \n",
      " 1   continent  1704 non-null   object \n",
      " 2   year       1704 non-null   int64  \n",
      " 3   lifeExp    1704 non-null   float64\n",
      " 4   pop        1704 non-null   int64  \n",
      " 5   gdpPercap  1704 non-null   float64\n",
      "dtypes: float64(2), int64(2), object(2)\n",
      "memory usage: 80.0+ KB\n"
     ]
    },
    {
     "data": {
      "text/plain": [
       "None"
      ]
     },
     "metadata": {},
     "output_type": "display_data"
    }
   ],
   "source": [
    "\"\"\"¿De qu´e clase es el objeto gapminder? ¿Qu´e variables tiene el DataFrame gapminder y de qu´e\n",
    "clase son? ¿Qu´e ´ındices usa?\"\"\"\n",
    "\n",
    "display(gapminder.info())"
   ]
  },
  {
   "cell_type": "code",
   "execution_count": 14,
   "id": "c42b6e88-c580-4dd9-bb17-b8ecf177bdec",
   "metadata": {},
   "outputs": [
    {
     "data": {
      "text/plain": [
       "(1704, 6)"
      ]
     },
     "execution_count": 14,
     "metadata": {},
     "output_type": "execute_result"
    }
   ],
   "source": [
    "#Explorar el tama˜no del DataFrame gapminder usando la funci´on shape.\n",
    "gapminder.shape\n"
   ]
  },
  {
   "cell_type": "code",
   "execution_count": 18,
   "id": "006eaa38-cd94-4f91-89de-1a2a5b6a1d46",
   "metadata": {},
   "outputs": [
    {
     "data": {
      "text/plain": [
       "142"
      ]
     },
     "execution_count": 18,
     "metadata": {},
     "output_type": "execute_result"
    }
   ],
   "source": [
    "#¿De cu´antos pa´ıses hay datos? Ayuda: averiguar qu´e hacen los m´etodos unique() y nunique()\n",
    "#aplicados a series.\n",
    "\n",
    "gapminder.country.unique() #me devuelve los valores unicos de la columna country\n",
    "gapminder.country.nunique() #me devuelve la cantidad de valores unicos de la columna country\n"
   ]
  },
  {
   "cell_type": "code",
   "execution_count": 34,
   "id": "583622eb-25c9-4142-aab5-33afe9927af7",
   "metadata": {},
   "outputs": [
    {
     "data": {
      "text/plain": [
       "2007"
      ]
     },
     "execution_count": 34,
     "metadata": {},
     "output_type": "execute_result"
    }
   ],
   "source": [
    "\"\"\"\n",
    "14. Extraer la informaci´on de Argentina, Uruguay y Chile y guardarla en un nuevo DataFrame\n",
    "gm_sur. Sugerencia: recordar el m´etodo isin().\n",
    "¿Cu´antas filas tiene? ¿Cu´al es el primer y el ´ultimo a˜no para el cu´al existen datos de Argentina\n",
    "en gapminder?\n",
    "\"\"\"\n",
    "gm_sur = gapminder[gapminder.country.isin(['Argentina', 'Uruguay', 'Chile'])]\n",
    "\n",
    "#Cant filas:\n",
    "gm_sur_filas = gm_sur.shape[0]\n",
    "\n",
    "#ultimo año Arg:\n",
    "gm_sur_arg_max = gm_sur[gm_sur.country.isin(['Argentina'])]\n",
    "max(gm_sur_arg_max['year'])"
   ]
  },
  {
   "cell_type": "code",
   "execution_count": 44,
   "id": "820205b7-a85d-4b03-a75a-fd6a6c179770",
   "metadata": {},
   "outputs": [
    {
     "data": {
      "text/plain": [
       "Index([  48,   49,   50,   51,   52,   53,   54,   55,   56,   57,   58,   59,\n",
       "        276,  277,  278,  279,  280,  281,  282,  283,  284,  285,  286,  287,\n",
       "       1620, 1621, 1622, 1623, 1624, 1625, 1626, 1627, 1628, 1629, 1630, 1631],\n",
       "      dtype='int64')"
      ]
     },
     "metadata": {},
     "output_type": "display_data"
    },
    {
     "data": {
      "text/plain": [
       "country        Argentina\n",
       "continent       Americas\n",
       "year                1952\n",
       "lifeExp           62.485\n",
       "pop             17876956\n",
       "gdpPercap    5911.315053\n",
       "Name: 48, dtype: object"
      ]
     },
     "execution_count": 44,
     "metadata": {},
     "output_type": "execute_result"
    }
   ],
   "source": [
    "\"\"\"\n",
    "¿C´omo est´a indexado el DataFrame gm_sur? Para acceder a una fila de un DataFrame, podemos\n",
    "usar los m´etodos loc[] y iloc[]. ¿C´omo se usan? ¿Cu´al es la diferencia entre los dos comandos?\n",
    "\"\"\"\n",
    "display(gm_sur.index)\n",
    "gm_sur.loc[48]\n",
    "gm_sur.iloc[0]\n",
    "#La diferencia es que loc usa el index de origen y iloc usa el index de la tabla consultada"
   ]
  },
  {
   "cell_type": "code",
   "execution_count": 71,
   "id": "d0db6dba-2259-4e5b-808f-27cf44e3ef04",
   "metadata": {},
   "outputs": [
    {
     "data": {
      "text/plain": [
       "<Axes: >"
      ]
     },
     "execution_count": 71,
     "metadata": {},
     "output_type": "execute_result"
    },
    {
     "data": {
      "image/png": "[encoded data removed]",
      "text/plain": [
       "<Figure size 640x480 with 1 Axes>"
      ]
     },
     "metadata": {},
     "output_type": "display_data"
    }
   ],
   "source": [
    "\"\"\"\n",
    "16. La biblioteca Pandas nos permite tambi´en trabajar con archivos de datos.\n",
    "(a) Leer el archivo casos_coronavirus.csv.\n",
    "(b) Graficar la curva de casos por d´ıa.\n",
    "(c) Graficar la curva de casos acumulados (utilizar la funci´on cum_sum para calcularlos.\n",
    "(d) Definir y como el logaritmo de la cantidad de casos acumulados y graficar y en funci´on de\n",
    "la cantidad de d´ıas transcurridos.\n",
    "Utilicen el siguiente c´odigo para leer el archivo y graficar.\n",
    "df = pd . read_csv (\" casos_coronavirus .csv \") # dataFrame\n",
    "df\n",
    "df [\" confirmados_Nuevos \"]. plot ()\n",
    "\"\"\"\n",
    "import matplotlib.pyplot as plt\n",
    "#a.\n",
    "datos = pd.read_csv(\"clase-2/Datos/casos_coronavirus.csv\")\n",
    "#b.\n",
    "#datos['confirmados_Nuevos'].plot(grid=True)\n",
    "#c.\n",
    "suma_acumulada = datos['confirmados_Nuevos'].cumsum()\n",
    "#suma_acumulada.plot()\n",
    "#d.\n",
    "y = np.log(suma_acumulada)\n",
    "y.plot()"
   ]
  },
  {
   "cell_type": "code",
   "execution_count": 72,
   "id": "6fc6e30d-e9c6-41a5-b21d-638dcd542127",
   "metadata": {},
   "outputs": [
    {
     "data": {
      "text/plain": [
       "'\\nVariables Categóricas:\\n\\nMarca de automóvil: Toyota, Ford, Honda.\\nTipo de animal: Perro, Gato, Pájaro.\\nTipo de fruta: Manzana, Plátano, Naranja.\\nVariables Numéricas:\\n\\nEdad de una persona: 25, 42, 67.\\nPrecio de un producto: $10.50, $25.99, $100.00.\\nNúmero de estudiantes en una clase: 20, 35, 50.\\n'"
      ]
     },
     "execution_count": 72,
     "metadata": {},
     "output_type": "execute_result"
    }
   ],
   "source": [
    "\"\"\"\n",
    "17. Dar tres ejemplos de variables categ´oricas y num´ericas.\n",
    "\"\"\"\n",
    "\"\"\"\n",
    "Variables Categóricas:\n",
    "\n",
    "Marca de automóvil: Toyota, Ford, Honda.\n",
    "Tipo de animal: Perro, Gato, Pájaro.\n",
    "Tipo de fruta: Manzana, Plátano, Naranja.\n",
    "Variables Numéricas:\n",
    "\n",
    "Edad de una persona: 25, 42, 67.\n",
    "Precio de un producto: $10.50, $25.99, $100.00.\n",
    "Número de estudiantes en una clase: 20, 35, 50.\n",
    "\"\"\""
   ]
  },
  {
   "cell_type": "code",
   "execution_count": 75,
   "id": "ec57eeaa-ac02-467e-acf7-c1ca44606649",
   "metadata": {},
   "outputs": [
    {
     "data": {
      "text/plain": [
       "0       779.445314\n",
       "1       820.853030\n",
       "2       853.100710\n",
       "3       836.197138\n",
       "4       739.981106\n",
       "           ...    \n",
       "1699    706.157306\n",
       "1700    693.420786\n",
       "1701    792.449960\n",
       "1702    672.038623\n",
       "1703    469.709298\n",
       "Name: gdpPercap, Length: 1704, dtype: float64"
      ]
     },
     "execution_count": 75,
     "metadata": {},
     "output_type": "execute_result"
    }
   ],
   "source": [
    "\"\"\"\n",
    "18. En el DataFrame gapminder, una de las variables es el producto bruto per capita de los pa´ıses\n",
    "(gdpPercap). ¿Es una variable categ´orica (nominal u ordinal) o num´erica (discreta o continua)?\n",
    "\"\"\"\n",
    "\n",
    "gapminder.gdpPercap\n",
    "#es numerica continua, ya que no forma parte de una categoria y no es un valor redondo."
   ]
  },
  {
   "cell_type": "code",
   "execution_count": 76,
   "id": "76905d2b-313a-4064-8076-db1f81a348be",
   "metadata": {},
   "outputs": [
    {
     "data": {
      "text/plain": [
       "'\\nSupongamos que definimos una nueva variable que puede tomar los siguientes valores:\\nnivelGDP = {\\n0, si gdpPercap < 1600.\\n1, si 1600 ≤ gdpPercap < 6600.\\n2, en otro caso.\\n}\\n¿La nueva variable es categ´orica (nominal u ordinal) o num´erica (discreta o continua)? ¿Cambia\\nla respuesta si la variable toma valores “bajo”, “medio” y “alto” en lugar de 0, 1, 2?\\n'"
      ]
     },
     "execution_count": 76,
     "metadata": {},
     "output_type": "execute_result"
    }
   ],
   "source": [
    "\"\"\"\n",
    "Supongamos que definimos una nueva variable que puede tomar los siguientes valores:\n",
    "nivelGDP = {\n",
    "0, si gdpPercap < 1600.\n",
    "1, si 1600 ≤ gdpPercap < 6600.\n",
    "2, en otro caso.\n",
    "}\n",
    "¿La nueva variable es categ´orica (nominal u ordinal) o num´erica (discreta o continua)? ¿Cambia\n",
    "la respuesta si la variable toma valores “bajo”, “medio” y “alto” en lugar de 0, 1, 2?\n",
    "\"\"\"\n",
    "#es categórica ordinal, ya que se puede categorizar en 0,1,2 y se puede categorizar entre <1600, entre 1600 y 6600 o >6600"
   ]
  },
  {
   "cell_type": "code",
   "execution_count": 103,
   "id": "100926bf-bdd7-46a1-b3fd-ad422c6aeb51",
   "metadata": {},
   "outputs": [
    {
     "data": {
      "text/plain": [
       "continent\n",
       "Africa      52\n",
       "Americas    25\n",
       "Asia        33\n",
       "Europe      30\n",
       "Oceania      2\n",
       "dtype: int64"
      ]
     },
     "metadata": {},
     "output_type": "display_data"
    },
    {
     "data": {
      "text/plain": [
       "continent\n",
       "Africa      52\n",
       "Americas    25\n",
       "Asia        33\n",
       "Europe      30\n",
       "Oceania      2\n",
       "Name: country, dtype: int64"
      ]
     },
     "metadata": {},
     "output_type": "display_data"
    }
   ],
   "source": [
    "\"\"\"\n",
    "20. Filtrar el DataFrame de gapminder para el a˜no 2007. Luego, para ese a˜no, calcular la cantidad\n",
    "de pa´ıses en cada continente. Explorar la funci´on groupBy() y los m´etodos size() y nunique()\n",
    "de un DataFrame agrupado.\n",
    "\"\"\"\n",
    "gm_2007 = gapminder[gapminder.year==2007]\n",
    "#gm_2007\n",
    "paises_en_continentes = gm_2007.groupby('continent').size()\n",
    "display(paises_en_continentes)\n",
    "\n",
    "paises_unicos_en_continentes = gm_2007.groupby('continent')['country'].nunique()\n",
    "display(paises_unicos_en_continentes)"
   ]
  },
  {
   "cell_type": "code",
   "execution_count": 120,
   "id": "34b338d3-61b7-4724-a82e-082319fca196",
   "metadata": {},
   "outputs": [
    {
     "data": {
      "text/html": [
       "<div>\n",
       "<style scoped>\n",
       "    .dataframe tbody tr th:only-of-type {\n",
       "        vertical-align: middle;\n",
       "    }\n",
       "\n",
       "    .dataframe tbody tr th {\n",
       "        vertical-align: top;\n",
       "    }\n",
       "\n",
       "    .dataframe thead th {\n",
       "        text-align: right;\n",
       "    }\n",
       "</style>\n",
       "<table border=\"1\" class=\"dataframe\">\n",
       "  <thead>\n",
       "    <tr style=\"text-align: right;\">\n",
       "      <th>continent</th>\n",
       "      <th>Africa</th>\n",
       "      <th>Americas</th>\n",
       "      <th>Asia</th>\n",
       "      <th>Europe</th>\n",
       "      <th>Oceania</th>\n",
       "    </tr>\n",
       "  </thead>\n",
       "  <tbody>\n",
       "  </tbody>\n",
       "</table>\n",
       "</div>"
      ],
      "text/plain": [
       "Empty DataFrame\n",
       "Columns: [Africa, Americas, Asia, Europe, Oceania]\n",
       "Index: []"
      ]
     },
     "execution_count": 120,
     "metadata": {},
     "output_type": "execute_result"
    }
   ],
   "source": [
    "\"\"\"\n",
    "21. Con el mismo filtro que el ejercicio anterior (es decir, s´olo para el a˜no 2007), crear una variable\n",
    "gdpAlto que valga 1 si gdpPercap es mayor que 2000 d´olares y 0 si no lo es. Luego crear una\n",
    "tabla de 2 filas y 5 columnas que calcule la cantidad de pa´ıses donde gdpAlto = 0 o gdpAlto = 1\n",
    "en cada continente.\n",
    "Ayuda 1: para convertir un array de variables booleanas a 0/1 pueden usar .astype(int) (o\n",
    "en este ejercicio pueden usar una variable booleana en vez de 0/1).\n",
    "Ayuda 2: si tenemos informaci´on agrupada por 2 columnas, podemos convertirla a una tabla\n",
    "con la funci´on unstack().\n",
    "\"\"\"\n",
    "\n",
    "#gm_2007\n",
    "gm_2007 = gm_2007.copy() #para no manipular el gm original\n",
    "gm_2007['gdpAlto'] = (gm_2007['gdpPercap'] > 2000).astype(int)\n",
    "#display(gm_2007)\n",
    "\n",
    "tabla = pd.DataFrame(columns=paises_unicos_en_continentes.index)\n",
    "tabla\n",
    "##### falta terminar"
   ]
  },
  {
   "cell_type": "code",
   "execution_count": null,
   "id": "2f022283-5f94-4769-b582-46256fa34121",
   "metadata": {},
   "outputs": [],
   "source": []
  }
 ],
 "metadata": {
  "kernelspec": {
   "display_name": "Python 3 (ipykernel)",
   "language": "python",
   "name": "python3"
  },
  "language_info": {
   "codemirror_mode": {
    "name": "ipython",
    "version": 3
   },
   "file_extension": ".py",
   "mimetype": "text/x-python",
   "name": "python",
   "nbconvert_exporter": "python",
   "pygments_lexer": "ipython3",
   "version": "3.11.5"
  }
 },
 "nbformat": 4,
 "nbformat_minor": 5
}
