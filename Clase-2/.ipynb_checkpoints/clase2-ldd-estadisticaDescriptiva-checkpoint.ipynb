{
 "cells": [
  {
   "cell_type": "code",
   "execution_count": 30,
   "id": "f98431ce",
   "metadata": {
    "ExecuteTime": {
     "end_time": "2024-03-19T15:23:44.512783351Z",
     "start_time": "2024-03-19T15:23:43.726402652Z"
    }
   },
   "outputs": [],
   "source": [
    "import matplotlib.pyplot as plt\n",
    "import seaborn as sns\n",
    "import numpy as np\n",
    "import pandas as pd"
   ]
  },
  {
   "cell_type": "markdown",
   "id": "5dea1133",
   "metadata": {},
   "source": [
    "# Clase 2"
   ]
  },
  {
   "cell_type": "markdown",
   "id": "20cd9ea2",
   "metadata": {},
   "source": [
    "## Biblioteca Pandas"
   ]
  },
  {
   "cell_type": "markdown",
   "id": "54733799",
   "metadata": {},
   "source": [
    "Pandas es una biblioteca de Python muy usada para análisis y manipulación de datos. Provee principalmente dos tipos de clases para trabajar con datos:\n",
    "\n",
    "- **Series:** un vector unidimensional indexado, que contiene datos de cualquier tipo\n",
    "como números enteros, cadenas, objetos Python, etc.\n",
    "\n",
    "- **DataFrame:** una estructura de datos bidimensional que contiene datos como una matriz bidimensional o una tabla con filas y columnas.\n",
    "\n",
    "Bibliografía recomendada: Sección 5 de Python for Data Analysis, de Wes McKinney (creador de la biblioteca Pandas), disponible on-line en forma gratuita en la página\n",
    "https://wesmckinney.com/book/pandas-basics"
   ]
  },
  {
   "cell_type": "markdown",
   "id": "6a3222a8",
   "metadata": {},
   "source": [
    "### Series\n",
    "\n",
    "Las series de Pandas son vectores similares a los arrays de NumPy, que podemos indexar usando etiquetas.\n",
    "\n",
    "Crear la siguiente Series, observar qué devuelve array e index e interpretar."
   ]
  },
  {
   "cell_type": "code",
   "execution_count": 4,
   "id": "ebd45e1d",
   "metadata": {},
   "outputs": [
    {
     "data": {
      "text/plain": [
       "0    7\n",
       "1    4\n",
       "2   -5\n",
       "3    3\n",
       "dtype: int64"
      ]
     },
     "execution_count": 4,
     "metadata": {},
     "output_type": "execute_result"
    }
   ],
   "source": [
    "import pandas as pd\n",
    "obj = pd.Series([7,4,-5,3])\n",
    "obj"
   ]
  },
  {
   "cell_type": "code",
   "execution_count": 5,
   "id": "1da6ad40",
   "metadata": {},
   "outputs": [
    {
     "data": {
      "text/plain": [
       "<NumpyExtensionArray>\n",
       "[7, 4, -5, 3]\n",
       "Length: 4, dtype: int64"
      ]
     },
     "execution_count": 5,
     "metadata": {},
     "output_type": "execute_result"
    }
   ],
   "source": [
    "obj.array"
   ]
  },
  {
   "cell_type": "code",
   "execution_count": 6,
   "id": "bf0fe789",
   "metadata": {},
   "outputs": [
    {
     "data": {
      "text/plain": [
       "RangeIndex(start=0, stop=4, step=1)"
      ]
     },
     "execution_count": 6,
     "metadata": {},
     "output_type": "execute_result"
    }
   ],
   "source": [
    "obj.index # Por default , los indices van de 0 a N-1."
   ]
  },
  {
   "cell_type": "markdown",
   "id": "c714b1a6",
   "metadata": {},
   "source": [
    "Podemos asignar etiquetas (o índices) a cada valor de la serie."
   ]
  },
  {
   "cell_type": "code",
   "execution_count": 7,
   "id": "4faca2a6",
   "metadata": {},
   "outputs": [
    {
     "data": {
      "text/plain": [
       "d    3.141593\n",
       "b    0.000000\n",
       "c   -2.000000\n",
       "a    1.410000\n",
       "dtype: float64"
      ]
     },
     "metadata": {},
     "output_type": "display_data"
    },
    {
     "data": {
      "text/plain": [
       "<NumpyExtensionArray>\n",
       "[3.141592653589793, 0.0, -2.0, 1.41]\n",
       "Length: 4, dtype: float64"
      ]
     },
     "metadata": {},
     "output_type": "display_data"
    },
    {
     "data": {
      "text/plain": [
       "Index(['d', 'b', 'c', 'a'], dtype='object')"
      ]
     },
     "metadata": {},
     "output_type": "display_data"
    }
   ],
   "source": [
    "obj2 = pd.Series([np.pi,0,-2,1.41], index = [\"d\", \"b\", \"c\", \"a\"])\n",
    "display(obj2)\n",
    "display(obj2.array)\n",
    "display(obj2.index)"
   ]
  },
  {
   "cell_type": "markdown",
   "id": "ee6b0b36",
   "metadata": {},
   "source": [
    "Al igual que con arrays de Numpy podemos acceder a los elementos por su posición, o podemos usar las etiquetas."
   ]
  },
  {
   "cell_type": "code",
   "execution_count": 31,
   "id": "37ad9e80",
   "metadata": {},
   "outputs": [
    {
     "name": "stderr",
     "output_type": "stream",
     "text": [
      "C:\\Users\\luciomaspero\\AppData\\Local\\Temp\\ipykernel_23484\\1795948936.py:2: FutureWarning: Series.__getitem__ treating keys as positions is deprecated. In a future version, integer keys will always be treated as labels (consistent with DataFrame behavior). To access a value by position, use `ser.iloc[pos]`\n",
      "  obj2[3]\n"
     ]
    },
    {
     "data": {
      "text/plain": [
       "b    0.0\n",
       "c   -2.0\n",
       "dtype: float64"
      ]
     },
     "execution_count": 31,
     "metadata": {},
     "output_type": "execute_result"
    }
   ],
   "source": [
    "obj2['a']\n",
    "obj2[3]\n",
    "obj2[1:3]"
   ]
  },
  {
   "cell_type": "code",
   "execution_count": 9,
   "id": "8ad5335e",
   "metadata": {},
   "outputs": [
    {
     "data": {
      "text/plain": [
       "Index(['a', 'b'], dtype='object')"
      ]
     },
     "execution_count": 9,
     "metadata": {},
     "output_type": "execute_result"
    }
   ],
   "source": [
    "obj3 = obj2[[\"a\",\"b\"]]\n",
    "obj3\n",
    "obj3.index"
   ]
  },
  {
   "cell_type": "code",
   "execution_count": 10,
   "id": "62a2c96e",
   "metadata": {},
   "outputs": [
    {
     "data": {
      "text/plain": [
       "d    3.141593\n",
       "a    1.410000\n",
       "dtype: float64"
      ]
     },
     "execution_count": 10,
     "metadata": {},
     "output_type": "execute_result"
    }
   ],
   "source": [
    "obj2[obj2>1]"
   ]
  },
  {
   "cell_type": "markdown",
   "id": "f55f3898",
   "metadata": {},
   "source": [
    "Las operaciones que pueden aplicarse a numpy arrays pueden aplicarse también a series de Pandas, conservando los índices."
   ]
  },
  {
   "cell_type": "code",
   "execution_count": 11,
   "id": "3241afba",
   "metadata": {},
   "outputs": [
    {
     "data": {
      "text/plain": [
       "d    23.140693\n",
       "b     1.000000\n",
       "c     0.135335\n",
       "a     4.095955\n",
       "dtype: float64"
      ]
     },
     "execution_count": 11,
     "metadata": {},
     "output_type": "execute_result"
    }
   ],
   "source": [
    "np.exp(obj2)"
   ]
  },
  {
   "cell_type": "code",
   "execution_count": 12,
   "id": "1c3a4f84",
   "metadata": {},
   "outputs": [
    {
     "data": {
      "text/plain": [
       "d    9.424778\n",
       "b    0.000000\n",
       "c   -6.000000\n",
       "a    4.230000\n",
       "dtype: float64"
      ]
     },
     "execution_count": 12,
     "metadata": {},
     "output_type": "execute_result"
    }
   ],
   "source": [
    "obj2 * 3"
   ]
  },
  {
   "cell_type": "markdown",
   "id": "db43817d",
   "metadata": {},
   "source": [
    "¿Qué esperamos que de este código?"
   ]
  },
  {
   "cell_type": "code",
   "execution_count": 13,
   "id": "fa70e1ec",
   "metadata": {},
   "outputs": [
    {
     "data": {
      "text/plain": [
       "0   NaN\n",
       "1   NaN\n",
       "2   NaN\n",
       "3   NaN\n",
       "a   NaN\n",
       "b   NaN\n",
       "c   NaN\n",
       "d   NaN\n",
       "dtype: float64"
      ]
     },
     "execution_count": 13,
     "metadata": {},
     "output_type": "execute_result"
    }
   ],
   "source": [
    "obj + obj2"
   ]
  },
  {
   "cell_type": "markdown",
   "id": "1cafc094",
   "metadata": {},
   "source": [
    "NaN significa \"not a number\", se utiliza en series de Pandas para valores faltantes (missing values)."
   ]
  },
  {
   "cell_type": "code",
   "execution_count": 14,
   "id": "a834e19c",
   "metadata": {},
   "outputs": [
    {
     "data": {
      "text/plain": [
       "d    3.141593\n",
       "b    0.000000\n",
       "c   -2.000000\n",
       "a    1.410000\n",
       "dtype: float64"
      ]
     },
     "metadata": {},
     "output_type": "display_data"
    },
    {
     "data": {
      "text/plain": [
       "d    1\n",
       "b    2\n",
       "y    3\n",
       "z    4\n",
       "dtype: int64"
      ]
     },
     "metadata": {},
     "output_type": "display_data"
    },
    {
     "name": "stdout",
     "output_type": "stream",
     "text": [
      "resultado: \n"
     ]
    },
    {
     "data": {
      "text/plain": [
       "a         NaN\n",
       "b    2.000000\n",
       "c         NaN\n",
       "d    4.141593\n",
       "y         NaN\n",
       "z         NaN\n",
       "dtype: float64"
      ]
     },
     "execution_count": 14,
     "metadata": {},
     "output_type": "execute_result"
    }
   ],
   "source": [
    "# Y ahora?\n",
    "obj4 = pd.Series([1,2,3,4], index = [\"d\", \"b\", \"y\", \"z\"])\n",
    "\n",
    "display(obj2)\n",
    "display(obj4)\n",
    "print('resultado: ')\n",
    "obj2 + obj4"
   ]
  },
  {
   "cell_type": "markdown",
   "id": "1db27bb2",
   "metadata": {},
   "source": [
    "Las series de Pandas tienen varias funciones útiles que iremos viendo más adelante. A modo de ejemplo, interpretar que hacen las siguientes funciones."
   ]
  },
  {
   "cell_type": "code",
   "execution_count": 15,
   "id": "be7368ce",
   "metadata": {},
   "outputs": [
    {
     "data": {
      "text/plain": [
       "0    False\n",
       "1     True\n",
       "2     True\n",
       "3     True\n",
       "4    False\n",
       "5     True\n",
       "6    False\n",
       "dtype: bool"
      ]
     },
     "execution_count": 15,
     "metadata": {},
     "output_type": "execute_result"
    }
   ],
   "source": [
    "series1 = pd.Series([\"a\", \"b\", \"c\", \"b\", \"a\", \"c\", \"x\"])\n",
    "series1.isin([\"b\", \"c\"])"
   ]
  },
  {
   "cell_type": "code",
   "execution_count": 16,
   "id": "9b3c947d",
   "metadata": {},
   "outputs": [
    {
     "data": {
      "text/plain": [
       "a    2\n",
       "b    2\n",
       "c    2\n",
       "x    1\n",
       "Name: count, dtype: int64"
      ]
     },
     "execution_count": 16,
     "metadata": {},
     "output_type": "execute_result"
    }
   ],
   "source": [
    "series1.value_counts()"
   ]
  },
  {
   "cell_type": "markdown",
   "id": "3061a0c2",
   "metadata": {},
   "source": [
    "### DataFrames\n",
    "Un data frame es una representación de los datos en formato de tabla en la que cada\n",
    "columna son vectores del mismo tamaño. Como cada columna es un vector, cada columna puede\n",
    "contener datos de un único tipo. Se pueden pensar como variables. Cada variable corresponde a una\n",
    "serie de Pandas, y todas las series de un dataframe están indexadas por los mismos ´ındices."
   ]
  },
  {
   "cell_type": "markdown",
   "id": "f5e2a20b",
   "metadata": {},
   "source": [
    "Una forma de crear un data frame es utilizando un \"diccionario\". Todas las variables del\n",
    "diccionario deben ser vectores o listas de la misma longitud. "
   ]
  },
  {
   "cell_type": "code",
   "execution_count": 17,
   "id": "35a0cb4e",
   "metadata": {},
   "outputs": [
    {
     "data": {
      "text/plain": [
       "{'nombres': ['Rodrigo', 'Sergio', 'Cristina', 'Diana'],\n",
       " 'altura': array([178, 172, 175, 168]),\n",
       " 'peso': array([81.2, 76.1, 68.5, 64. ])}"
      ]
     },
     "metadata": {},
     "output_type": "display_data"
    }
   ],
   "source": [
    "data = {\"nombres\": [\"Rodrigo\", \"Sergio\", \"Cristina\", \"Diana\"], \"altura\": np.array([178, 172, 175, 168]), \"peso\": np.array\n",
    "([81.2, 76.1, 68.5, 64.0])}\n",
    "display(data)"
   ]
  },
  {
   "cell_type": "code",
   "execution_count": 18,
   "id": "99ec5669",
   "metadata": {},
   "outputs": [
    {
     "data": {
      "text/plain": [
       "dict"
      ]
     },
     "execution_count": 18,
     "metadata": {},
     "output_type": "execute_result"
    }
   ],
   "source": [
    "type(data)"
   ]
  },
  {
   "cell_type": "code",
   "execution_count": 19,
   "id": "c4045edc",
   "metadata": {},
   "outputs": [
    {
     "data": {
      "text/plain": [
       "array([178, 172, 175, 168])"
      ]
     },
     "execution_count": 19,
     "metadata": {},
     "output_type": "execute_result"
    }
   ],
   "source": [
    "data[\"altura\"]"
   ]
  },
  {
   "cell_type": "code",
   "execution_count": 20,
   "id": "a5955fa8",
   "metadata": {},
   "outputs": [
    {
     "data": {
      "text/html": [
       "<div>\n",
       "<style scoped>\n",
       "    .dataframe tbody tr th:only-of-type {\n",
       "        vertical-align: middle;\n",
       "    }\n",
       "\n",
       "    .dataframe tbody tr th {\n",
       "        vertical-align: top;\n",
       "    }\n",
       "\n",
       "    .dataframe thead th {\n",
       "        text-align: right;\n",
       "    }\n",
       "</style>\n",
       "<table border=\"1\" class=\"dataframe\">\n",
       "  <thead>\n",
       "    <tr style=\"text-align: right;\">\n",
       "      <th></th>\n",
       "      <th>nombres</th>\n",
       "      <th>altura</th>\n",
       "      <th>peso</th>\n",
       "    </tr>\n",
       "  </thead>\n",
       "  <tbody>\n",
       "    <tr>\n",
       "      <th>0</th>\n",
       "      <td>Rodrigo</td>\n",
       "      <td>178</td>\n",
       "      <td>81.2</td>\n",
       "    </tr>\n",
       "    <tr>\n",
       "      <th>1</th>\n",
       "      <td>Sergio</td>\n",
       "      <td>172</td>\n",
       "      <td>76.1</td>\n",
       "    </tr>\n",
       "    <tr>\n",
       "      <th>2</th>\n",
       "      <td>Cristina</td>\n",
       "      <td>175</td>\n",
       "      <td>68.5</td>\n",
       "    </tr>\n",
       "    <tr>\n",
       "      <th>3</th>\n",
       "      <td>Diana</td>\n",
       "      <td>168</td>\n",
       "      <td>64.0</td>\n",
       "    </tr>\n",
       "  </tbody>\n",
       "</table>\n",
       "</div>"
      ],
      "text/plain": [
       "    nombres  altura  peso\n",
       "0   Rodrigo     178  81.2\n",
       "1    Sergio     172  76.1\n",
       "2  Cristina     175  68.5\n",
       "3     Diana     168  64.0"
      ]
     },
     "metadata": {},
     "output_type": "display_data"
    }
   ],
   "source": [
    "# Creamos un data frame con esos datos, usando los nombres como etiquetas\n",
    "pacientes = pd.DataFrame(data)\n",
    "display(pacientes)"
   ]
  },
  {
   "cell_type": "code",
   "execution_count": 21,
   "id": "8d6d3d76",
   "metadata": {},
   "outputs": [
    {
     "data": {
      "text/html": [
       "<div>\n",
       "<style scoped>\n",
       "    .dataframe tbody tr th:only-of-type {\n",
       "        vertical-align: middle;\n",
       "    }\n",
       "\n",
       "    .dataframe tbody tr th {\n",
       "        vertical-align: top;\n",
       "    }\n",
       "\n",
       "    .dataframe thead th {\n",
       "        text-align: right;\n",
       "    }\n",
       "</style>\n",
       "<table border=\"1\" class=\"dataframe\">\n",
       "  <thead>\n",
       "    <tr style=\"text-align: right;\">\n",
       "      <th></th>\n",
       "      <th>altura</th>\n",
       "      <th>peso</th>\n",
       "    </tr>\n",
       "    <tr>\n",
       "      <th>nombres</th>\n",
       "      <th></th>\n",
       "      <th></th>\n",
       "    </tr>\n",
       "  </thead>\n",
       "  <tbody>\n",
       "    <tr>\n",
       "      <th>Sergio</th>\n",
       "      <td>172</td>\n",
       "      <td>76.1</td>\n",
       "    </tr>\n",
       "    <tr>\n",
       "      <th>Rodrigo</th>\n",
       "      <td>178</td>\n",
       "      <td>81.2</td>\n",
       "    </tr>\n",
       "    <tr>\n",
       "      <th>Diana</th>\n",
       "      <td>168</td>\n",
       "      <td>64.0</td>\n",
       "    </tr>\n",
       "    <tr>\n",
       "      <th>Cristina</th>\n",
       "      <td>175</td>\n",
       "      <td>68.5</td>\n",
       "    </tr>\n",
       "  </tbody>\n",
       "</table>\n",
       "</div>"
      ],
      "text/plain": [
       "          altura  peso\n",
       "nombres               \n",
       "Sergio       172  76.1\n",
       "Rodrigo      178  81.2\n",
       "Diana        168  64.0\n",
       "Cristina     175  68.5"
      ]
     },
     "execution_count": 21,
     "metadata": {},
     "output_type": "execute_result"
    }
   ],
   "source": [
    "# En este ejemplo podemos usar los nombres como índices\n",
    "pacientes = pd.DataFrame(data).set_index(\"nombres\")\n",
    "pacientes.sort_index(ascending = False)"
   ]
  },
  {
   "cell_type": "code",
   "execution_count": 22,
   "id": "00dfc5fd",
   "metadata": {},
   "outputs": [
    {
     "data": {
      "text/plain": [
       "nombres\n",
       "Rodrigo     178\n",
       "Sergio      172\n",
       "Cristina    175\n",
       "Diana       168\n",
       "Name: altura, dtype: int32"
      ]
     },
     "execution_count": 22,
     "metadata": {},
     "output_type": "execute_result"
    }
   ],
   "source": [
    "# Podemos acceder a las columnas de dos formas distintas\n",
    "alturas = pacientes[\"altura\"]\n",
    "alturas"
   ]
  },
  {
   "cell_type": "code",
   "execution_count": 23,
   "id": "3bb5601a",
   "metadata": {},
   "outputs": [
    {
     "data": {
      "text/plain": [
       "nombres\n",
       "Rodrigo     178\n",
       "Sergio      172\n",
       "Cristina    175\n",
       "Diana       168\n",
       "Name: altura, dtype: int32"
      ]
     },
     "execution_count": 23,
     "metadata": {},
     "output_type": "execute_result"
    }
   ],
   "source": [
    "pacientes.altura"
   ]
  },
  {
   "cell_type": "code",
   "execution_count": 24,
   "id": "021c4976",
   "metadata": {},
   "outputs": [
    {
     "data": {
      "text/plain": [
       "pandas.core.series.Series"
      ]
     },
     "execution_count": 24,
     "metadata": {},
     "output_type": "execute_result"
    }
   ],
   "source": [
    "type(alturas)"
   ]
  },
  {
   "cell_type": "markdown",
   "id": "865e95c4",
   "metadata": {},
   "source": [
    "A diferencia de las matrices en Numpy, un DataFrame de Pandas es un conjunto de columnas, no de filas. \n",
    "Si queremos saber la altura de Rodrigo, pensar cuál de los dos comandos será correcto antes de ejecutarlos."
   ]
  },
  {
   "cell_type": "code",
   "execution_count": 25,
   "id": "79902472",
   "metadata": {},
   "outputs": [
    {
     "data": {
      "text/plain": [
       "178"
      ]
     },
     "execution_count": 25,
     "metadata": {},
     "output_type": "execute_result"
    }
   ],
   "source": [
    "#pacientes[\"Rodrigo\"].altura\n",
    "pacientes[\"altura\"].Rodrigo"
   ]
  },
  {
   "cell_type": "markdown",
   "id": "a8840666",
   "metadata": {},
   "source": [
    "Para acceder a una fila de un dataframe, podemos usar los métodos `loc[]` y `iloc[]`. \n",
    "\n",
    "¿Cómo se usan? ¿Cuál es la diferencia entre los dos comandos?"
   ]
  },
  {
   "cell_type": "code",
   "execution_count": 26,
   "id": "5e3df31b",
   "metadata": {},
   "outputs": [
    {
     "name": "stdout",
     "output_type": "stream",
     "text": [
      "altura    178.0\n",
      "peso       81.2\n",
      "Name: Rodrigo, dtype: float64\n"
     ]
    },
    {
     "data": {
      "text/plain": [
       "altura    172.0\n",
       "peso       76.1\n",
       "Name: Sergio, dtype: float64"
      ]
     },
     "execution_count": 26,
     "metadata": {},
     "output_type": "execute_result"
    }
   ],
   "source": [
    "print(pacientes.loc[\"Rodrigo\"])\n",
    "\n",
    "pacientes.iloc[1]"
   ]
  },
  {
   "cell_type": "markdown",
   "id": "c4a812c8",
   "metadata": {},
   "source": [
    "## Gapminder"
   ]
  },
  {
   "cell_type": "markdown",
   "id": "7d51092a",
   "metadata": {},
   "source": [
    "A modo de ejemplo, vamos a explorar el dataset Gapminder que contiene datos poblacionales y de desarrollo humano de distintos países a lo largo del tiempo.\n",
    "\n",
    "Si gapminder no está instalado, ejecutrar el siguiente comando para instalarlo"
   ]
  },
  {
   "cell_type": "code",
   "execution_count": 27,
   "id": "83bb24e0",
   "metadata": {
    "ExecuteTime": {
     "end_time": "2024-03-19T15:23:44.697479194Z",
     "start_time": "2024-03-19T15:23:43.774388836Z"
    }
   },
   "outputs": [],
   "source": [
    "#pip install gapminder"
   ]
  },
  {
   "cell_type": "code",
   "execution_count": 28,
   "id": "d69b192a",
   "metadata": {
    "ExecuteTime": {
     "end_time": "2024-03-19T15:23:44.698765707Z",
     "start_time": "2024-03-19T15:23:43.859332610Z"
    }
   },
   "outputs": [
    {
     "ename": "ModuleNotFoundError",
     "evalue": "No module named 'gapminder'",
     "output_type": "error",
     "traceback": [
      "\u001b[1;31m---------------------------------------------------------------------------\u001b[0m",
      "\u001b[1;31mModuleNotFoundError\u001b[0m                       Traceback (most recent call last)",
      "Cell \u001b[1;32mIn[28], line 1\u001b[0m\n\u001b[1;32m----> 1\u001b[0m \u001b[38;5;28;01mfrom\u001b[39;00m \u001b[38;5;21;01mgapminder\u001b[39;00m \u001b[38;5;28;01mimport\u001b[39;00m gapminder\n\u001b[0;32m      2\u001b[0m display(gapminder)\n",
      "\u001b[1;31mModuleNotFoundError\u001b[0m: No module named 'gapminder'"
     ]
    }
   ],
   "source": [
    "from gapminder import gapminder\n",
    "display(gapminder)"
   ]
  },
  {
   "cell_type": "code",
   "execution_count": null,
   "id": "dda2380a",
   "metadata": {
    "ExecuteTime": {
     "end_time": "2024-03-19T15:23:44.700055833Z",
     "start_time": "2024-03-19T15:23:44.054413327Z"
    }
   },
   "outputs": [],
   "source": [
    "gapminder.head()\n",
    "#gapminder.tail()"
   ]
  },
  {
   "cell_type": "markdown",
   "id": "9f683d35",
   "metadata": {},
   "source": [
    "Podemos ver información básica del DataFrame con la función info"
   ]
  },
  {
   "cell_type": "code",
   "execution_count": null,
   "id": "20b2919c",
   "metadata": {},
   "outputs": [],
   "source": [
    "gapminder.info()"
   ]
  },
  {
   "cell_type": "code",
   "execution_count": null,
   "id": "35c6ae08",
   "metadata": {},
   "outputs": [],
   "source": [
    "gapminder.describe()"
   ]
  },
  {
   "cell_type": "code",
   "execution_count": null,
   "id": "0c5bb296",
   "metadata": {
    "ExecuteTime": {
     "end_time": "2024-03-19T15:23:44.701369278Z",
     "start_time": "2024-03-19T15:23:44.157026762Z"
    }
   },
   "outputs": [],
   "source": [
    "# Vemos todos los países en la base\n",
    "gapminder[\"country\"].unique()"
   ]
  },
  {
   "cell_type": "code",
   "execution_count": null,
   "id": "51d18d8d",
   "metadata": {
    "ExecuteTime": {
     "end_time": "2024-03-19T15:23:44.846530051Z",
     "start_time": "2024-03-19T15:23:44.244913486Z"
    }
   },
   "outputs": [],
   "source": [
    "# Cuántos países son?\n",
    "gapminder[\"country\"].nunique()\n",
    "\n",
    "#equivalente a ------------ >  len(gapminder[\"country\"].unique())"
   ]
  },
  {
   "cell_type": "code",
   "execution_count": null,
   "id": "f0eba843",
   "metadata": {
    "ExecuteTime": {
     "end_time": "2024-03-19T15:23:44.847515587Z",
     "start_time": "2024-03-19T15:23:44.367442673Z"
    }
   },
   "outputs": [],
   "source": [
    "# Si queremos ver cuántos países hay en cada continente...\n",
    "# podemos agregupar por continente y ver el tamaño de cada grupo\n",
    "gapminder.groupby(\"continent\").size()"
   ]
  },
  {
   "cell_type": "code",
   "execution_count": null,
   "id": "cd79e97f",
   "metadata": {
    "ExecuteTime": {
     "end_time": "2024-03-19T15:23:44.849159811Z",
     "start_time": "2024-03-19T15:23:44.427622728Z"
    }
   },
   "outputs": [],
   "source": [
    "# Pero cada país aparece varias veces, con datos de distintos años.\n",
    "# Para contar sin repeticion usamos nuevamente nunique\n",
    "gapminder.groupby(\"continent\")[\"country\"].nunique()"
   ]
  },
  {
   "cell_type": "code",
   "execution_count": null,
   "id": "af4bc12a",
   "metadata": {
    "ExecuteTime": {
     "end_time": "2024-03-19T15:23:44.931473372Z",
     "start_time": "2024-03-19T15:23:44.518316808Z"
    }
   },
   "outputs": [],
   "source": [
    "# Si queremos calcular porcentajes, dividimos por la cantidad total de paises\n",
    "totalPaises = gapminder[\"country\"].nunique()\n",
    "gapminder.groupby(\"continent\")[\"country\"].nunique() / totalPaises"
   ]
  },
  {
   "cell_type": "code",
   "execution_count": null,
   "id": "3a5a0bb5",
   "metadata": {
    "ExecuteTime": {
     "end_time": "2024-03-19T15:23:44.961927050Z",
     "start_time": "2024-03-19T15:23:44.606595008Z"
    }
   },
   "outputs": [],
   "source": [
    "# O podemos usar el comando value_counts y pasarle un parámetro para que nos de los valores normalizados.\n",
    "# (la normalización lleva la suma total a 1)\n",
    "gapminder[[\"continent\", \"country\"]].drop_duplicates().continent.value_counts(normalize=True)"
   ]
  },
  {
   "cell_type": "code",
   "execution_count": null,
   "id": "da140f86",
   "metadata": {
    "ExecuteTime": {
     "end_time": "2024-03-19T15:23:44.963411631Z",
     "start_time": "2024-03-19T15:23:44.721009098Z"
    }
   },
   "outputs": [],
   "source": [
    "# Vemos todos los años disponibles\n",
    "gapminder[\"year\"].unique()"
   ]
  },
  {
   "cell_type": "code",
   "execution_count": null,
   "id": "754a67b4",
   "metadata": {
    "ExecuteTime": {
     "end_time": "2024-03-19T15:23:45.116261106Z",
     "start_time": "2024-03-19T15:23:44.805715110Z"
    }
   },
   "outputs": [],
   "source": [
    "# Tenemos datos de todos los países todos los años?\n",
    "# Agrupamos los datos por año y calculamos el tamaño de cada bloque\n",
    "gapminder.groupby(\"year\").size()"
   ]
  },
  {
   "cell_type": "code",
   "execution_count": null,
   "id": "22f26bfb",
   "metadata": {
    "ExecuteTime": {
     "end_time": "2024-03-19T15:23:45.381182124Z",
     "start_time": "2024-03-19T15:23:44.896707526Z"
    }
   },
   "outputs": [],
   "source": [
    "# O podemos usar directamente el comando value_counts\n",
    "gapminder.year.value_counts()"
   ]
  },
  {
   "cell_type": "code",
   "execution_count": null,
   "id": "b618940d",
   "metadata": {
    "ExecuteTime": {
     "end_time": "2024-03-19T15:23:45.453839268Z",
     "start_time": "2024-03-19T15:23:45.027009268Z"
    }
   },
   "outputs": [],
   "source": [
    "# También podemos por ejemplo calcular la poblacion total por año\n",
    "gapminder.groupby(\"year\")[\"pop\"].sum()"
   ]
  },
  {
   "cell_type": "markdown",
   "id": "0561fa94",
   "metadata": {},
   "source": [
    "### Gráficos simples de funciones o puntos en el plano XY.\n",
    "Vamos a graficar la población total mundial en función del año."
   ]
  },
  {
   "cell_type": "code",
   "execution_count": null,
   "id": "41d4d918",
   "metadata": {
    "ExecuteTime": {
     "end_time": "2024-03-19T15:23:45.454437903Z",
     "start_time": "2024-03-19T15:23:45.132156941Z"
    }
   },
   "outputs": [],
   "source": [
    "pobAnual = gapminder.groupby(\"year\")[\"pop\"].sum()\n",
    "type(pobAnual)"
   ]
  },
  {
   "cell_type": "code",
   "execution_count": null,
   "id": "58a3b86f",
   "metadata": {},
   "outputs": [],
   "source": [
    "pobAnual"
   ]
  },
  {
   "cell_type": "code",
   "execution_count": null,
   "id": "b336bea0",
   "metadata": {},
   "outputs": [],
   "source": [
    "pobAnual.index"
   ]
  },
  {
   "cell_type": "code",
   "execution_count": null,
   "id": "085d0d17",
   "metadata": {
    "ExecuteTime": {
     "end_time": "2024-03-19T15:23:46.001868982Z",
     "start_time": "2024-03-19T15:23:45.387304245Z"
    }
   },
   "outputs": [],
   "source": [
    "# Opción 1\n",
    "# Usamos la función plot de series de pandas\n",
    "pobAnual.plot()"
   ]
  },
  {
   "cell_type": "code",
   "execution_count": null,
   "id": "4119f3ed",
   "metadata": {},
   "outputs": [],
   "source": [
    "# O podemos graficar solo puntos\n",
    "pobAnual.plot(style = \"+\", color=\"red\")\n",
    "# kind=\"bar\", kind=\"line\", puedo usar kind en vez de style para algunos presets"
   ]
  },
  {
   "cell_type": "code",
   "execution_count": null,
   "id": "a42799dd",
   "metadata": {
    "ExecuteTime": {
     "end_time": "2024-03-19T15:23:46.388427263Z",
     "start_time": "2024-03-19T15:23:45.978200471Z"
    }
   },
   "outputs": [],
   "source": [
    "# Opcion 3\n",
    "# Asignamos los valores a variables (arrays de numpy) y graficamos las variables\n",
    "x = pobAnual.index\n",
    "y = pobAnual.values\n",
    "plt.plot(x,y)"
   ]
  },
  {
   "cell_type": "code",
   "execution_count": null,
   "id": "607ec27e",
   "metadata": {},
   "outputs": [],
   "source": [
    "# Opcion 4\n",
    "# Matplotlib tiene una función scatter para graficar puntos\n",
    "plt.scatter(x,y)"
   ]
  },
  {
   "cell_type": "code",
   "execution_count": null,
   "id": "6a234fda",
   "metadata": {
    "ExecuteTime": {
     "end_time": "2024-03-19T15:23:46.415752460Z",
     "start_time": "2024-03-19T15:23:46.393011114Z"
    }
   },
   "outputs": [],
   "source": [
    "# Vamos a analizar los datos de 2007\n",
    "datos2007 = gapminder[gapminder[\"year\"]==2007]\n",
    "datos2007"
   ]
  },
  {
   "cell_type": "code",
   "execution_count": null,
   "id": "7d789a8f",
   "metadata": {
    "ExecuteTime": {
     "end_time": "2024-03-19T15:23:46.964079052Z",
     "start_time": "2024-03-19T15:23:46.401206852Z"
    }
   },
   "outputs": [],
   "source": [
    "# Queremos ver si hay relación entre el producto bruto y la expectativa de vida\n",
    "plt.plot(datos2007.gdpPercap, datos2007.lifeExp)"
   ]
  },
  {
   "cell_type": "code",
   "execution_count": null,
   "id": "a7c62d32",
   "metadata": {
    "ExecuteTime": {
     "end_time": "2024-03-19T15:23:47.227632707Z",
     "start_time": "2024-03-19T15:23:46.861070486Z"
    }
   },
   "outputs": [],
   "source": [
    "# Ay no, eso no, hacemos un \"scatter plot\"\n",
    "plt.scatter(datos2007.gdpPercap, datos2007.lifeExp)\n",
    "plt.show()"
   ]
  },
  {
   "cell_type": "code",
   "execution_count": null,
   "id": "b97e2214",
   "metadata": {
    "ExecuteTime": {
     "end_time": "2024-03-19T15:23:47.954400781Z",
     "start_time": "2024-03-19T15:23:47.193985736Z"
    }
   },
   "outputs": [],
   "source": [
    "# Se ve mejor la correlación si usamos escala logaritmica en el eje X\n",
    "plt.scatter(datos2007.gdpPercap, datos2007.lifeExp)\n",
    "plt.xscale('log')"
   ]
  },
  {
   "cell_type": "markdown",
   "id": "1ae44311",
   "metadata": {},
   "source": [
    "Vamos a mejorar un poco el gráfico"
   ]
  },
  {
   "cell_type": "code",
   "execution_count": null,
   "id": "424a224c",
   "metadata": {
    "ExecuteTime": {
     "end_time": "2024-03-19T15:23:48.701594467Z",
     "start_time": "2024-03-19T15:23:47.944668297Z"
    }
   },
   "outputs": [],
   "source": [
    "# Agregamos etiquetas al gráfico y a los ejes\n",
    "plt.scatter(datos2007.gdpPercap, datos2007.lifeExp)\n",
    "plt.xscale('log')\n",
    "plt.xlabel('GDP per Capita [en USD]')\n",
    "plt.ylabel('Expectativa de vida [en años]')\n",
    "plt.title('Desarrollo Mundial en 2007')\n",
    "plt.show()"
   ]
  },
  {
   "cell_type": "markdown",
   "id": "10e3eccc",
   "metadata": {},
   "source": [
    "Reemplacemos las marcas en el eje $x$ 10³, 10⁴, 10⁵ con 1k, 10k y 100k. "
   ]
  },
  {
   "cell_type": "code",
   "execution_count": null,
   "id": "65f27874",
   "metadata": {
    "ExecuteTime": {
     "end_time": "2024-03-19T15:23:49.529819345Z",
     "start_time": "2024-03-19T15:23:48.700011287Z"
    }
   },
   "outputs": [],
   "source": [
    "plt.scatter(datos2007.gdpPercap, datos2007.lifeExp)\n",
    "plt.xscale('log')\n",
    "plt.xlabel('GDP per Capita [en USD]')\n",
    "plt.ylabel('Expectativa de vida [en años]')\n",
    "plt.title('Desarrollo Mundial en 2007')\n",
    "plt.xticks([1000, 10000, 100000],['1k', '10k', '100k'])\n",
    "plt.show()"
   ]
  },
  {
   "cell_type": "markdown",
   "id": "6c9fe5ca",
   "metadata": {},
   "source": [
    "Seaborn es una biblioteca para visualización de datos en Python, basada en Matplotlib que agrega muchas funcioanlidades."
   ]
  },
  {
   "cell_type": "code",
   "execution_count": null,
   "id": "6add4b50",
   "metadata": {
    "ExecuteTime": {
     "end_time": "2024-03-19T15:23:50.528163241Z",
     "start_time": "2024-03-19T15:23:49.498944735Z"
    }
   },
   "outputs": [],
   "source": [
    "# Usamos scatterplot de seaborn para poder personalizar mejor el grafico\n",
    "\n",
    "# Almacenamos la población como un array de numpy: np_pop\n",
    "np_pop = np.array(datos2007[\"pop\"])\n",
    "\n",
    "sns.scatterplot(x = datos2007['gdpPercap'], y = datos2007['lifeExp'], hue = datos2007['continent'], size = np_pop, sizes=(20,400))\n",
    "plt.grid(True)\n",
    "plt.xscale('log')\n",
    "plt.xlabel('GDP per Capita [en USD]')\n",
    "plt.ylabel('Expectativa de vida [en años]')\n",
    "plt.title('Desarrollo Mundial en 2007')\n",
    "plt.xticks([1000, 10000, 100000],['1k', '10k', '100k'])\n",
    "plt.show()"
   ]
  },
  {
   "cell_type": "code",
   "execution_count": null,
   "id": "1289e809",
   "metadata": {
    "ExecuteTime": {
     "end_time": "2024-03-19T15:23:51.443282463Z",
     "start_time": "2024-03-19T15:23:50.525686974Z"
    }
   },
   "outputs": [],
   "source": [
    "# Aumenta el tamaño del gráfico\n",
    "plt.figure(dpi=150)\n",
    "\n",
    "# Alcenamos la población como un array de numpy: np_pop\n",
    "np_pop = np.array(datos2007[\"pop\"])\n",
    "np_pop2 = np_pop*2\n",
    "# Usamos scatterplot de seaborn para poder personalizar mejor el grafico\n",
    "sns.scatterplot(x = datos2007['gdpPercap'], y = datos2007['lifeExp'], hue = datos2007['continent'], size = np_pop2, sizes=(20,400))\n",
    "plt.grid(True)\n",
    "plt.xscale('log')\n",
    "plt.xlabel('GDP per Capita [en USD]')\n",
    "plt.ylabel('Expectativa de vida [en años]')\n",
    "plt.title('Desarrollo Mundial en 2007')\n",
    "plt.xticks([1000, 10000, 100000],['1k', '10k', '100k'])\n",
    "plt.show()"
   ]
  },
  {
   "cell_type": "markdown",
   "id": "e62fa610",
   "metadata": {},
   "source": [
    "## Archivos de datos"
   ]
  },
  {
   "cell_type": "markdown",
   "id": "6a2d9ca9",
   "metadata": {},
   "source": [
    "La biblioteca Pandas nos permite trabajar fácilmente con archivos de datos.\n",
    "1. Leer el archivo casos_coronavirus.csv .\n",
    "2. Graficar la curva de casos por día.\n",
    "3. Graficar la curva de casos acumulados.\n",
    "4. Definir log_cum_casos como el logaritmo de la cantidad de casos acumulados y graficar en función de la cantidad de días transcurridos.\n",
    "\n",
    "Utilicen o modifiquen el siguiente código."
   ]
  },
  {
   "cell_type": "code",
   "execution_count": null,
   "id": "b36fbbcc",
   "metadata": {
    "ExecuteTime": {
     "end_time": "2024-03-19T15:23:45.623370291Z",
     "start_time": "2024-03-19T15:23:45.247789793Z"
    }
   },
   "outputs": [],
   "source": [
    "import pandas as pd\n",
    "import matplotlib.pyplot as plt\n",
    "df = pd.read_csv(\"./Datos/casos_coronavirus.csv\") # DataFrame\n",
    "df.head()  # Primeras filas del DataFrame"
   ]
  },
  {
   "cell_type": "code",
   "execution_count": null,
   "id": "461e0712",
   "metadata": {
    "ExecuteTime": {
     "end_time": "2024-03-19T15:23:45.623370291Z",
     "start_time": "2024-03-19T15:23:45.247789793Z"
    }
   },
   "outputs": [],
   "source": [
    "# Información básica del DataFrame\n",
    "df.info()"
   ]
  },
  {
   "cell_type": "code",
   "execution_count": null,
   "id": "d61b26fc",
   "metadata": {},
   "outputs": [],
   "source": [
    "df[\"confirmados_Nuevos\"].plot()"
   ]
  },
  {
   "cell_type": "code",
   "execution_count": null,
   "id": "9aff96e4",
   "metadata": {},
   "outputs": [],
   "source": [
    "casos_acumulados = df[\"confirmados_Nuevos\"].cumsum()\n",
    "plt.plot(casos_acumulados)\n",
    "plt.grid(True)\n",
    "plt.xlabel(\"Dias transcurridos\")\n",
    "plt.ylabel(\"Casos nuevos confirmados\")"
   ]
  },
  {
   "cell_type": "code",
   "execution_count": null,
   "id": "bd25b2ae",
   "metadata": {},
   "outputs": [],
   "source": [
    "\"\"\"Definir log_cum_casos como el logaritmo de la cantidad de casos acumulados y graficar\n",
    "en funcion de la cantidad de dias transcurridos.\"\"\"\n",
    "\n",
    "log_cum_casos = np.log(casos_acumulados)\n",
    "plt.plot(log_cum_casos)\n",
    "plt.grid(True)\n",
    "plt.xlabel(\"Dias transcurridos\")\n",
    "plt.ylabel(\"Casos nuevos confirmados\")"
   ]
  },
  {
   "cell_type": "code",
   "execution_count": null,
   "id": "a2b88a96",
   "metadata": {},
   "outputs": [],
   "source": []
  },
  {
   "cell_type": "code",
   "execution_count": null,
   "id": "90968f1b",
   "metadata": {},
   "outputs": [],
   "source": [
    "#Estimar, tomando dos valores, la pendiente de la recta para los datos a partir del dia 30.\n",
    "df_desde_dia30 = df[df.index>29]\n",
    "x1 = df_desde_dia30.index[30]\n",
    "y1 = df_desde_dia30[\"confirmados_Nuevos\"][30]\n",
    "x2 = df_desde_dia30[\"confirmados_Nuevos\"][65]\n",
    "y2 = df_desde_dia30.index[65]\n",
    "\n",
    "\n",
    "m = (y1-y2)/(x1-x2)\n",
    "b = y2 - m*x2\n",
    "recta = m*x + b\n",
    "#plt.plot(recta)\n",
    "print(x1,y1)\n",
    "print(x2,y2)\n",
    "plt.plot(recta)"
   ]
  },
  {
   "cell_type": "markdown",
   "id": "3b134d26",
   "metadata": {},
   "source": [
    "## Estadística descriptiva"
   ]
  },
  {
   "cell_type": "markdown",
   "id": "6370a701",
   "metadata": {},
   "source": [
    "Mirando los datos de 2007, ¿cuál es el país con mayor expectativa de vida? ¿Cuál es el país con menor expectativa de vida?"
   ]
  },
  {
   "cell_type": "code",
   "execution_count": null,
   "id": "fb2c19db",
   "metadata": {},
   "outputs": [],
   "source": []
  },
  {
   "cell_type": "markdown",
   "id": "bb03f410",
   "metadata": {},
   "source": [
    "### Medidas de tendencia central"
   ]
  },
  {
   "cell_type": "markdown",
   "id": "5c5ed452",
   "metadata": {},
   "source": [
    "Para el año 2007, calcular el valor medio y la mediana de las variables gdpPercap y lifeExp entre todos los países.\n",
    "Son similares o distintas? A qué lo atribuyen? Consideran que alguna resume mejor la realidad que la otra?\n"
   ]
  },
  {
   "cell_type": "code",
   "execution_count": 29,
   "id": "119677dc",
   "metadata": {},
   "outputs": [
    {
     "ename": "NameError",
     "evalue": "name 'datos2007' is not defined",
     "output_type": "error",
     "traceback": [
      "\u001b[1;31m---------------------------------------------------------------------------\u001b[0m",
      "\u001b[1;31mNameError\u001b[0m                                 Traceback (most recent call last)",
      "Cell \u001b[1;32mIn[29], line 1\u001b[0m\n\u001b[1;32m----> 1\u001b[0m \u001b[43mdatos2007\u001b[49m[\u001b[38;5;124m\"\u001b[39m\u001b[38;5;124mlifeExp\u001b[39m\u001b[38;5;124m\"\u001b[39m]\u001b[38;5;241m.\u001b[39mmedian()\n",
      "\u001b[1;31mNameError\u001b[0m: name 'datos2007' is not defined"
     ]
    }
   ],
   "source": [
    "datos2007[\"lifeExp\"].median()"
   ]
  },
  {
   "cell_type": "code",
   "execution_count": null,
   "id": "bf3443c1",
   "metadata": {},
   "outputs": [],
   "source": [
    "datos2007[\"lifeExp\"].mean()"
   ]
  },
  {
   "cell_type": "code",
   "execution_count": null,
   "id": "bff6b877",
   "metadata": {},
   "outputs": [],
   "source": [
    "datos2007[\"gdpPercap\"].median()"
   ]
  },
  {
   "cell_type": "code",
   "execution_count": null,
   "id": "23c4daa3",
   "metadata": {},
   "outputs": [],
   "source": [
    "datos2007[\"gdpPercap\"].mean()"
   ]
  },
  {
   "cell_type": "markdown",
   "id": "8578d0eb",
   "metadata": {},
   "source": [
    "Es lo mismo el promedio de entre todos los países de la expectativa de vida y el promedio entre todas las personas entre todas las personas?\n",
    "¿Cómo podemos calcular el promedio entre todas las personas?\n"
   ]
  },
  {
   "cell_type": "code",
   "execution_count": null,
   "id": "d804b83a",
   "metadata": {},
   "outputs": [],
   "source": [
    "np.sum(datos2007[\"LifeExp\"]*datos2007[\"pop\"])/np.sum(datos2007[\"pop\"])"
   ]
  },
  {
   "cell_type": "code",
   "execution_count": 32,
   "id": "1358c28c-3042-476b-9904-4a373d36247c",
   "metadata": {},
   "outputs": [
    {
     "ename": "NameError",
     "evalue": "name 'datos2007' is not defined",
     "output_type": "error",
     "traceback": [
      "\u001b[1;31m---------------------------------------------------------------------------\u001b[0m",
      "\u001b[1;31mNameError\u001b[0m                                 Traceback (most recent call last)",
      "Cell \u001b[1;32mIn[32], line 1\u001b[0m\n\u001b[1;32m----> 1\u001b[0m np\u001b[38;5;241m.\u001b[39maverage(\u001b[43mdatos2007\u001b[49m[\u001b[38;5;124m\"\u001b[39m\u001b[38;5;124mLifeExp\u001b[39m\u001b[38;5;124m\"\u001b[39m], weights \u001b[38;5;241m=\u001b[39m datos2007[\u001b[38;5;124m\"\u001b[39m\u001b[38;5;124mpop\u001b[39m\u001b[38;5;124m\"\u001b[39m])\n",
      "\u001b[1;31mNameError\u001b[0m: name 'datos2007' is not defined"
     ]
    }
   ],
   "source": [
    "np.average(datos2007[\"LifeExp\"], weights = datos2007[\"pop\"])"
   ]
  },
  {
   "cell_type": "markdown",
   "id": "e6b517b9",
   "metadata": {},
   "source": [
    "### Medidas de dispersión"
   ]
  },
  {
   "cell_type": "markdown",
   "id": "5cf7d352",
   "metadata": {},
   "source": [
    "Para el año 2007, calcular la varianza y el desvío estándar de las variables gdpPercap y lifeExp entre todos los países."
   ]
  },
  {
   "cell_type": "code",
   "execution_count": null,
   "id": "ad25ed59",
   "metadata": {},
   "outputs": [],
   "source": [
    "datos2007[\"lifeExp\"].var()"
   ]
  },
  {
   "cell_type": "code",
   "execution_count": null,
   "id": "65b833a2",
   "metadata": {},
   "outputs": [],
   "source": [
    "datos2007[\"lifeExp\"].std()"
   ]
  },
  {
   "cell_type": "code",
   "execution_count": null,
   "id": "4ea15f27",
   "metadata": {},
   "outputs": [],
   "source": []
  }
 ],
 "metadata": {
  "kernelspec": {
   "display_name": "Python 3 (ipykernel)",
   "language": "python",
   "name": "python3"
  },
  "language_info": {
   "codemirror_mode": {
    "name": "ipython",
    "version": 3
   },
   "file_extension": ".py",
   "mimetype": "text/x-python",
   "name": "python",
   "nbconvert_exporter": "python",
   "pygments_lexer": "ipython3",
   "version": "3.11.5"
  }
 },
 "nbformat": 4,
 "nbformat_minor": 5
}
