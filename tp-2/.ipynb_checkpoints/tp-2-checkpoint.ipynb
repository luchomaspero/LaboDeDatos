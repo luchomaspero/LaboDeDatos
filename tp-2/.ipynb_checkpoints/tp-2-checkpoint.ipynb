{
 "cells": [
  {
   "cell_type": "code",
   "execution_count": 1,
   "id": "bc0e1073-0307-4b14-823a-7c1f25bd948c",
   "metadata": {},
   "outputs": [],
   "source": [
    "import pandas as pd"
   ]
  },
  {
   "cell_type": "code",
   "execution_count": 3,
   "id": "8a3ea357-36f6-4b3c-bfa5-fed45c6a4e69",
   "metadata": {},
   "outputs": [],
   "source": [
    "import pandas as pd\n",
    "\n",
    "# Cargar los datos\n",
    "df = pd.read_csv('FBRef2020-21.csv')\n"
   ]
  },
  {
   "cell_type": "code",
   "execution_count": 4,
   "id": "481f4870-8090-419d-8874-292a5ef59569",
   "metadata": {},
   "outputs": [],
   "source": [
    "# Filtrar jugadores con más de 500 minutos\n",
    "df = df[df['Min'] >= 500]\n",
    "# Eliminar columnas con más de 100 datos faltantes\n",
    "df = df.dropna(axis=1, thresh=len(df) - 100)\n",
    "\n",
    "# Eliminar filas con datos faltantes\n",
    "df = df.dropna()\n",
    "\n",
    "# O convertir datos faltantes a un valor apropiado (si fuese el caso)\n",
    "# df = df.fillna(value=valor_apropiado)\n",
    "# Resetear los índices\n",
    "df = df.reset_index(drop=True)\n",
    "# Seleccionar las columnas numéricas a partir de 'Ast/90'\n",
    "data_num = df.loc[:, 'Ast/90':]\n",
    "\n"
   ]
  },
  {
   "cell_type": "markdown",
   "id": "0119f277-c28a-43bd-97c9-ac67466df806",
   "metadata": {},
   "source": [
    "clustering"
   ]
  },
  {
   "cell_type": "code",
   "execution_count": 5,
   "id": "8cb10ac9-0f7e-4e11-a602-eeb6c621154b",
   "metadata": {},
   "outputs": [
    {
     "ename": "KeyError",
     "evalue": "'Gls'",
     "output_type": "error",
     "traceback": [
      "\u001b[1;31m---------------------------------------------------------------------------\u001b[0m",
      "\u001b[1;31mKeyError\u001b[0m                                  Traceback (most recent call last)",
      "File \u001b[1;32m~\\AppData\\Local\\Programs\\Python\\Python311\\Lib\\site-packages\\pandas\\core\\indexes\\base.py:3621\u001b[0m, in \u001b[0;36mIndex.get_loc\u001b[1;34m(self, key, method, tolerance)\u001b[0m\n\u001b[0;32m   3620\u001b[0m \u001b[38;5;28;01mtry\u001b[39;00m:\n\u001b[1;32m-> 3621\u001b[0m     \u001b[38;5;28;01mreturn\u001b[39;00m \u001b[38;5;28;43mself\u001b[39;49m\u001b[38;5;241;43m.\u001b[39;49m\u001b[43m_engine\u001b[49m\u001b[38;5;241;43m.\u001b[39;49m\u001b[43mget_loc\u001b[49m\u001b[43m(\u001b[49m\u001b[43mcasted_key\u001b[49m\u001b[43m)\u001b[49m\n\u001b[0;32m   3622\u001b[0m \u001b[38;5;28;01mexcept\u001b[39;00m \u001b[38;5;167;01mKeyError\u001b[39;00m \u001b[38;5;28;01mas\u001b[39;00m err:\n",
      "File \u001b[1;32m~\\AppData\\Local\\Programs\\Python\\Python311\\Lib\\site-packages\\pandas\\_libs\\index.pyx:136\u001b[0m, in \u001b[0;36mpandas._libs.index.IndexEngine.get_loc\u001b[1;34m()\u001b[0m\n",
      "File \u001b[1;32m~\\AppData\\Local\\Programs\\Python\\Python311\\Lib\\site-packages\\pandas\\_libs\\index.pyx:163\u001b[0m, in \u001b[0;36mpandas._libs.index.IndexEngine.get_loc\u001b[1;34m()\u001b[0m\n",
      "File \u001b[1;32mpandas\\_libs\\hashtable_class_helper.pxi:5198\u001b[0m, in \u001b[0;36mpandas._libs.hashtable.PyObjectHashTable.get_item\u001b[1;34m()\u001b[0m\n",
      "File \u001b[1;32mpandas\\_libs\\hashtable_class_helper.pxi:5206\u001b[0m, in \u001b[0;36mpandas._libs.hashtable.PyObjectHashTable.get_item\u001b[1;34m()\u001b[0m\n",
      "\u001b[1;31mKeyError\u001b[0m: 'Gls'",
      "\nThe above exception was the direct cause of the following exception:\n",
      "\u001b[1;31mKeyError\u001b[0m                                  Traceback (most recent call last)",
      "Cell \u001b[1;32mIn[5], line 4\u001b[0m\n\u001b[0;32m      1\u001b[0m \u001b[38;5;28;01mimport\u001b[39;00m \u001b[38;5;21;01mmatplotlib\u001b[39;00m\u001b[38;5;21;01m.\u001b[39;00m\u001b[38;5;21;01mpyplot\u001b[39;00m \u001b[38;5;28;01mas\u001b[39;00m \u001b[38;5;21;01mplt\u001b[39;00m\n\u001b[0;32m      3\u001b[0m \u001b[38;5;66;03m# Seleccionar dos variables (por ejemplo, 'Gls' y 'Ast')\u001b[39;00m\n\u001b[1;32m----> 4\u001b[0m x \u001b[38;5;241m=\u001b[39m \u001b[43mdf\u001b[49m\u001b[43m[\u001b[49m\u001b[38;5;124;43m'\u001b[39;49m\u001b[38;5;124;43mGls\u001b[39;49m\u001b[38;5;124;43m'\u001b[39;49m\u001b[43m]\u001b[49m\n\u001b[0;32m      5\u001b[0m y \u001b[38;5;241m=\u001b[39m df[\u001b[38;5;124m'\u001b[39m\u001b[38;5;124mAst\u001b[39m\u001b[38;5;124m'\u001b[39m]\n\u001b[0;32m      7\u001b[0m \u001b[38;5;66;03m# Gráfico de dispersión\u001b[39;00m\n",
      "File \u001b[1;32m~\\AppData\\Local\\Programs\\Python\\Python311\\Lib\\site-packages\\pandas\\core\\frame.py:3505\u001b[0m, in \u001b[0;36mDataFrame.__getitem__\u001b[1;34m(self, key)\u001b[0m\n\u001b[0;32m   3503\u001b[0m \u001b[38;5;28;01mif\u001b[39;00m \u001b[38;5;28mself\u001b[39m\u001b[38;5;241m.\u001b[39mcolumns\u001b[38;5;241m.\u001b[39mnlevels \u001b[38;5;241m>\u001b[39m \u001b[38;5;241m1\u001b[39m:\n\u001b[0;32m   3504\u001b[0m     \u001b[38;5;28;01mreturn\u001b[39;00m \u001b[38;5;28mself\u001b[39m\u001b[38;5;241m.\u001b[39m_getitem_multilevel(key)\n\u001b[1;32m-> 3505\u001b[0m indexer \u001b[38;5;241m=\u001b[39m \u001b[38;5;28;43mself\u001b[39;49m\u001b[38;5;241;43m.\u001b[39;49m\u001b[43mcolumns\u001b[49m\u001b[38;5;241;43m.\u001b[39;49m\u001b[43mget_loc\u001b[49m\u001b[43m(\u001b[49m\u001b[43mkey\u001b[49m\u001b[43m)\u001b[49m\n\u001b[0;32m   3506\u001b[0m \u001b[38;5;28;01mif\u001b[39;00m is_integer(indexer):\n\u001b[0;32m   3507\u001b[0m     indexer \u001b[38;5;241m=\u001b[39m [indexer]\n",
      "File \u001b[1;32m~\\AppData\\Local\\Programs\\Python\\Python311\\Lib\\site-packages\\pandas\\core\\indexes\\base.py:3623\u001b[0m, in \u001b[0;36mIndex.get_loc\u001b[1;34m(self, key, method, tolerance)\u001b[0m\n\u001b[0;32m   3621\u001b[0m     \u001b[38;5;28;01mreturn\u001b[39;00m \u001b[38;5;28mself\u001b[39m\u001b[38;5;241m.\u001b[39m_engine\u001b[38;5;241m.\u001b[39mget_loc(casted_key)\n\u001b[0;32m   3622\u001b[0m \u001b[38;5;28;01mexcept\u001b[39;00m \u001b[38;5;167;01mKeyError\u001b[39;00m \u001b[38;5;28;01mas\u001b[39;00m err:\n\u001b[1;32m-> 3623\u001b[0m     \u001b[38;5;28;01mraise\u001b[39;00m \u001b[38;5;167;01mKeyError\u001b[39;00m(key) \u001b[38;5;28;01mfrom\u001b[39;00m \u001b[38;5;21;01merr\u001b[39;00m\n\u001b[0;32m   3624\u001b[0m \u001b[38;5;28;01mexcept\u001b[39;00m \u001b[38;5;167;01mTypeError\u001b[39;00m:\n\u001b[0;32m   3625\u001b[0m     \u001b[38;5;66;03m# If we have a listlike key, _check_indexing_error will raise\u001b[39;00m\n\u001b[0;32m   3626\u001b[0m     \u001b[38;5;66;03m#  InvalidIndexError. Otherwise we fall through and re-raise\u001b[39;00m\n\u001b[0;32m   3627\u001b[0m     \u001b[38;5;66;03m#  the TypeError.\u001b[39;00m\n\u001b[0;32m   3628\u001b[0m     \u001b[38;5;28mself\u001b[39m\u001b[38;5;241m.\u001b[39m_check_indexing_error(key)\n",
      "\u001b[1;31mKeyError\u001b[0m: 'Gls'"
     ]
    }
   ],
   "source": [
    "import matplotlib.pyplot as plt\n",
    "\n",
    "# Seleccionar dos variables (por ejemplo, 'Gls' y 'Ast')\n",
    "x = df['Gls']\n",
    "y = df['Ast']\n",
    "\n",
    "# Gráfico de dispersión\n",
    "plt.scatter(x, y)\n",
    "plt.xlabel('Goles')\n",
    "plt.ylabel('Asistencias')\n",
    "plt.title('Goles vs Asistencias')\n",
    "plt.show()\n"
   ]
  },
  {
   "cell_type": "code",
   "execution_count": null,
   "id": "b459b106-7070-4852-b6d4-a8fc7d194923",
   "metadata": {},
   "outputs": [],
   "source": [
    "from sklearn.preprocessing import StandardScaler\n",
    "from sklearn.decomposition import PCA\n",
    "\n",
    "# Escalar los datos\n",
    "scaler = StandardScaler()\n",
    "data_scaled = scaler.fit_transform(data_num)\n",
    "\n",
    "# Análisis de componentes principales\n",
    "pca = PCA(n_components=2)\n",
    "principal_components = pca.fit_transform(data_scaled)\n",
    "\n",
    "# Crear DataFrame con las dos primeras componentes principales\n",
    "pca_df = pd.DataFrame(data=principal_components, columns=['PC1', 'PC2'])\n",
    "\n",
    "# Gráfico de dispersión de las componentes principales\n",
    "plt.scatter(pca_df['PC1'], pca_df['PC2'])\n",
    "plt.xlabel('PC1')\n",
    "plt.ylabel('PC2')\n",
    "plt.title('Componentes Principales')\n",
    "plt.show()\n"
   ]
  },
  {
   "cell_type": "code",
   "execution_count": null,
   "id": "91093fff-4a5c-4732-9a34-890c063130de",
   "metadata": {},
   "outputs": [],
   "source": [
    "from sklearn.cluster import KMeans\n",
    "\n",
    "# Número de clusters\n",
    "k = 3  # ajustar según el gráfico anterior\n",
    "\n",
    "# K-means clustering\n",
    "kmeans = KMeans(n_clusters=k, random_state=42)\n",
    "kmeans.fit(pca_df)\n",
    "\n",
    "# Agregar etiquetas al DataFrame\n",
    "pca_df['Cluster'] = kmeans.labels_\n",
    "\n",
    "# Gráfico de dispersión con clusters\n",
    "plt.scatter(pca_df['PC1'], pca_df['PC2'], c=pca_df['Cluster'], cmap='viridis')\n",
    "plt.xlabel('PC1')\n",
    "plt.ylabel('PC2')\n",
    "plt.title('K-means Clustering')\n",
    "plt.show()\n"
   ]
  },
  {
   "cell_type": "code",
   "execution_count": null,
   "id": "05bd9289-5b4b-439f-ac73-5bcc9986f63a",
   "metadata": {},
   "outputs": [],
   "source": [
    "from sklearn.cluster import DBSCAN\n",
    "\n",
    "# DBSCAN clustering\n",
    "dbscan = DBSCAN(eps=0.5, min_samples=5)  # ajustar parámetros según corresponda\n",
    "dbscan.fit(pca_df[['PC1', 'PC2']])\n",
    "\n",
    "# Agregar etiquetas al DataFrame\n",
    "pca_df['DBSCAN_Cluster'] = dbscan.labels_\n",
    "\n",
    "# Gráfico de dispersión con clusters DBSCAN\n",
    "plt.scatter(pca_df['PC1'], pca_df['PC2'], c=pca_df['DBSCAN_Cluster'], cmap='viridis')\n",
    "plt.xlabel('PC1')\n",
    "plt.ylabel('PC2')\n",
    "plt.title('DBSCAN Clustering')\n",
    "plt.show()\n"
   ]
  },
  {
   "cell_type": "code",
   "execution_count": null,
   "id": "34e1b847-645c-4154-ae73-6ec02299ac20",
   "metadata": {},
   "outputs": [],
   "source": [
    "# DBSCAN clustering para todas las variables\n",
    "dbscan_full = DBSCAN(eps=0.5, min_samples=5)  # ajustar parámetros según corresponda\n",
    "dbscan_full.fit(data_scaled)\n",
    "\n",
    "# Agregar etiquetas al DataFrame original\n",
    "data_num['DBSCAN_Cluster'] = dbscan_full.labels_\n",
    "\n",
    "# Analizar los resultados\n",
    "num_clusters = len(set(dbscan_full.labels_)) - (1 if -1 in dbscan_full.labels_ else 0)\n",
    "print(f'Número de clusters: {num_clusters}')\n"
   ]
  },
  {
   "cell_type": "code",
   "execution_count": null,
   "id": "af7b9281-92db-4ef1-9983-d9f3ac6032bf",
   "metadata": {},
   "outputs": [],
   "source": []
  },
  {
   "cell_type": "code",
   "execution_count": null,
   "id": "eb1d7252-af48-48b8-99a2-abc01060a6ae",
   "metadata": {},
   "outputs": [],
   "source": [
    "# Definir Pos_filt quedándose con la primera posición de cada jugador\n",
    "df['Pos_filt'] = df['Pos'].apply(lambda x: x.split(',')[0])\n"
   ]
  },
  {
   "cell_type": "code",
   "execution_count": null,
   "id": "12a2dc0e-0e54-432f-ad56-9cae60264e87",
   "metadata": {},
   "outputs": [],
   "source": [
    "# Agregar Pos_filt al DataFrame data_num\n",
    "data_clasif = data_num.copy()\n",
    "data_clasif['Pos_filt'] = df['Pos_filt']\n",
    "\n",
    "# Dividir data_num en entrenamiento y testeo\n",
    "from sklearn.model_selection import train_test_split\n",
    "\n",
    "X = data_clasif.drop('Pos_filt', axis=1)\n",
    "y = data_clasif['Pos_filt']\n",
    "\n",
    "X_train, X_test, y_train, y_test = train_test_split(X, y, test_size=0.2, random_state=42)\n"
   ]
  },
  {
   "cell_type": "code",
   "execution_count": null,
   "id": "f45fbb85-4838-4bfc-b2d5-3aaace53d304",
   "metadata": {},
   "outputs": [],
   "source": [
    "from sklearn.neighbors import KNeighborsClassifier\n",
    "from sklearn.model_selection import GridSearchCV\n",
    "\n",
    "# Configuración del GridSearchCV para encontrar el mejor valor de K\n",
    "param_grid = {'n_neighbors': range(1, 21)}\n",
    "grid_search = GridSearchCV(KNeighborsClassifier(), param_grid, cv=5)\n",
    "grid_search.fit(X_train, y_train)\n",
    "\n",
    "# Mejor valor de K\n",
    "best_k = grid_search.best_params_['n_neighbors']\n",
    "print(f'Mejor valor de K: {best_k}')\n"
   ]
  },
  {
   "cell_type": "code",
   "execution_count": null,
   "id": "3d3d180b-f34c-4f3e-a938-095c14218062",
   "metadata": {},
   "outputs": [],
   "source": [
    "# Entrenar y evaluar el modelo con el mejor valor de K\n",
    "knn = KNeighborsClassifier(n_neighbors=best_k)\n",
    "knn.fit(X_train, y_train)\n",
    "\n",
    "accuracy = knn.score(X_test, y_test)\n",
    "print(f'Porcentaje de aciertos en el conjunto de testeo: {accuracy * 100:.2f}%')\n"
   ]
  },
  {
   "cell_type": "code",
   "execution_count": null,
   "id": "4accb9b5-0347-458f-8cdf-607f0726bfcf",
   "metadata": {},
   "outputs": [],
   "source": [
    "# Utilizar las dos primeras componentes principales\n",
    "X_pca_train, X_pca_test, y_pca_train, y_pca_test = train_test_split(principal_components, y, test_size=0.2, random_state=42)\n",
    "\n",
    "# GridSearchCV para encontrar el mejor valor de K en las componentes principales\n",
    "grid_search_pca = GridSearchCV(KNeighborsClassifier(), param_grid, cv=5)\n",
    "grid_search_pca.fit(X_pca_train, y_pca_train)\n",
    "\n",
    "# Mejor valor de K\n",
    "best_k_pca = grid_search_pca.best_params_['n_neighbors']\n",
    "print(f'Mejor valor de K (PCA): {best_k_pca}')\n",
    "\n",
    "# Entrenar y evaluar el modelo con el mejor valor de K en las componentes principales\n",
    "knn_pca = KNeighborsClassifier(n_neighbors=best_k_pca)\n",
    "knn_pca.fit(X_pca_train, y_pca_train)\n",
    "\n",
    "accuracy_pca = knn_pca.score(X_pca_test, y_pca_test)\n",
    "print(f'Porcentaje de aciertos en el conjunto de testeo (PCA): {accuracy_pca * 100:.2f}%')\n"
   ]
  },
  {
   "cell_type": "code",
   "execution_count": null,
   "id": "81b432f5-a688-46a7-b6bd-acba7ca11ff5",
   "metadata": {},
   "outputs": [],
   "source": [
    "# Cargar datos superleague2023\n",
    "df_superleague = pd.read_csv('/mnt/data/superleague2023.csv')\n",
    "\n",
    "# Definir Pos_filt\n",
    "df_superleague['Pos_filt'] = df_superleague['Pos'].apply(lambda x: x.split(',')[0])\n",
    "\n",
    "# Seleccionar las columnas relevantes\n",
    "data_superleague = df_superleague.loc[:, 'MP':]\n",
    "data_superleague['Pos_filt'] = df_superleague['Pos_filt']\n",
    "\n",
    "# Dividir data_superleague en entrenamiento y testeo\n",
    "X_superleague = data_superleague.drop('Pos_filt', axis=1)\n",
    "y_superleague = data_superleague['Pos_filt']\n",
    "\n",
    "X_train_superleague, X_test_superleague, y_train_superleague, y_test_superleague = train_test_split(X_superleague, y_superleague, test_size=0.2, random_state=42)\n"
   ]
  },
  {
   "cell_type": "code",
   "execution_count": null,
   "id": "f8d96524-00da-4646-98eb-813ec8ba8b28",
   "metadata": {},
   "outputs": [],
   "source": [
    "# GridSearchCV para encontrar el mejor valor de K en superleague\n",
    "grid_search_superleague = GridSearchCV(KNeighborsClassifier(), param\n"
   ]
  },
  {
   "cell_type": "code",
   "execution_count": null,
   "id": "132c6629-1dc2-42c7-9125-b82e456792d4",
   "metadata": {},
   "outputs": [],
   "source": []
  },
  {
   "cell_type": "code",
   "execution_count": null,
   "id": "110f0d9f-7ecd-44fb-bb89-5c468afb0ec7",
   "metadata": {},
   "outputs": [],
   "source": []
  },
  {
   "cell_type": "code",
   "execution_count": null,
   "id": "e9d15be3-9783-4f4d-ba92-135ca18f8e26",
   "metadata": {},
   "outputs": [],
   "source": []
  },
  {
   "cell_type": "code",
   "execution_count": null,
   "id": "5b25ebda-585e-419b-9e67-3247662e6337",
   "metadata": {},
   "outputs": [],
   "source": []
  },
  {
   "cell_type": "code",
   "execution_count": null,
   "id": "a0266f6f-9b7b-449f-810f-b7c6e7cd70af",
   "metadata": {},
   "outputs": [],
   "source": []
  },
  {
   "cell_type": "code",
   "execution_count": null,
   "id": "cb63873e-13c5-40b7-976f-c4e53ebb7771",
   "metadata": {},
   "outputs": [],
   "source": []
  },
  {
   "cell_type": "code",
   "execution_count": null,
   "id": "eeabbbef-f139-4907-a586-64ba4b41ce54",
   "metadata": {},
   "outputs": [],
   "source": []
  },
  {
   "cell_type": "code",
   "execution_count": null,
   "id": "b8e979f8-870f-402a-b18b-371a9c147afa",
   "metadata": {},
   "outputs": [],
   "source": []
  },
  {
   "cell_type": "code",
   "execution_count": null,
   "id": "918efdb9-d1ac-4246-bef6-cb266c3ed147",
   "metadata": {},
   "outputs": [],
   "source": []
  },
  {
   "cell_type": "code",
   "execution_count": null,
   "id": "945930b8-169c-41ab-952f-8b2de2e21371",
   "metadata": {},
   "outputs": [],
   "source": []
  }
 ],
 "metadata": {
  "kernelspec": {
   "display_name": "Python 3 (ipykernel)",
   "language": "python",
   "name": "python3"
  },
  "language_info": {
   "codemirror_mode": {
    "name": "ipython",
    "version": 3
   },
   "file_extension": ".py",
   "mimetype": "text/x-python",
   "name": "python",
   "nbconvert_exporter": "python",
   "pygments_lexer": "ipython3",
   "version": "3.11.5"
  }
 },
 "nbformat": 4,
 "nbformat_minor": 5
}
