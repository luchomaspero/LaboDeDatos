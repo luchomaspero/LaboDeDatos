{
 "cells": [
  {
   "cell_type": "code",
   "execution_count": 13,
   "id": "14dfb120",
   "metadata": {},
   "outputs": [],
   "source": [
    "import matplotlib.pyplot as plt\n",
    "import seaborn as sns\n",
    "import numpy as np\n",
    "import pandas as pd"
   ]
  },
  {
   "cell_type": "markdown",
   "id": "a651d8d8",
   "metadata": {},
   "source": [
    "# Jupyter notebook\n",
    "Permite combinar código Python (celdas Code) con texto con formato y fórmulas matemáticas en Latex (celdas Markdown). Vamos a usar frecuentemente Jupyter notebook en las clases.\n",
    "\n",
    "Pueden utilizar Jupyter notebook offline desde Anaconda (u otros) o alguna herramienta online, como Google Colab.\n",
    "\n",
    "Para hacer las prácticas pueden usar Jupyter notebook o cualquier otro entorno.\n"
   ]
  },
  {
   "cell_type": "code",
   "execution_count": null,
   "id": "f4c7739a",
   "metadata": {},
   "outputs": [],
   "source": [
    "# Ejemplo de código\n",
    "2 + 3 * 5"
   ]
  },
  {
   "cell_type": "code",
   "execution_count": null,
   "id": "282345d1",
   "metadata": {},
   "outputs": [],
   "source": [
    "# Podemos ingresar varias instrucciones en la misma celda\n",
    "a = 5\n",
    "a"
   ]
  },
  {
   "cell_type": "code",
   "execution_count": null,
   "id": "48f400eb",
   "metadata": {},
   "outputs": [],
   "source": [
    "# Si ejecutamos varios comandos en una misma celda solo se muestra la última salida\n",
    "b = 3.14\n",
    "b\n",
    "b * 2"
   ]
  },
  {
   "cell_type": "code",
   "execution_count": null,
   "id": "837d013f",
   "metadata": {},
   "outputs": [],
   "source": [
    "# Podemos usar display o print para ver varias salidas\n",
    "c = \"hola\"\n",
    "display(c)\n",
    "print(a)"
   ]
  },
  {
   "cell_type": "markdown",
   "id": "56652c71",
   "metadata": {},
   "source": [
    "### Orden de ejecución\n",
    "Para ejecutar el contenido de una celta usamos SHIFT+Enter.\n",
    "Los comandos dentro de la celda se ejecutan en orden.\n",
    "\n",
    "Si abrimos un Notebook con varias celdas con código, el contenido de esas celdas no se ejecuta hasta que lo hagamos nosotros (podemos hacerlo celda por celda o ejecutar todas automaticamente utilizando \"Cell\" --> \"Run all\"."
   ]
  },
  {
   "cell_type": "markdown",
   "id": "e27fff09",
   "metadata": {},
   "source": [
    "Ejecutar la primer celda, luego la siguiente y luego nuevamente la primera y ver qué sucede."
   ]
  },
  {
   "cell_type": "code",
   "execution_count": null,
   "id": "ff121386",
   "metadata": {},
   "outputs": [],
   "source": [
    "print(z)"
   ]
  },
  {
   "cell_type": "code",
   "execution_count": null,
   "id": "bb8d7d87",
   "metadata": {},
   "outputs": [],
   "source": [
    "z = 10"
   ]
  },
  {
   "cell_type": "markdown",
   "id": "f7b51495",
   "metadata": {},
   "source": [
    "**Consejo:** Si entregan código en Jupyter Notebook verifiquen siempre que se pueden ejecutar las celdas en orden de arriba hacia abajo."
   ]
  },
  {
   "cell_type": "markdown",
   "id": "37830844",
   "metadata": {},
   "source": [
    "### Funciones matemáticas"
   ]
  },
  {
   "cell_type": "code",
   "execution_count": null,
   "id": "cc8fa371",
   "metadata": {},
   "outputs": [],
   "source": [
    "a = 5\n",
    "b = 3.14\n",
    "a * b # Producto"
   ]
  },
  {
   "cell_type": "code",
   "execution_count": null,
   "id": "e25e218a",
   "metadata": {},
   "outputs": [],
   "source": [
    "print(a**3) # Potencia"
   ]
  },
  {
   "cell_type": "code",
   "execution_count": null,
   "id": "58e64cd7",
   "metadata": {},
   "outputs": [],
   "source": [
    "print(b % 2) # ¿Qué hace?"
   ]
  },
  {
   "cell_type": "code",
   "execution_count": null,
   "id": "1b859d02",
   "metadata": {},
   "outputs": [],
   "source": [
    "help('%')"
   ]
  },
  {
   "cell_type": "code",
   "execution_count": null,
   "id": "317267d6",
   "metadata": {},
   "outputs": [],
   "source": [
    "### Tipos de datos\n",
    "type(a)"
   ]
  },
  {
   "cell_type": "code",
   "execution_count": null,
   "id": "87dc7207",
   "metadata": {},
   "outputs": [],
   "source": [
    "type(b)"
   ]
  },
  {
   "cell_type": "code",
   "execution_count": null,
   "id": "3dbdc682",
   "metadata": {},
   "outputs": [],
   "source": [
    "### Las funciones de Python pueden llamarse con variables de distinto tipo, y se comportan distinto según el tipo de dato\n",
    "d = 5.0\n",
    "type(d)"
   ]
  },
  {
   "cell_type": "code",
   "execution_count": null,
   "id": "f002877f",
   "metadata": {},
   "outputs": [],
   "source": [
    "a**100"
   ]
  },
  {
   "cell_type": "code",
   "execution_count": null,
   "id": "2046e527",
   "metadata": {},
   "outputs": [],
   "source": [
    "d**100"
   ]
  },
  {
   "cell_type": "code",
   "execution_count": null,
   "id": "90bf6fdb",
   "metadata": {},
   "outputs": [],
   "source": [
    "b**100"
   ]
  },
  {
   "cell_type": "code",
   "execution_count": null,
   "id": "b28cfe50",
   "metadata": {},
   "outputs": [],
   "source": [
    "type(c)"
   ]
  },
  {
   "cell_type": "code",
   "execution_count": null,
   "id": "84778d2d",
   "metadata": {},
   "outputs": [],
   "source": [
    "c*2"
   ]
  },
  {
   "cell_type": "markdown",
   "id": "5e6a7484",
   "metadata": {},
   "source": [
    "### Variables booleanas y funciones lógicas\n",
    "En Python podemos usar variables booleanas True y False, y operadores lógicos: == (igualdad), or, and, ~ (not)."
   ]
  },
  {
   "cell_type": "code",
   "execution_count": null,
   "id": "5c12c0b3",
   "metadata": {},
   "outputs": [],
   "source": [
    "a = True\n",
    "b = False\n",
    "print(a == b)\n",
    "print(a or b)\n",
    "print(a and b)\n",
    "print(a == (not b))"
   ]
  },
  {
   "cell_type": "markdown",
   "id": "14929ecd",
   "metadata": {},
   "source": [
    "El operador de igualdad aplicado a variables numércias compara solo el valor, no el tipo de dato."
   ]
  },
  {
   "cell_type": "code",
   "execution_count": null,
   "id": "9b371a73",
   "metadata": {},
   "outputs": [],
   "source": [
    "x1 = 5.0\n",
    "x2 = 7.0\n",
    "x3 = 12.0\n",
    "n1 = 5\n",
    "print(x1+x2 == x3)\n",
    "print(x1 == 5)\n",
    "print(x1 == n1)"
   ]
  },
  {
   "cell_type": "code",
   "execution_count": null,
   "id": "9985328a",
   "metadata": {},
   "outputs": [],
   "source": [
    "type(x1) == type(n1)"
   ]
  },
  {
   "cell_type": "code",
   "execution_count": null,
   "id": "fb82ccca",
   "metadata": {},
   "outputs": [],
   "source": [
    "type(x1) == type(x2)"
   ]
  },
  {
   "cell_type": "markdown",
   "id": "f954549b",
   "metadata": {},
   "source": [
    "### Listas\n",
    "Las listas permiten guardar valores de distintos tipos en forma ordenada y acceder a\n",
    "los distintos elementos por su índice, comenzando desde 0."
   ]
  },
  {
   "cell_type": "code",
   "execution_count": null,
   "id": "11f28f9d",
   "metadata": {},
   "outputs": [],
   "source": [
    "s = [1, 2, 3.0, \"hola\", 7 + 3]\n",
    "s"
   ]
  },
  {
   "cell_type": "code",
   "execution_count": null,
   "id": "859c4801",
   "metadata": {},
   "outputs": [],
   "source": [
    "print(s[0])\n",
    "print(s[1])\n",
    "print(s[-1])"
   ]
  },
  {
   "cell_type": "markdown",
   "id": "0ea4b56a",
   "metadata": {},
   "source": [
    "Podemos indicar también un rango de elementos de la lista."
   ]
  },
  {
   "cell_type": "code",
   "execution_count": null,
   "id": "ffee9386",
   "metadata": {},
   "outputs": [],
   "source": [
    "s[2:5] # ¿Qué nos devuelve? ¿Por qué?"
   ]
  },
  {
   "cell_type": "markdown",
   "id": "13380ae1",
   "metadata": {},
   "source": [
    "# Numpy"
   ]
  },
  {
   "cell_type": "markdown",
   "id": "48b5d4e7",
   "metadata": {},
   "source": [
    "Para trabajar en Python con vectores (y en general para todo tipo de operaciones\n",
    "matemáticas) vamos a usar el paquete `numpy` . Para eso importamos primero la biblioteca `numpy`\n",
    "y definimos vectores con el comando `np.array`. "
   ]
  },
  {
   "cell_type": "markdown",
   "id": "7b75dbb8",
   "metadata": {},
   "source": [
    "**Vectores.** Los vectores (o arrays) de numpy son similares a las listas, pero todos los elementos son del mismo tipo (enteros, floats, ...)\n",
    "\n",
    "Ejecutar el siguiente código y observar los resultados."
   ]
  },
  {
   "cell_type": "code",
   "execution_count": null,
   "id": "41ab5843",
   "metadata": {},
   "outputs": [],
   "source": [
    "import numpy as np\n",
    "v = np.array([1,2,3])\n",
    "w = np.array([1.2, 7, np.pi])\n",
    "print(v)\n",
    "print(w)"
   ]
  },
  {
   "cell_type": "code",
   "execution_count": null,
   "id": "09bbf1af",
   "metadata": {},
   "outputs": [],
   "source": [
    "print(v + w)"
   ]
  },
  {
   "cell_type": "code",
   "execution_count": 4,
   "id": "fbdd543e",
   "metadata": {},
   "outputs": [
    {
     "ename": "NameError",
     "evalue": "name 'v' is not defined",
     "output_type": "error",
     "traceback": [
      "\u001b[1;31m---------------------------------------------------------------------------\u001b[0m",
      "\u001b[1;31mNameError\u001b[0m                                 Traceback (most recent call last)",
      "Cell \u001b[1;32mIn[4], line 2\u001b[0m\n\u001b[0;32m      1\u001b[0m \u001b[38;5;66;03m# El tipo de dato de un array de numpy es ndarray\u001b[39;00m\n\u001b[1;32m----> 2\u001b[0m \u001b[38;5;28mprint\u001b[39m(\u001b[38;5;28mtype\u001b[39m(\u001b[43mv\u001b[49m))\n\u001b[0;32m      3\u001b[0m \u001b[38;5;28mprint\u001b[39m(\u001b[38;5;28mtype\u001b[39m(w))\n",
      "\u001b[1;31mNameError\u001b[0m: name 'v' is not defined"
     ]
    }
   ],
   "source": [
    "# El tipo de dato de un array de numpy es ndarray\n",
    "print(type(v))\n",
    "print(type(w))"
   ]
  },
  {
   "cell_type": "code",
   "execution_count": null,
   "id": "4f9ee446",
   "metadata": {},
   "outputs": [],
   "source": [
    "# Si queremos saber el tipo de dato de los elementos del array, usamos dtype\n",
    "print(v.dtype)\n",
    "print(w.dtype)"
   ]
  },
  {
   "cell_type": "markdown",
   "id": "78bfd30c",
   "metadata": {},
   "source": [
    "(dtype es un método del objeto ndarray, por eso usamos la escritura v.dtype y no dtype(v))"
   ]
  },
  {
   "cell_type": "markdown",
   "id": "846d855d",
   "metadata": {},
   "source": [
    "### La magia de Numpy. \n",
    "La biblioteca Numpy reproduce muchas funcionalidades de Matlab.\n",
    "La mayoría de las operaciones con vectores de Numpy se hacen coordenada a coordenada. Esto permite en muchos casos evitar usar ciclos o ciclos anidados y realizarlos con un solo comando.\n",
    "\n",
    "Ejecutar los siguientes comandos e interpretar los resultados."
   ]
  },
  {
   "cell_type": "code",
   "execution_count": null,
   "id": "aba06190",
   "metadata": {},
   "outputs": [],
   "source": [
    "v = np.array([1,2,np.e,7])\n",
    "w = np.array([1.2, np.pi, 4, 5])\n",
    "print(\"v = \", v)\n",
    "print(\"w = \", w)\n",
    "print(\"v + w = \", v + w)\n",
    "print (\"v**2 = \", v**2)\n",
    "print (\"v%2 = \", v%2)\n",
    "print (\"v > 3?\", v > 3)\n",
    "print (\"w < 3.5?\", w < 3.5)\n"
   ]
  },
  {
   "cell_type": "markdown",
   "id": "b3b6a2e9",
   "metadata": {},
   "source": [
    "Algunas funciones de numpy pueden usarse también como métodos"
   ]
  },
  {
   "cell_type": "code",
   "execution_count": null,
   "id": "83912f40",
   "metadata": {},
   "outputs": [],
   "source": [
    "print(v.sum())\n",
    "print(np.sum(v))"
   ]
  },
  {
   "cell_type": "markdown",
   "id": "6426682f",
   "metadata": {},
   "source": [
    "Las operaciones lógicas or y and no se pueden aplicar a vectores. Debemos usar los símbolos |\n",
    "(or) y & (and)."
   ]
  },
  {
   "cell_type": "code",
   "execution_count": null,
   "id": "ad0c87ec",
   "metadata": {},
   "outputs": [],
   "source": [
    "print((v > 3) | (w < 3.5))\n",
    "print((v > 3) & (w < 3.5))"
   ]
  },
  {
   "cell_type": "markdown",
   "id": "1ddb4838",
   "metadata": {},
   "source": [
    "Si queremos quedarnos con sólo algunos elementos de un vector, tenemos varias formas de hacerlo."
   ]
  },
  {
   "cell_type": "code",
   "execution_count": null,
   "id": "d80e126f",
   "metadata": {},
   "outputs": [],
   "source": [
    "v = np.array([1, 2, np.e, 7, 5])\n",
    "v[0], v[1], v[-1]  # funcionara ‘v[-2]‘?"
   ]
  },
  {
   "cell_type": "code",
   "execution_count": null,
   "id": "128bd766",
   "metadata": {},
   "outputs": [],
   "source": [
    "v[[0, 3]]"
   ]
  },
  {
   "cell_type": "code",
   "execution_count": null,
   "id": "8c95d2a7",
   "metadata": {},
   "outputs": [],
   "source": [
    "# Ojo, no podemos hacer lo mismo con listas\n",
    "s = [1, 2, 3.0, \"hola\", 7 + 3]\n",
    "s[[0,3]]"
   ]
  },
  {
   "cell_type": "code",
   "execution_count": null,
   "id": "640fe0a4",
   "metadata": {},
   "outputs": [],
   "source": [
    "# También podemos usar rangos\n",
    "v[0:3]"
   ]
  },
  {
   "cell_type": "code",
   "execution_count": null,
   "id": "e17d32eb",
   "metadata": {},
   "outputs": [],
   "source": [
    "v[0:1]"
   ]
  },
  {
   "cell_type": "markdown",
   "id": "1a5025ca",
   "metadata": {},
   "source": [
    "Y podemos seleccionar los elementos que cumplan alguna propiedad."
   ]
  },
  {
   "cell_type": "code",
   "execution_count": null,
   "id": "e1f772fb",
   "metadata": {},
   "outputs": [],
   "source": [
    "v = np.array([1, 2, np.e, 7, 5])\n",
    "w = np.array([1, 0, 2, 5, 0])\n",
    "print(v>2)\n",
    "v[v > 2]"
   ]
  },
  {
   "cell_type": "code",
   "execution_count": null,
   "id": "a56a73a5",
   "metadata": {},
   "outputs": [],
   "source": [
    "v[w != 0]"
   ]
  },
  {
   "cell_type": "markdown",
   "id": "44858d2e",
   "metadata": {},
   "source": [
    "**Matrices.** Las matrices se definen en numpy como arrays de filas. Las operaciones usuales\n",
    "se realizan coordenada a coordenada al igual que con vectores. Verificar los resultados de los\n",
    "siguientes comandos."
   ]
  },
  {
   "cell_type": "code",
   "execution_count": null,
   "id": "05a18960",
   "metadata": {},
   "outputs": [],
   "source": [
    "A = np.array([[3, 2, 2], [-1, 0, 1], [-2, 2, 4]])\n",
    "B = np.array([[1, 0, 0], [0, 1, 0], [0, 0, 1]])\n",
    "C = np.array([[0, 1, -1], [5, -2, 1]])\n",
    "A + B"
   ]
  },
  {
   "cell_type": "code",
   "execution_count": null,
   "id": "65d3c7d8",
   "metadata": {},
   "outputs": [],
   "source": [
    "print(A)\n",
    "print(B)"
   ]
  },
  {
   "cell_type": "code",
   "execution_count": null,
   "id": "d5adb5eb",
   "metadata": {},
   "outputs": [],
   "source": [
    "A * B"
   ]
  },
  {
   "cell_type": "code",
   "execution_count": null,
   "id": "5902d8e2",
   "metadata": {},
   "outputs": [],
   "source": [
    "C**2 "
   ]
  },
  {
   "cell_type": "markdown",
   "id": "b66da5df",
   "metadata": {},
   "source": [
    "El producto usual de matrices se realiza con el comando @ . \n",
    "\n",
    "A.T es la transpuesta de A. \n",
    "\n",
    "Verificar los resultados de los siguientes comandos."
   ]
  },
  {
   "cell_type": "code",
   "execution_count": null,
   "id": "3b728532",
   "metadata": {},
   "outputs": [],
   "source": [
    "A @ B"
   ]
  },
  {
   "cell_type": "code",
   "execution_count": null,
   "id": "23f8c642",
   "metadata": {},
   "outputs": [],
   "source": [
    "B @ C"
   ]
  },
  {
   "cell_type": "code",
   "execution_count": null,
   "id": "b18acdfb",
   "metadata": {},
   "outputs": [],
   "source": [
    "B.shape, C.shape"
   ]
  },
  {
   "cell_type": "code",
   "execution_count": null,
   "id": "4b7dea64",
   "metadata": {},
   "outputs": [],
   "source": [
    "C@B"
   ]
  },
  {
   "cell_type": "code",
   "execution_count": null,
   "id": "b1a73c00",
   "metadata": {},
   "outputs": [],
   "source": [
    "B @ C.T"
   ]
  },
  {
   "cell_type": "markdown",
   "id": "d38a15be",
   "metadata": {},
   "source": [
    "## Funciones\n",
    "\n",
    "Las funciones son bloques de código organizado que se usan para realizar tares específicas.\n",
    "\n",
    "Reciben un input (un número o una variable, por ejemplo) y devuelven un output. Los inputs van\n",
    "entre paréntesis y separados por una coma, si hay más de uno. \n",
    "\n",
    "Muchas funciones están disponibles en la biblioteca estándar de Python, otras estás agrupadas en distintas bibliotecas, como numpy que agrupa una gran cantidad de funciones matemáticas. \n",
    "\n",
    "El objetivo de estos ejercicios es familiarizarse con varias funciones básicas de Python."
   ]
  },
  {
   "cell_type": "markdown",
   "id": "963157e7",
   "metadata": {},
   "source": [
    "Ejecutar estas operaciones en la consola para entender qué hacen las funciones de numpy."
   ]
  },
  {
   "cell_type": "code",
   "execution_count": null,
   "id": "13625e8b",
   "metadata": {},
   "outputs": [],
   "source": [
    "a = np.sqrt(2)\n",
    "a"
   ]
  },
  {
   "cell_type": "code",
   "execution_count": null,
   "id": "d78743ba",
   "metadata": {},
   "outputs": [],
   "source": [
    "np.round(a)"
   ]
  },
  {
   "cell_type": "code",
   "execution_count": null,
   "id": "616d92a2",
   "metadata": {},
   "outputs": [],
   "source": [
    "np.round(a, 2)"
   ]
  },
  {
   "cell_type": "code",
   "execution_count": null,
   "id": "a869bd4c",
   "metadata": {},
   "outputs": [],
   "source": [
    "# Para las funciones de numpy, podems ver información con np.info\n",
    "np.info(np.round)"
   ]
  },
  {
   "cell_type": "code",
   "execution_count": null,
   "id": "6a2cf743",
   "metadata": {},
   "outputs": [],
   "source": [
    "np.info(np.ceil)"
   ]
  },
  {
   "cell_type": "code",
   "execution_count": null,
   "id": "51b26ca1",
   "metadata": {},
   "outputs": [],
   "source": [
    "np.ceil(np.pi)"
   ]
  },
  {
   "cell_type": "markdown",
   "id": "4fb4694d",
   "metadata": {},
   "source": [
    "Muchas funciones de numpy se pueden aplicar también en arrays."
   ]
  },
  {
   "cell_type": "code",
   "execution_count": null,
   "id": "4585a9ec",
   "metadata": {},
   "outputs": [],
   "source": [
    "v = np.array([a, a**2, a**3, a**(.5)])\n",
    "v"
   ]
  },
  {
   "cell_type": "code",
   "execution_count": null,
   "id": "ce7f843a",
   "metadata": {},
   "outputs": [],
   "source": [
    "np.floor(v)"
   ]
  },
  {
   "cell_type": "markdown",
   "id": "544d4c01",
   "metadata": {},
   "source": [
    "Explorar las funciones np.max() , np.min() , np.sum() , np.mean() y np.sort() aplicadas al vector\n",
    "v del ejercicio anterior. ¿Qué hace cada una?"
   ]
  },
  {
   "cell_type": "markdown",
   "id": "08e45132",
   "metadata": {},
   "source": [
    "**Ejercicio.**\n",
    "Utilizando solo las operaciones y funciones vistas en los ejercicios anteriores, escribir un código\n",
    "de una sola línea para la función matemática:\n",
    "\n",
    "$$\\langle v, w\\rangle = v_1 \\cdot w_1 + v_2 \\cdot w_2 + \\dots + v_n \\cdot w_n = \\sum_{i=1}^n v_i \\cdot w_i$$"
   ]
  },
  {
   "cell_type": "code",
   "execution_count": null,
   "id": "e5ef1b7e",
   "metadata": {},
   "outputs": [],
   "source": [
    "v = np.array([1,0,0,2])\n",
    "w = np.array([1,2,3,4])\n",
    "np.sum(v*w)"
   ]
  },
  {
   "cell_type": "markdown",
   "id": "ea5a5069",
   "metadata": {},
   "source": [
    "En Python podemos definir nuestras propias funciones utilizando `def`. \n",
    "\n",
    "¿Qué hace la siguiente función? \n",
    "\n",
    "¿Qué resultados esperan al aplicar la función a los vectores $v_0$ y $v_1$?"
   ]
  },
  {
   "cell_type": "code",
   "execution_count": null,
   "id": "ed7d4d01",
   "metadata": {},
   "outputs": [],
   "source": [
    "def todosPositivos(v):\n",
    "    return np.all(v > 0)\n",
    "\n",
    "v0 = np.array([3, 4])\n",
    "v1 = np.array([3, 5, -1, 1])"
   ]
  },
  {
   "cell_type": "code",
   "execution_count": null,
   "id": "b36f2636",
   "metadata": {},
   "outputs": [],
   "source": [
    "todosPositivos(v0)"
   ]
  },
  {
   "cell_type": "code",
   "execution_count": null,
   "id": "271d4ba3",
   "metadata": {},
   "outputs": [],
   "source": [
    "todosPositivos(v1)"
   ]
  },
  {
   "cell_type": "markdown",
   "id": "7466ca74",
   "metadata": {},
   "source": [
    "**Ejercicio.** Definir una función que calcule la norma-2 de un vector y verificarla en los vectores $v_0$ y $v_1$ del ejercicio anterior."
   ]
  },
  {
   "cell_type": "markdown",
   "id": "ed9ff5b3",
   "metadata": {},
   "source": [
    "## Azar y simulaciones\n",
    "\n",
    "Reproducir estos usos de la función np.random.choice() e interpretar qué hace."
   ]
  },
  {
   "cell_type": "code",
   "execution_count": null,
   "id": "a91f2f5c",
   "metadata": {},
   "outputs": [],
   "source": [
    "x = np.array([\"cara\", \"ceca\"])\n",
    "np.random.choice(x, size=10)"
   ]
  },
  {
   "cell_type": "code",
   "execution_count": null,
   "id": "f98ac39d",
   "metadata": {},
   "outputs": [],
   "source": [
    "y = np.array([1,2,3,4,5,6])\n",
    "np.random.choice(y, size=10)"
   ]
  },
  {
   "cell_type": "code",
   "execution_count": null,
   "id": "e0019b8b",
   "metadata": {},
   "outputs": [],
   "source": [
    "np.random.choice(y, size=4, replace=False)"
   ]
  },
  {
   "cell_type": "code",
   "execution_count": null,
   "id": "dff28831",
   "metadata": {},
   "outputs": [],
   "source": [
    "# Funcionará?\n",
    "np.random.choice(y, size=10, replace=False)"
   ]
  },
  {
   "cell_type": "markdown",
   "id": "bd422434",
   "metadata": {},
   "source": [
    "**Ley de los grandes números.** Esta ley asegura que si tiramos $n$ veces una moneda, el promedio de veces que sale cara tiende a $1/2$ cuando $n$ tiende a infinito.\n",
    "\n",
    "Simular 10 lanzamientos de una moneda y calcular el promedio de veces que sale cara. Repetir para $n = 1000$ y $n = 100.000$."
   ]
  },
  {
   "cell_type": "code",
   "execution_count": null,
   "id": "eb32a4b7",
   "metadata": {},
   "outputs": [],
   "source": [
    "n = 100000\n",
    "x = np.array([\"cara\", \"ceca\"])\n",
    "s = np.random.choice(x, size=n)\n",
    "#print(s)\n",
    "np.sum(s == \"cara\")/n\n"
   ]
  },
  {
   "cell_type": "code",
   "execution_count": null,
   "id": "4929761c",
   "metadata": {},
   "outputs": [],
   "source": [
    "suma1 = 0\n",
    "for i in range(0, n-3):\n",
    "    if np.all(s[i:i+4] == [\"cara\", \"cara\", \"cara\", \"cara\"]):\n",
    "        suma1 = suma1 + 1\n",
    "print(suma1)\n",
    "\n",
    "suma2 = 0\n",
    "for i in range(0, n-2):\n",
    "    if np.all(s[i:i+3] == [\"cara\", \"cara\", \"cara\"]):\n",
    "        suma2 = suma2 + 1\n",
    "print(suma2)\n",
    "\n",
    "print(suma1/suma2)"
   ]
  },
  {
   "cell_type": "code",
   "execution_count": null,
   "id": "d96521ee",
   "metadata": {},
   "outputs": [],
   "source": []
  },
  {
   "cell_type": "code",
   "execution_count": null,
   "id": "2e841ce4",
   "metadata": {},
   "outputs": [],
   "source": [
    "sum(1 for i in range(0, n-4) if np.all(s[i:i+4] == [\"cara\", \"cara\", \"cara\", \"cara\"]))"
   ]
  },
  {
   "cell_type": "code",
   "execution_count": null,
   "id": "76b69da9",
   "metadata": {},
   "outputs": [],
   "source": [
    "sum(1 for i in range(0, n-4) if np.all(s[i:i+4] == [\"cara\", \"cara\", \"cara\", \"ceca\"]))"
   ]
  },
  {
   "cell_type": "code",
   "execution_count": null,
   "id": "f0950c48",
   "metadata": {},
   "outputs": [],
   "source": [
    "np.sum(np.all(s[i:i+4] == [\"cara\", \"cara\", \"cara\", \"cara\"]) for i in range(0, n-4))"
   ]
  },
  {
   "cell_type": "markdown",
   "id": "ca4c5303",
   "metadata": {},
   "source": [
    "**Ejercicio.** Se tira $n$ veces una moneda. Intentar predecir, si existen, los siguientes límites cuando $n$ tiene a infinito y verificar la intuición mediante simulaciones.\n",
    "\n",
    "1. La cantidad de caras dividido por la cantidad de cecas.\n",
    "2. La cantidad de caras menos la cantidad de cecas\n",
    "3. La cantidad de caras menos la cantidad de cecas, divido por la cantidad total de tiradas.\n",
    "4. Considerando las veces que salieron tres caras seguidas, el promedio de veces que en la siguiente tirada sale nuevamente cara.\n"
   ]
  },
  {
   "cell_type": "code",
   "execution_count": 185,
   "id": "ade041ef-585f-4226-8fc2-a5dd03fe3f5c",
   "metadata": {},
   "outputs": [
    {
     "name": "stdout",
     "output_type": "stream",
     "text": [
      "0.9913575084134855\n"
     ]
    }
   ],
   "source": [
    "#1.\n",
    "def tirar_monedas(n):\n",
    "    moneda = np.array(['cara','ceca'])\n",
    "    s = np.random.choice(moneda, size=n)\n",
    "    return s\n",
    "\n",
    "\n",
    "n=100000\n",
    "simulacion = tirar_monedas(n)\n",
    "# print(simulacion)\n",
    "caras = simulacion[simulacion == 'cara']\n",
    "cecas = simulacion[simulacion == 'ceca']\n",
    "\n",
    "res = len(caras)/len(cecas)\n",
    "\n",
    "print(res)\n",
    "\n"
   ]
  },
  {
   "cell_type": "code",
   "execution_count": 186,
   "id": "00048e53-4aec-4495-b737-926738d1948f",
   "metadata": {},
   "outputs": [
    {
     "name": "stdout",
     "output_type": "stream",
     "text": [
      "-434\n"
     ]
    }
   ],
   "source": [
    "#2.\n",
    "resta = np.subtract(len(caras),len(cecas))\n",
    "print(resta)"
   ]
  },
  {
   "cell_type": "code",
   "execution_count": 187,
   "id": "ba063896-c725-42d6-8269-f83e5ed34155",
   "metadata": {},
   "outputs": [
    {
     "name": "stdout",
     "output_type": "stream",
     "text": [
      "-0.00434\n"
     ]
    }
   ],
   "source": [
    "#3.\n",
    "print(resta/n)"
   ]
  },
  {
   "cell_type": "code",
   "execution_count": 188,
   "id": "a1c05a11-5962-450f-8b29-1de6a7e1ec33",
   "metadata": {},
   "outputs": [
    {
     "name": "stdout",
     "output_type": "stream",
     "text": [
      "0.49075511644318986\n"
     ]
    }
   ],
   "source": [
    "#4. Considerando las veces que salieron tres caras seguidas, el promedio de veces que en la siguiente tirada sale nuevamente cara.\n",
    "contador_3_caras_seguidas = 0\n",
    "contador_siguiente_cara_despues_3 = 0\n",
    "grupo_caras = []\n",
    "\n",
    "for valor in simulacion:\n",
    "    if valor == 'cara':\n",
    "        if len(grupo_caras) == 3:\n",
    "            contador_siguiente_cara_despues_3 += 1\n",
    "            grupo_caras = []\n",
    "        grupo_caras.append(valor)\n",
    "        if len(grupo_caras) == 3:\n",
    "            contador_3_caras_seguidas += 1\n",
    "    else:\n",
    "        grupo_caras = []\n",
    "\n",
    "promedio_siguiente_cara_despues_3 = contador_siguiente_cara_despues_3 / contador_3_caras_seguidas\n",
    "\n",
    "print(promedio_siguiente_cara_despues_3)\n",
    "\n"
   ]
  },
  {
   "cell_type": "markdown",
   "id": "5092ed3c",
   "metadata": {},
   "source": [
    "## Archivos de datos"
   ]
  },
  {
   "cell_type": "markdown",
   "id": "21cb5c13",
   "metadata": {},
   "source": [
    "La biblioteca Pandas nos permite trabajar fácilmente con archivos de datos.\n",
    "1. Leer el archivo casos_coronavirus.csv .\n",
    "2. Graficar la curva de casos por día.\n",
    "3. Graficar la curva de casos acumulados.\n",
    "4. Definir log_cum_casos como el logaritmo de la cantidad de casos acumulados y graficar en función de la cantidad de días transcurridos.\n",
    "5. Estimar, tomando dos valores, la pendiente de la recta para los datos a partir del dia 30.\n",
    "6. Graficar la recta estimada junto con los datos. ¿Consideran que es una buena estimación?\n",
    "\n",
    "Utilicen o modifiquen el siguiente código."
   ]
  },
  {
   "cell_type": "code",
   "execution_count": 2,
   "id": "94abd384",
   "metadata": {},
   "outputs": [
    {
     "data": {
      "text/html": [
       "<div>\n",
       "<style scoped>\n",
       "    .dataframe tbody tr th:only-of-type {\n",
       "        vertical-align: middle;\n",
       "    }\n",
       "\n",
       "    .dataframe tbody tr th {\n",
       "        vertical-align: top;\n",
       "    }\n",
       "\n",
       "    .dataframe thead th {\n",
       "        text-align: right;\n",
       "    }\n",
       "</style>\n",
       "<table border=\"1\" class=\"dataframe\">\n",
       "  <thead>\n",
       "    <tr style=\"text-align: right;\">\n",
       "      <th></th>\n",
       "      <th>fecha</th>\n",
       "      <th>confirmados_Nuevos</th>\n",
       "    </tr>\n",
       "  </thead>\n",
       "  <tbody>\n",
       "    <tr>\n",
       "      <th>0</th>\n",
       "      <td>3-3-2020</td>\n",
       "      <td>1</td>\n",
       "    </tr>\n",
       "    <tr>\n",
       "      <th>1</th>\n",
       "      <td>4-3-2020</td>\n",
       "      <td>0</td>\n",
       "    </tr>\n",
       "    <tr>\n",
       "      <th>2</th>\n",
       "      <td>5-3-2020</td>\n",
       "      <td>1</td>\n",
       "    </tr>\n",
       "    <tr>\n",
       "      <th>3</th>\n",
       "      <td>6-3-2020</td>\n",
       "      <td>6</td>\n",
       "    </tr>\n",
       "    <tr>\n",
       "      <th>4</th>\n",
       "      <td>7-3-2020</td>\n",
       "      <td>0</td>\n",
       "    </tr>\n",
       "  </tbody>\n",
       "</table>\n",
       "</div>"
      ],
      "text/plain": [
       "      fecha  confirmados_Nuevos\n",
       "0  3-3-2020                   1\n",
       "1  4-3-2020                   0\n",
       "2  5-3-2020                   1\n",
       "3  6-3-2020                   6\n",
       "4  7-3-2020                   0"
      ]
     },
     "execution_count": 2,
     "metadata": {},
     "output_type": "execute_result"
    }
   ],
   "source": [
    "import pandas as pd\n",
    "import matplotlib.pyplot as plt\n",
    "df = pd.read_csv(\"casos_coronavirus.csv\") # DataFrame\n",
    "df.head()  # Primeras filas del DataFrame"
   ]
  },
  {
   "cell_type": "code",
   "execution_count": 3,
   "id": "7087421a",
   "metadata": {},
   "outputs": [
    {
     "name": "stdout",
     "output_type": "stream",
     "text": [
      "<class 'pandas.core.frame.DataFrame'>\n",
      "RangeIndex: 96 entries, 0 to 95\n",
      "Data columns (total 2 columns):\n",
      " #   Column              Non-Null Count  Dtype \n",
      "---  ------              --------------  ----- \n",
      " 0   fecha               96 non-null     object\n",
      " 1   confirmados_Nuevos  96 non-null     int64 \n",
      "dtypes: int64(1), object(1)\n",
      "memory usage: 1.6+ KB\n"
     ]
    }
   ],
   "source": [
    "# Información básica del DataFrame\n",
    "df.info()"
   ]
  },
  {
   "cell_type": "markdown",
   "id": "d20d6bf9",
   "metadata": {},
   "source": [
    "Vamos a ver más sobre la biblioteca `pandas` y data frames en la próxima clase. En este\n",
    "ejemplo, convertimos los datos a arrays de numpy para utilizar las herramientas de los ejercicios\n",
    "anteriores."
   ]
  },
  {
   "cell_type": "code",
   "execution_count": 4,
   "id": "d894b7fe",
   "metadata": {},
   "outputs": [
    {
     "data": {
      "text/plain": [
       "numpy.ndarray"
      ]
     },
     "execution_count": 4,
     "metadata": {},
     "output_type": "execute_result"
    }
   ],
   "source": [
    "# Convertimos la columna de casos nuevos a np.array\n",
    "casos_diarios = df.confirmados_Nuevos.values\n",
    "type(casos_diarios)"
   ]
  },
  {
   "cell_type": "code",
   "execution_count": 5,
   "id": "da574d42",
   "metadata": {},
   "outputs": [
    {
     "data": {
      "text/plain": [
       "dtype('int64')"
      ]
     },
     "execution_count": 5,
     "metadata": {},
     "output_type": "execute_result"
    }
   ],
   "source": [
    "casos_diarios.dtype # Es un array de enteros"
   ]
  },
  {
   "cell_type": "code",
   "execution_count": 6,
   "id": "047842bb",
   "metadata": {},
   "outputs": [
    {
     "data": {
      "text/plain": [
       "[<matplotlib.lines.Line2D at 0x178cc563290>]"
      ]
     },
     "execution_count": 6,
     "metadata": {},
     "output_type": "execute_result"
    },
    {
     "data": {
      "image/png": "[encoded data removed]",
      "text/plain": [
       "<Figure size 640x480 with 1 Axes>"
      ]
     },
     "metadata": {},
     "output_type": "display_data"
    }
   ],
   "source": [
    "# Graficamos la serie de casos diarios\n",
    "plt.plot(casos_diarios)"
   ]
  },
  {
   "cell_type": "code",
   "execution_count": 11,
   "id": "81d8ac2d",
   "metadata": {},
   "outputs": [
    {
     "data": {
      "text/plain": [
       "[<matplotlib.lines.Line2D at 0x178cc634aa0>]"
      ]
     },
     "execution_count": 11,
     "metadata": {},
     "output_type": "execute_result"
    },
    {
     "data": {
      "image/png": "[encoded data removed]",
      "text/plain": [
       "<Figure size 640x480 with 1 Axes>"
      ]
     },
     "metadata": {},
     "output_type": "display_data"
    }
   ],
   "source": [
    "# Calculamos los casos acumulados y graficamos\n",
    "casos_acumulados = casos_diarios.cumsum()\n",
    "plt.plot(casos_acumulados)"
   ]
  },
  {
   "cell_type": "code",
   "execution_count": 14,
   "id": "f2897e8e",
   "metadata": {},
   "outputs": [],
   "source": [
    "# Tomamos logaritmos para linealizar \n",
    "y = np.log(casos_acumulados)"
   ]
  },
  {
   "cell_type": "code",
   "execution_count": 15,
   "id": "b340b424",
   "metadata": {},
   "outputs": [
    {
     "data": {
      "text/plain": [
       "[<matplotlib.lines.Line2D at 0x178ceba44d0>]"
      ]
     },
     "execution_count": 15,
     "metadata": {},
     "output_type": "execute_result"
    },
    {
     "data": {
      "image/png": "[encoded data removed]",
      "text/plain": [
       "<Figure size 640x480 with 1 Axes>"
      ]
     },
     "metadata": {},
     "output_type": "display_data"
    }
   ],
   "source": [
    "# Graficamos\n",
    "plt.plot(y)"
   ]
  },
  {
   "cell_type": "code",
   "execution_count": 21,
   "id": "84bafb61",
   "metadata": {},
   "outputs": [
    {
     "data": {
      "text/plain": [
       "[<matplotlib.lines.Line2D at 0x178cf0d77d0>]"
      ]
     },
     "execution_count": 21,
     "metadata": {},
     "output_type": "execute_result"
    },
    {
     "data": {
      "image/png": "[encoded data removed]",
      "text/plain": [
       "<Figure size 640x480 with 1 Axes>"
      ]
     },
     "metadata": {},
     "output_type": "display_data"
    }
   ],
   "source": [
    "# Agregamos la recta\n",
    "x_recta = 1\n",
    "y_recta = 111\n",
    "plt.plot(y)\n",
    "plt.plot(x_recta, y_recta)\n"
   ]
  },
  {
   "cell_type": "code",
   "execution_count": null,
   "id": "6a462899",
   "metadata": {},
   "outputs": [],
   "source": []
  }
 ],
 "metadata": {
  "kernelspec": {
   "display_name": "Python 3 (ipykernel)",
   "language": "python",
   "name": "python3"
  },
  "language_info": {
   "codemirror_mode": {
    "name": "ipython",
    "version": 3
   },
   "file_extension": ".py",
   "mimetype": "text/x-python",
   "name": "python",
   "nbconvert_exporter": "python",
   "pygments_lexer": "ipython3",
   "version": "3.12.2"
  }
 },
 "nbformat": 4,
 "nbformat_minor": 5
}
